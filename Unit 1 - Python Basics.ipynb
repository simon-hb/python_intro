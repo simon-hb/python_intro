{
 "cells": [
  {
   "cell_type": "markdown",
   "metadata": {
    "colab_type": "text",
    "id": "DqcNL_5xqXK2"
   },
   "source": [
    "<div style='display: flex; justify-content: space-between; align-items: center; width: 100%; height: 100%;'>\n",
    "    <div style=\"width: 100%;\"><h3> Python Programming </h3></div>\n",
    "    <div>\n",
    "        <img style=\"height:65px; min-width: 255px; max-width: 355px;\" src =\"https://drive.google.com/uc?export=view&id=1EnB0x-fdqMp6I5iMoEBBEuxB_s7AmE2k\" />\n",
    "    </div>\n",
    "</div>"
   ]
  },
  {
   "cell_type": "markdown",
   "metadata": {},
   "source": [
    "We can add cells. Cells are by default code (which allows us to enter python code [langugage is top right]). However if you check it as markdown, then we can type notes as I did in this cell.\n",
    "Press shift + enter to run/ save the cell. Press enter for line break. Jupyter notebooks are normally blank but brainstation has provided us with these templates making it easier to learn"
   ]
  },
  {
   "cell_type": "markdown",
   "metadata": {
    "colab_type": "text",
    "id": "w6sRxOD_qXK4"
   },
   "source": [
    "# Unit 1: Python Basics\n",
    "## In This Lesson You Will...\n",
    "- Understand how to define variables to store values for later use\n",
    "- Understand the basic data types and how to choose the correct type to represent a piece of data\n",
    "- Perform mathematical calculations using the appropriate mathematical operators\n",
    "- Understand how to break down complex expressions into smaller pieces\n",
    "\n",
    "## Syntax\n",
    "Syntax can be understood as the types of characters used and how they can be arranged to form a specific ruleset. In Python, we use symbols and indentation to form a set of rules to write python code. For our Python code to run, we must use a Python interpreter to read and understand our syntax. An interpreter is a computer program used to directly read and execute source code.\n",
    "\n",
    "## Variables\n",
    "In mathematics we can write the following:<br>\n",
    "    &nbsp;&nbsp; x = 1 <br>\n",
    "    &nbsp;&nbsp; y = 2 <br>\n",
    "    &nbsp;&nbsp; z = x + y <br><br>\n",
    "These simple math variables represent the syntax for the addition of two numbers. In Python, the syntax for defining a variable and adding numbers is identical."
   ]
  },
  {
   "cell_type": "code",
   "execution_count": 1,
   "metadata": {
    "colab": {},
    "colab_type": "code",
    "id": "cVRav9k1qXK5",
    "outputId": "c7f6f25b-4a4c-44ca-da7d-f4ec9d44ffc0"
   },
   "outputs": [
    {
     "name": "stdout",
     "output_type": "stream",
     "text": [
      "3\n"
     ]
    }
   ],
   "source": [
    "x = 1\n",
    "y = 2\n",
    "z = x + y\n",
    "print(z)"
   ]
  },
  {
   "cell_type": "markdown",
   "metadata": {
    "colab_type": "text",
    "id": "tnzygfUKqXLE"
   },
   "source": [
    "### Creating a Variable in Python\n",
    "Variables allow us to store information that can later be used in an expression. To define a variable in Python, we must first state the name we want our variable to be. To assign a value to that name, we must use the \"Assignment Operator\" which is denoted by the equal (`=`) symbol. Finally, on the right-hand side of the equal sign (`=`), we give it the value we want our variable to hold.\n",
    "\n",
    ">Note: You may use any word to name your variable however there are specific keywords that are reserved in Python that cannot be used as variable names. Please refer [here](https://www.programiz.com/python-programming/keyword-list) for a list of Python's reserved words. \n",
    "\n",
    "## Expressions vs. Statements\n",
    "### Expressions\n",
    "An expression is simply a value except it can contain operations such as addition or subtraction. An example of an expression is the right-hand side of defining a variable.\n",
    "### Statements\n",
    "A statement is an instruction that the python interpreter can understand and execute."
   ]
  },
  {
   "cell_type": "markdown",
   "metadata": {
    "colab_type": "text",
    "id": "YsdECUIvqXLF"
   },
   "source": [
    "<img src='https://drive.google.com/uc?export=view&id=1pHbmjuqcTXPbq-69RbAWSKGUlh4QhsIT' style='float:left'/>"
   ]
  },
  {
   "cell_type": "markdown",
   "metadata": {
    "colab_type": "text",
    "id": "GnvT_1l2qXLH"
   },
   "source": [
    "## Mathematical Operators\n",
    "<img src='https://drive.google.com/uc?export=view&id=1HuP6lpWfQM6JWfspGxoyLmmBnvdUsc1h' style='float:left;' />"
   ]
  },
  {
   "cell_type": "markdown",
   "metadata": {
    "colab_type": "text",
    "id": "LSXaLSNOqXLI"
   },
   "source": [
    "Python evaluates every mathematical expression by following the BEDMAS ruleset. Try manipulating the expression below by removing the brackets to see the difference in evaluation. To see this new evaluation, select the `Run` button at the top of the page.  "
   ]
  },
  {
   "cell_type": "code",
   "execution_count": 2,
   "metadata": {
    "colab": {},
    "colab_type": "code",
    "id": "RIE3VNsWqXLJ",
    "outputId": "b1970a82-1fca-4555-e995-c5a0cf51e6f0"
   },
   "outputs": [
    {
     "name": "stdout",
     "output_type": "stream",
     "text": [
      "77.0\n",
      "38.75\n"
     ]
    }
   ],
   "source": [
    "lucky = 2 * (45 - 2**2) - (12 / 2) + 1\n",
    "\n",
    "#Do not remove brackets from the print function\n",
    "print(lucky)\n",
    "\n",
    "\n",
    "unlucky = 13 * 3 - (4/8)**2\n",
    "print(unlucky)"
   ]
  },
  {
   "cell_type": "markdown",
   "metadata": {
    "colab_type": "text",
    "id": "p9gqpqcMqXLO"
   },
   "source": [
    "## Activity: Expressions\n",
    "\n",
    "### Instructions\n",
    "1. In the new cell below, write the following statements:\n",
    "    - x is equal to the number 25\n",
    "    - y is equal to the number 2\n",
    "    - z is equal to the number 999\n",
    "2. Write 5 different expressions using x,y and z that evaluate to the number zero(0)\n",
    "3. For only the 5th expression, assign that expression to a variable using an assignment statement\n",
    "    - Ex. five = (z / y / x) - 7 * y"
   ]
  },
  {
   "cell_type": "code",
   "execution_count": 4,
   "metadata": {
    "colab": {},
    "colab_type": "code",
    "id": "mA33sTovqXLP"
   },
   "outputs": [
    {
     "name": "stdout",
     "output_type": "stream",
     "text": [
      "0\n",
      "0.0\n",
      "0\n",
      "0\n",
      "0\n"
     ]
    }
   ],
   "source": [
    "# Write code here\n",
    "\n",
    "x = 25\n",
    "y = 2\n",
    "z = 999\n",
    "\n",
    "print(x*0)\n",
    "print(0/y)\n",
    "print(z-z)\n",
    "print((x+y+z)*0)\n",
    "five = (x*y*z-25*2*999)\n",
    "print(five)"
   ]
  },
  {
   "cell_type": "markdown",
   "metadata": {
    "colab_type": "text",
    "id": "59hPNd5LqXLV"
   },
   "source": [
    "## Basic Data Types\n",
    "\n",
    "### Strings\n",
    "Strings represent values that are characters, words or any other type of text. An example of a use case for a string is person's first name or the title of your favorite book. "
   ]
  },
  {
   "cell_type": "code",
   "execution_count": 5,
   "metadata": {
    "colab": {},
    "colab_type": "code",
    "id": "092qU5pCqXLW"
   },
   "outputs": [],
   "source": [
    "# Examples of a string\n",
    "f_name = \"Payton\"\n",
    "l_name = \"Yale\"\n",
    "favorite_book = 'Learning Python Essentials'"
   ]
  },
  {
   "cell_type": "markdown",
   "metadata": {
    "colab_type": "text",
    "id": "7jtnJgZ1qXLf"
   },
   "source": [
    "Notice that a `string` in Python can be surrounded by single quotation marks or double quotation marks. \n",
    "\n",
    "Python allows us to perform mathematical operations on strings which will result in the creation of a new `string`. Using the first and last name from the example above, we can add or \"concatenate\" them together to create a person's full name."
   ]
  },
  {
   "cell_type": "code",
   "execution_count": null,
   "metadata": {
    "colab": {},
    "colab_type": "code",
    "id": "sG41EaOAqXLi",
    "outputId": "f80cd270-4943-4ac9-d596-ab948ab7f87f",
    "scrolled": true
   },
   "outputs": [
    {
     "name": "stdout",
     "output_type": "stream",
     "text": [
      "Payton Yale\n"
     ]
    }
   ],
   "source": [
    "full_name = f_name + \" \" + l_name\n",
    "print(full_name)"
   ]
  },
  {
   "cell_type": "markdown",
   "metadata": {
    "colab_type": "text",
    "id": "vWPiaAUAqXLp"
   },
   "source": [
    "What do you expect will happen in the code example below?"
   ]
  },
  {
   "cell_type": "code",
   "execution_count": null,
   "metadata": {
    "colab": {},
    "colab_type": "code",
    "id": "bD7gKyz1qXLr"
   },
   "outputs": [],
   "source": [
    "adding_number_types = 2 + 2\n",
    "adding_string_types = '2' + '2'\n",
    "\n",
    "print(adding_number_types)\n",
    "print(adding_string_types)"
   ]
  },
  {
   "cell_type": "markdown",
   "metadata": {
    "colab_type": "text",
    "id": "-Spks4giqXMA"
   },
   "source": [
    ">Note: Operators function differently depending on type. For example: the `+` operator will **add** `number`s but **concatenate** `string`s.\n",
    "\n",
    "Furthermore, we can use the `*` operator to multiple strings together."
   ]
  },
  {
   "cell_type": "code",
   "execution_count": null,
   "metadata": {
    "colab": {},
    "colab_type": "code",
    "id": "X1oIJ92iqXMA",
    "outputId": "2070a716-1795-4e4e-a290-c4f5e00b5cf4",
    "scrolled": true
   },
   "outputs": [
    {
     "name": "stdout",
     "output_type": "stream",
     "text": [
      "222\n",
      "##########\n"
     ]
    }
   ],
   "source": [
    "print('2' * 3)\n",
    "print('#' * 10)"
   ]
  },
  {
   "cell_type": "markdown",
   "metadata": {
    "colab_type": "text",
    "id": "1uALIeXMqXMI"
   },
   "source": [
    "What do you think will happen when we try to multiple two strings together?"
   ]
  },
  {
   "cell_type": "code",
   "execution_count": null,
   "metadata": {
    "colab": {},
    "colab_type": "code",
    "id": "FIIaCUnPqXMJ",
    "outputId": "d3a67b6c-f657-4dab-e099-a12de7b18c54"
   },
   "outputs": [
    {
     "ename": "TypeError",
     "evalue": "can't multiply sequence by non-int of type 'str'",
     "output_type": "error",
     "traceback": [
      "\u001b[0;31m---------------------------------------------------------------------------\u001b[0m",
      "\u001b[0;31mTypeError\u001b[0m                                 Traceback (most recent call last)",
      "\u001b[0;32m<ipython-input-7-7531711c591e>\u001b[0m in \u001b[0;36m<module>\u001b[0;34m\u001b[0m\n\u001b[0;32m----> 1\u001b[0;31m \u001b[0mprint\u001b[0m\u001b[0;34m(\u001b[0m\u001b[0;34m'2'\u001b[0m \u001b[0;34m*\u001b[0m \u001b[0;34m'3'\u001b[0m\u001b[0;34m)\u001b[0m\u001b[0;34m\u001b[0m\u001b[0;34m\u001b[0m\u001b[0m\n\u001b[0m",
      "\u001b[0;31mTypeError\u001b[0m: can't multiply sequence by non-int of type 'str'"
     ]
    }
   ],
   "source": [
    "print('2' * '3')"
   ]
  },
  {
   "cell_type": "markdown",
   "metadata": {
    "colab_type": "text",
    "id": "KyEXlMHrqXMO"
   },
   "source": [
    "### Numbers\n",
    "Python has several types to represent `number`s including Integer and Float.\n",
    "    - Integer is used to represent whole numbers\n",
    "    - Float is used to represent fractional or irrational numbers "
   ]
  },
  {
   "cell_type": "code",
   "execution_count": null,
   "metadata": {
    "colab": {},
    "colab_type": "code",
    "id": "IWd-c4LuqXMQ",
    "outputId": "53a7ff20-9de7-4dd3-96de-692090187c99",
    "scrolled": true
   },
   "outputs": [
    {
     "name": "stdout",
     "output_type": "stream",
     "text": [
      "5.0\n",
      "5.0\n",
      "3.3333333333333335\n",
      "1.6666666666666667\n"
     ]
    }
   ],
   "source": [
    "integer_number = 10 / 2\n",
    "print(integer_number)\n",
    "\n",
    "float_number = 10.0 / 2.0\n",
    "print(float_number)\n",
    "\n",
    "missing_remainder = 10 / 3\n",
    "print(missing_remainder)\n",
    "\n",
    "multi_type_numbers = 10 / 6.0\n",
    "print(multi_type_numbers)"
   ]
  },
  {
   "cell_type": "markdown",
   "metadata": {
    "colab_type": "text",
    "id": "te8iETRoqXMW"
   },
   "source": [
    "Python will automatically convert each expression to its appropriate number type. If we wanted to convert a float to an integer we can pass our value to the `int` function. The conversion from integer to a float can be achieved in a similar manner by passing our value to the float function."
   ]
  },
  {
   "cell_type": "code",
   "execution_count": null,
   "metadata": {
    "colab": {},
    "colab_type": "code",
    "id": "MIgirGUYqXMY",
    "outputId": "06e323f3-42e3-4f6b-a334-fd7b78b969c9",
    "scrolled": true
   },
   "outputs": [
    {
     "name": "stdout",
     "output_type": "stream",
     "text": [
      "1\n",
      "4.0\n"
     ]
    }
   ],
   "source": [
    "convert_to_int = int(1.6666667)\n",
    "print(convert_to_int)\n",
    "\n",
    "convert_to_float = float(4)\n",
    "print(convert_to_float)"
   ]
  },
  {
   "cell_type": "markdown",
   "metadata": {
    "colab_type": "text",
    "id": "nbJkGm1JqXMf"
   },
   "source": [
    "### Booleans\n",
    "Booleans represent a dichotomy as either a `True` or `False` value. We can use booleans to represent real-world dichotomies such as:\n",
    " - Yes or No\n",
    " - Correct or Incorrect\n",
    " - Left or Right\n",
    " - On or Off\n",
    " \n",
    "A combination of dichotomy expressions can create more complex comparisons. To combine `boolean` values we can use the \"Boolean Operators\" `and`, `or` and `not`"
   ]
  },
  {
   "cell_type": "code",
   "execution_count": null,
   "metadata": {
    "colab": {},
    "colab_type": "code",
    "id": "LkEudDESqXMg",
    "outputId": "c31342a7-e50e-4a46-8614-0e56bb378e42",
    "scrolled": true
   },
   "outputs": [
    {
     "name": "stdout",
     "output_type": "stream",
     "text": [
      "False\n",
      "False\n",
      "True\n"
     ]
    }
   ],
   "source": [
    "is_tall = True\n",
    "is_short = not True\n",
    "print(is_short)\n",
    "\n",
    "im_tall = False\n",
    "im_human = True\n",
    "\n",
    "im_both = im_human and im_tall\n",
    "print(im_both)\n",
    "\n",
    "im_either = im_human or im_tall\n",
    "print(im_either)"
   ]
  },
  {
   "cell_type": "markdown",
   "metadata": {
    "colab_type": "text",
    "id": "vhTwwoPQqXMl"
   },
   "source": [
    "## Why Types Matter\n",
    "Types matter as we need our data to be predictable and represented appropriately. Some programming languages are strict about types but in Python it is known to have \"Duck Typing\". The idea of a duck-typed programming language is that \"if it walks like a duck and quacks like a duck, then it must be a duck\". \n",
    "\n",
    "In Python, its Duck-Typing acts more like \"It's a duck until it's not a duck\". Essentially, every type is assumed to be the correct type, until you try to use a property or method that isn't available. At that point, Python will produce an error of 'AttributeError' or 'TypeError' to warn you of an improper type use. This may not make a lot of sense right now but as we more through the course material you will begin to understand.\n",
    "\n",
    "The benefit of a Duck-Typed language is that its main focus is more about convenience than type safety. This allows for more flexibility while programming and for that reason, Python is an ideal language for beginners."
   ]
  },
  {
   "cell_type": "markdown",
   "metadata": {
    "colab_type": "text",
    "id": "K-ygIofqqXMm"
   },
   "source": [
    "<div id=\"container\" style=\"position:relative;\">\n",
    "    <div style=\"position:relative; float:right\"><img style=\"height:25px\"\"width: 50px\" src =\"https://drive.google.com/uc?export=view&id=14VoXUJftgptWtdNhtNYVm6cjVmEWpki1\" />\n",
    "    </div>\n",
    "</div>"
   ]
  }
 ],
 "metadata": {
  "colab": {
   "name": "[NEXT] Unit 1 - Python Basics.ipynb",
   "provenance": []
  },
  "kernelspec": {
   "display_name": "Python 3",
   "language": "python",
   "name": "python3"
  },
  "language_info": {
   "codemirror_mode": {
    "name": "ipython",
    "version": 3
   },
   "file_extension": ".py",
   "mimetype": "text/x-python",
   "name": "python",
   "nbconvert_exporter": "python",
   "pygments_lexer": "ipython3",
   "version": "3.8.5"
  }
 },
 "nbformat": 4,
 "nbformat_minor": 1
}
