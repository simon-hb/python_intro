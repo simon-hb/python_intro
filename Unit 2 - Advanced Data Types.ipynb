{
 "cells": [
  {
   "cell_type": "markdown",
   "metadata": {
    "colab_type": "text",
    "id": "Ig4fzRnxrLT2"
   },
   "source": [
    "### Python Programming\n",
    "<img style = \"position:absolute; TOP:0px; LEFT:840px; WIDTH:250px; HEIGHT:65px\"  src =\"https://drive.google.com/uc?export=view&id=1EnB0x-fdqMp6I5iMoEBBEuxB_s7AmE2k\" />"
   ]
  },
  {
   "cell_type": "markdown",
   "metadata": {
    "colab_type": "text",
    "id": "V3TP3R0mrLT3"
   },
   "source": [
    "# Unit 2: Advanced Data Types\n",
    "## In This Lesson You Will...\n",
    "- Select the appropriate type to hold different data \n",
    "- Manipulate instances of more complex types using methods\n",
    "- Organize large sets of information into a single dictionary"
   ]
  },
  {
   "cell_type": "markdown",
   "metadata": {
    "colab_type": "text",
    "id": "UN0R2YK4rLT4"
   },
   "source": [
    "## Lists\n",
    "A List is one of the most versatile data types available in Python. It is a data type that can contain any number of items where these items can be of any data type. To define a list we use square brackets `[]` and each item must be separated by a comma. Each item in a list can be of a different type meaning that a list is not constrained to only containing a collection of one data type. "
   ]
  },
  {
   "cell_type": "code",
   "execution_count": null,
   "metadata": {
    "colab": {},
    "colab_type": "code",
    "id": "TECHZIurrLT4"
   },
   "outputs": [],
   "source": [
    "empty_list = []\n",
    "# List containing only string types\n",
    "fruits = ['apple', 'peach']\n",
    "# List containing only numbers\n",
    "tally = [5,8,1]\n",
    "# List containing multiple types\n",
    "multitype = ['apple', 8, 1]"
   ]
  },
  {
   "cell_type": "markdown",
   "metadata": {
    "colab_type": "text",
    "id": "jGJJ_rj7rLT7"
   },
   "source": [
    "### Accessing Items in a List\n",
    "The position or location of an item in a list is known as its index. It is important to know that indexing a list must be an integer value and it starts at zero. For example, the first item lives at position zero, the second item lives at position one and so on. To access an item, we can specify its index by calling the list name and denoting the index operator `[]` with the position of the item placed inside. "
   ]
  },
  {
   "cell_type": "code",
   "execution_count": 3,
   "metadata": {
    "colab": {},
    "colab_type": "code",
    "id": "DAU8XNAgrLT8",
    "outputId": "2e136e1f-afdb-402a-abf5-72ea1bae64d6"
   },
   "outputs": [
    {
     "name": "stdout",
     "output_type": "stream",
     "text": [
      "apple\n",
      "peach\n"
     ]
    }
   ],
   "source": [
    "fruits = ['apple', 'peach']\n",
    "print(fruits[0])\n",
    "print(fruits[1])"
   ]
  },
  {
   "cell_type": "code",
   "execution_count": 8,
   "metadata": {
    "colab": {},
    "colab_type": "code",
    "id": "URNq-w4arLT_",
    "outputId": "f2b882d4-0394-4f10-f0fd-25712ea49d5f"
   },
   "outputs": [
    {
     "name": "stdout",
     "output_type": "stream",
     "text": [
      "hi\n",
      "bye\n"
     ]
    }
   ],
   "source": [
    "# Reversed fruits list\n",
    "r_fruits = ['peach', 'apple']\n",
    "print(r_fruits[0])\n",
    "print(r_fruits[1])"
   ]
  },
  {
   "cell_type": "markdown",
   "metadata": {
    "colab_type": "text",
    "id": "di5dkuoqrLUD"
   },
   "source": [
    "If we want to access an item from the end of the list we can index using a negative number. Negative indexes run from the end of the list instead of at the beginning. If the negative index goes beyond the length of the list, you will receive an \"IndexError\"."
   ]
  },
  {
   "cell_type": "code",
   "execution_count": null,
   "metadata": {
    "colab": {},
    "colab_type": "code",
    "id": "jFMFmccLrLUD",
    "outputId": "74d8c376-7f78-484b-9bff-3485f1a27c7b"
   },
   "outputs": [
    {
     "name": "stdout",
     "output_type": "stream",
     "text": [
      "c\n",
      "b\n",
      "a\n"
     ]
    },
    {
     "ename": "IndexError",
     "evalue": "list index out of range",
     "output_type": "error",
     "traceback": [
      "\u001b[0;31m---------------------------------------------------------------------------\u001b[0m",
      "\u001b[0;31mIndexError\u001b[0m                                Traceback (most recent call last)",
      "\u001b[0;32m<ipython-input-7-b58d1037d8c1>\u001b[0m in \u001b[0;36m<module>\u001b[0;34m\u001b[0m\n\u001b[1;32m      3\u001b[0m \u001b[0mprint\u001b[0m\u001b[0;34m(\u001b[0m\u001b[0mletters\u001b[0m\u001b[0;34m[\u001b[0m\u001b[0;34m-\u001b[0m\u001b[0;36m2\u001b[0m\u001b[0;34m]\u001b[0m\u001b[0;34m)\u001b[0m\u001b[0;34m\u001b[0m\u001b[0;34m\u001b[0m\u001b[0m\n\u001b[1;32m      4\u001b[0m \u001b[0mprint\u001b[0m\u001b[0;34m(\u001b[0m\u001b[0mletters\u001b[0m\u001b[0;34m[\u001b[0m\u001b[0;34m-\u001b[0m\u001b[0;36m3\u001b[0m\u001b[0;34m]\u001b[0m\u001b[0;34m)\u001b[0m\u001b[0;34m\u001b[0m\u001b[0;34m\u001b[0m\u001b[0m\n\u001b[0;32m----> 5\u001b[0;31m \u001b[0mprint\u001b[0m\u001b[0;34m(\u001b[0m\u001b[0mletters\u001b[0m\u001b[0;34m[\u001b[0m\u001b[0;34m-\u001b[0m\u001b[0;36m4\u001b[0m\u001b[0;34m]\u001b[0m\u001b[0;34m)\u001b[0m\u001b[0;34m\u001b[0m\u001b[0;34m\u001b[0m\u001b[0m\n\u001b[0m",
      "\u001b[0;31mIndexError\u001b[0m: list index out of range"
     ]
    }
   ],
   "source": [
    "letters = ['a', 'b', 'c']\n",
    "print(letters[-1])\n",
    "print(letters[-2])\n",
    "print(letters[-3])\n",
    "print(letters[-4])"
   ]
  },
  {
   "cell_type": "markdown",
   "metadata": {
    "colab_type": "text",
    "id": "i8sQNlVWrLUG"
   },
   "source": [
    "### List Operations\n",
    "You may recall that lists can contain any number of items. Due to this fact, we do not want to create a new list every time we want to make a change as this could be very expensive in computation time. To make updating lists easily, Python allows lists to be mutable meaning that we can modify the original list at any given time. \n",
    "\n",
    "To update a list, we can use different list methods such as `append` or `pop`. The append method will add an item to the end of a list while pop will remove an item."
   ]
  },
  {
   "cell_type": "code",
   "execution_count": null,
   "metadata": {
    "colab": {},
    "colab_type": "code",
    "id": "O4NgZtU1rLUG",
    "outputId": "58aed903-c435-44b0-ef38-c8710311e8a1"
   },
   "outputs": [
    {
     "name": "stdout",
     "output_type": "stream",
     "text": [
      "add:  ['Value']\n",
      "remove:  []\n"
     ]
    }
   ],
   "source": [
    "# Add an item \n",
    "empty_list = []\n",
    "empty_list.append('Value')\n",
    "print('add: ', empty_list)\n",
    "\n",
    "# Remove an item\n",
    "empty_list.pop(0)\n",
    "print('remove: ', empty_list)"
   ]
  },
  {
   "cell_type": "markdown",
   "metadata": {
    "colab_type": "text",
    "id": "LVxeLWNrrLUJ"
   },
   "source": [
    "As you can see in the example above, we used two different list methods to update our list. Let's unpack the syntax behind our example. If we translate our code into English terms it would read as followed:\n",
    "\n",
    "**Append** the string \"**Value**\" to the list stored in the variable called \"**empty**\"\n",
    "\n",
    "To properly use a list method we must specify the following:\n",
    "- The name of the list we intend to update\n",
    "- The name of the method we want to use and join it to our list name by using a `.`\n",
    "- The appropriate number of parameters needed to successfully execute our method\n",
    "\n",
    ">Note: Refer [here](https://www.programiz.com/python-programming/methods/list) to see all of the available list methods and their required parameters"
   ]
  },
  {
   "cell_type": "markdown",
   "metadata": {
    "colab_type": "text",
    "id": "s9GWYN9irLUK"
   },
   "source": [
    "<img src='https://drive.google.com/uc?view=export&id=1Zg_cJyiTp4xG_XKkH-1gOSlSCEChJZ6u' style='float:left'/>"
   ]
  },
  {
   "cell_type": "markdown",
   "metadata": {
    "colab_type": "text",
    "id": "AlGxtmASrLUK"
   },
   "source": [
    "## Activity: Lists\n",
    "### Instructions\n",
    "- Create a new, empty list called `students`\n",
    "- Append your name to the list as a string\n",
    "- Append the following names as strings (in order):\n",
    "    - Zach\n",
    "    - Kelsey\n",
    "    - Finley\n",
    "    - Alex\n",
    "    - Reese\n",
    "- Sort the list, then print the list to view the newly sorted list\n",
    "- Reverse the list, then print to view the reversed list\n",
    "- Remove the 3rd student in the list, then print the updated list"
   ]
  },
  {
   "cell_type": "code",
   "execution_count": 16,
   "metadata": {
    "colab": {},
    "colab_type": "code",
    "id": "Q_CmN2WlrLUK"
   },
   "outputs": [
    {
     "name": "stdout",
     "output_type": "stream",
     "text": [
      "['Simon']\n",
      "['Simon', 'Zach', 'Kelsey', 'Finley', 'Alex', 'Reese']\n",
      "['Alex', 'Finley', 'Kelsey', 'Reese', 'Simon', 'Zach']\n",
      "['Zach', 'Simon', 'Reese', 'Kelsey', 'Finley', 'Alex']\n",
      "['Zach', 'Simon', 'Kelsey', 'Finley', 'Alex']\n"
     ]
    }
   ],
   "source": [
    "# Write code here\n",
    "students = []\n",
    "\n",
    "students.append('Simon')\n",
    "print(students)\n",
    "students.extend(['Zach', 'Kelsey', 'Finley', 'Alex', 'Reese'])\n",
    "print(students)\n",
    "students.sort()\n",
    "print(students)\n",
    "students.reverse()\n",
    "print(students)\n",
    "students.pop(2)\n",
    "print(students)"
   ]
  },
  {
   "cell_type": "markdown",
   "metadata": {
    "colab_type": "text",
    "id": "BJkKPiCQrLUT"
   },
   "source": [
    "## Aliasing & Mutability \n",
    "All data types in Python are either mutable or immutable meaning that they **can** or **cannot** be modified after it has been created. The general rule is that simple data types are immutable while more complex data types are mutable. An example of an immutable type is a `string` or a `number`. Something that can be more complex in structure is a `list`, making it a prime example for something to be mutable.\n",
    "\n",
    ">It is important to note that mutability does not affect the variable, it only affects the value being stored in a variable.\n",
    "\n",
    "### Immutable Types\n",
    "When we store an immutable type, the value itself is stored in the variable. However, due to its immutability we cannot change that value. We can change the value of the variable by setting it to a new value.\n"
   ]
  },
  {
   "cell_type": "code",
   "execution_count": null,
   "metadata": {
    "colab": {},
    "colab_type": "code",
    "id": "2chocIYHrLUT",
    "outputId": "f2cbab95-698a-48e1-fe91-472266b39f16"
   },
   "outputs": [
    {
     "name": "stdout",
     "output_type": "stream",
     "text": [
      "Hello World\n",
      "Hello World!\n"
     ]
    }
   ],
   "source": [
    "x = 'Hello World'\n",
    "print(x)\n",
    "\n",
    "x = x + '!'\n",
    "print(x)"
   ]
  },
  {
   "cell_type": "markdown",
   "metadata": {
    "colab_type": "text",
    "id": "cQFKP0z6rLUV"
   },
   "source": [
    "### Mutable Types\n",
    "When we store a value in a variable, that value is given an address that references its location in Python memory. To access a mutable type, Python will use this address to locate our data where we can retrieve or update the current value. When modifying a mutable type, the change occurs directly on the value instead of creating a new value like immutable types.  "
   ]
  },
  {
   "cell_type": "code",
   "execution_count": null,
   "metadata": {
    "colab": {},
    "colab_type": "code",
    "id": "yVzQ0j-KrLUW",
    "outputId": "da1e1385-6d55-4ef7-a1f8-e9d6af4223ca"
   },
   "outputs": [
    {
     "name": "stdout",
     "output_type": "stream",
     "text": [
      "[1, 2, 3, 4, 5]\n",
      "[1, 2, 3, 4, 5, 6]\n"
     ]
    }
   ],
   "source": [
    "x = [1, 2, 3, 4, 5]\n",
    "print(x)\n",
    "\n",
    "x.append(6)\n",
    "print(x)"
   ]
  },
  {
   "cell_type": "markdown",
   "metadata": {
    "colab_type": "text",
    "id": "OhGO4NGIrLUY"
   },
   "source": [
    "From the two examples above, it is important to understand the difference between our modified list and modified 'Hello World' string. The concatenation of our 'Hello World' with the an '!' created a brand new string while the addition of the `6` to our list modified the existing value. "
   ]
  },
  {
   "cell_type": "markdown",
   "metadata": {
    "colab_type": "text",
    "id": "NHrzmeVsrLUY"
   },
   "source": [
    "### Aliasing\n",
    "Consider the following example:"
   ]
  },
  {
   "cell_type": "code",
   "execution_count": null,
   "metadata": {
    "colab": {},
    "colab_type": "code",
    "id": "BHDLVHO5rLUZ",
    "outputId": "f6aeec12-5060-4408-c325-8df21bba903b"
   },
   "outputs": [
    {
     "name": "stdout",
     "output_type": "stream",
     "text": [
      "[]\n",
      "[1]\n"
     ]
    }
   ],
   "source": [
    "x = []\n",
    "y = x\n",
    "print(y)\n",
    "\n",
    "x.append(1)\n",
    "print(y)"
   ]
  },
  {
   "cell_type": "markdown",
   "metadata": {
    "colab_type": "text",
    "id": "ax6-Nu2_rLUb"
   },
   "source": [
    "Let's unpack the example above. Initially, we set `x` to hold a value of an empty list and we have `y` reference that value. When stating `y = x`, `y` will have the same address in our computer's memory as `x`. Any modification to `x` will result in a modification to `y`. If we used Python's `id` function on the variable `x` and `y` we would see that both variables have identical ids. This is because `y` references or 'points to' the value being held by variable `x`.   "
   ]
  },
  {
   "cell_type": "code",
   "execution_count": null,
   "metadata": {
    "colab": {},
    "colab_type": "code",
    "id": "vJVXB-sWrLUc",
    "outputId": "cf8bfca6-e345-4471-e85c-860dc7ab9b4f"
   },
   "outputs": [
    {
     "name": "stdout",
     "output_type": "stream",
     "text": [
      "4358852040\n",
      "4358852040\n"
     ]
    }
   ],
   "source": [
    "x = []\n",
    "y = x\n",
    "print(id(x))\n",
    "print(id(y))"
   ]
  },
  {
   "cell_type": "markdown",
   "metadata": {
    "colab_type": "text",
    "id": "_f5wCN9YrLUe"
   },
   "source": [
    "Sometimes aliasing can be useful however it is best practice to avoid it. Simply create an instance of a mutable type when needed. Creating separate lists will keep variable values independent from one another."
   ]
  },
  {
   "cell_type": "code",
   "execution_count": null,
   "metadata": {
    "colab": {},
    "colab_type": "code",
    "id": "9yJM91DyrLUe",
    "outputId": "78e923fa-cdc7-4169-9d05-417c45706f7d"
   },
   "outputs": [
    {
     "name": "stdout",
     "output_type": "stream",
     "text": [
      "[]\n"
     ]
    }
   ],
   "source": [
    "x = []\n",
    "y = []\n",
    "x.append(1)\n",
    "print(y)"
   ]
  },
  {
   "cell_type": "markdown",
   "metadata": {
    "colab_type": "text",
    "id": "_MVUoakIrLUg"
   },
   "source": [
    "## Dictionaries\n",
    "A dictionary is a data type that is similar to a list but that instead of storing data by a position, it stores data by a name. Storing data by a name establishes the ability to have an extremely fast lookup time as we do not have to iterate over the collection of data to search for the value we are looking for. This name to value association is sometimes refered to as a **key-value** pair.  "
   ]
  },
  {
   "cell_type": "markdown",
   "metadata": {
    "colab_type": "text",
    "id": "GTrbvg_VrLUg"
   },
   "source": [
    "empty_dictionary = {}\n",
    "\n",
    "grades = {\n",
    "    \"Kelsey\": 87,\n",
    "    \"Finley\": 92\n",
    "}\n",
    "\n",
    "one_line = {a: 1, b: 2}"
   ]
  },
  {
   "cell_type": "markdown",
   "metadata": {
    "colab_type": "text",
    "id": "4BUV23BmrLUh"
   },
   "source": [
    "### Accessing Dictionary Values\n",
    "Similar to lists, dictionary values are accessed by their key. Instead of using an index number, we use the name of the key we want to reference. By default, dictionaries do not structure their content in any particular order. "
   ]
  },
  {
   "cell_type": "code",
   "execution_count": null,
   "metadata": {
    "colab": {},
    "colab_type": "code",
    "id": "x9zlcbpcrLUh",
    "outputId": "fcbe8ef1-50ea-4314-c57c-3eeb3fdc338d"
   },
   "outputs": [
    {
     "name": "stdout",
     "output_type": "stream",
     "text": [
      "87\n"
     ]
    }
   ],
   "source": [
    "# Access Data in a Dictionary\n",
    "grades = {\n",
    "    \"Kelsey\": 87,\n",
    "    \"Finley\": 92\n",
    "}\n",
    "\n",
    "print(grades[\"Kelsey\"])"
   ]
  },
  {
   "cell_type": "markdown",
   "metadata": {
    "colab_type": "text",
    "id": "-DKSZiUErLUo"
   },
   "source": [
    "If we want to update our dictionary to store an additional value, we can use the assignment operator `=` after we have indicated the specific key we want to add or update.\n",
    "\n",
    "In our example above lets say that there was a typo with Finley's grade and we want to update our grades dictionary to contain the proper grade for Finley."
   ]
  },
  {
   "cell_type": "code",
   "execution_count": null,
   "metadata": {
    "colab": {},
    "colab_type": "code",
    "id": "vO51ofBIrLUp",
    "outputId": "77e81a82-09d3-4c5b-ea76-12cf4613d6c2"
   },
   "outputs": [
    {
     "name": "stdout",
     "output_type": "stream",
     "text": [
      "{'Kelsey': 87, 'Finley': 90}\n"
     ]
    }
   ],
   "source": [
    "grades[\"Finley\"] = 90\n",
    "print(grades)"
   ]
  },
  {
   "cell_type": "markdown",
   "metadata": {
    "colab_type": "text",
    "id": "Bom7dFcerLUr"
   },
   "source": [
    "To update our grades dictionary to have an additional key-value pair, we can do the same as above except we index with a new key instead of using an existing key."
   ]
  },
  {
   "cell_type": "code",
   "execution_count": null,
   "metadata": {
    "colab": {},
    "colab_type": "code",
    "id": "9fhbhijIrLUr",
    "outputId": "b3525296-b3ce-4fed-f0b1-4e456e257da6"
   },
   "outputs": [
    {
     "name": "stdout",
     "output_type": "stream",
     "text": [
      "{'Kelsey': 87, 'Finley': 90, 'Alex': 88}\n"
     ]
    }
   ],
   "source": [
    "grades[\"Alex\"] = 88\n",
    "print(grades)"
   ]
  },
  {
   "cell_type": "markdown",
   "metadata": {
    "colab_type": "text",
    "id": "uMhO0yvErLUu"
   },
   "source": [
    "It is important to know that keys and values can be of any data type but it is uncommon that keys are of non-primitive types such as a tuple. For this course, we are not covering the tuple data type but essentially it is a fancy list.\n",
    "\n",
    "If the value is a complex data type we can leverage aliasing to modify the dictionaries key-value pair. View example below for more detail.   "
   ]
  },
  {
   "cell_type": "code",
   "execution_count": null,
   "metadata": {
    "colab": {},
    "colab_type": "code",
    "id": "qCe4srKbrLUv",
    "outputId": "500922b5-1b29-4043-fd07-c3acfefae72c"
   },
   "outputs": [
    {
     "name": "stdout",
     "output_type": "stream",
     "text": [
      "{'Kelsey': [87, 85, 91, 88], 'Finley': [92, 93, 71, 86]}\n"
     ]
    }
   ],
   "source": [
    "grades = {\n",
    "    'Kelsey': [87, 85, 91], \n",
    "    'Finley': [92, 93, 71] \n",
    "}\n",
    "\n",
    "grades['Kelsey'].append(88)\n",
    "grades['Finley'].append(86)\n",
    "\n",
    "\n",
    "# Code Below is the same as grades['Finley'].push(86) except we are leveraging variables and aliasing to modify\n",
    "# fin = grades['Finley']\n",
    "# fin.push(86)\n",
    "\n",
    "print(grades)"
   ]
  },
  {
   "cell_type": "markdown",
   "metadata": {
    "colab_type": "text",
    "id": "ctYmLXEIrLUx"
   },
   "source": [
    "## Activity: Dictionaries\n",
    "### Instructions\n",
    "\n",
    "- Create a dictionary called **me** that contains the following key-value pairs:\n",
    "    - \"name\": where the value is your name as a `string`\n",
    "    - \"age\": where the value is your name as a `integer`\n",
    "- Print your name from the dictionary\n",
    "- Add a new key-value pair to your **me** dictionary where the key is the `string` \"hobbies\" and the value is an empty list\n",
    "- Append three hobby names as strings to that list\n",
    "- Print the **me** dictionary \n"
   ]
  },
  {
   "cell_type": "code",
   "execution_count": 18,
   "metadata": {
    "colab": {},
    "colab_type": "code",
    "id": "wsC6HU6RrLUx"
   },
   "outputs": [
    {
     "name": "stdout",
     "output_type": "stream",
     "text": [
      "Simon\n",
      "{'name': 'Simon', 'age': 26, 'hobbies': ['basketball', 'chess', 'music']}\n"
     ]
    }
   ],
   "source": [
    "# Write code here\n",
    "\n",
    "me = {\n",
    "    'name': 'Simon',\n",
    "    'age': 26\n",
    "}\n",
    "\n",
    "print(me['name'])\n",
    "\n",
    "me['hobbies'] = []\n",
    "me['hobbies'].extend(['basketball', 'chess', 'music'])\n",
    "print(me)\n"
   ]
  },
  {
   "cell_type": "markdown",
   "metadata": {
    "colab_type": "text",
    "id": "bMAOTJtGrLUz"
   },
   "source": [
    "<div id=\"container\" style=\"position:relative;\">\n",
    "    <div style=\"position:relative; float:right\"><img style=\"height:25px\"\"width: 50px\" src =\"https://drive.google.com/uc?export=view&id=14VoXUJftgptWtdNhtNYVm6cjVmEWpki1\" />\n",
    "    </div>\n",
    "</div>\n"
   ]
  }
 ],
 "metadata": {
  "colab": {
   "name": "[NEXT] Unit 2 - Advanced Data Types.ipynb",
   "provenance": []
  },
  "kernelspec": {
   "display_name": "Python 3",
   "language": "python",
   "name": "python3"
  },
  "language_info": {
   "codemirror_mode": {
    "name": "ipython",
    "version": 3
   },
   "file_extension": ".py",
   "mimetype": "text/x-python",
   "name": "python",
   "nbconvert_exporter": "python",
   "pygments_lexer": "ipython3",
   "version": "3.8.5"
  }
 },
 "nbformat": 4,
 "nbformat_minor": 1
}
