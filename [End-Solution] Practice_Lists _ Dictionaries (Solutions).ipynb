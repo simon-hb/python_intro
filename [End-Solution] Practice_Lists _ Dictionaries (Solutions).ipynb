{
 "cells": [
  {
   "cell_type": "markdown",
   "metadata": {
    "colab_type": "text",
    "id": "UG57IEYRVNcs"
   },
   "source": [
    "# Lists\n",
    "\n",
    "---\n",
    "\n",
    "**Perform the following operations on the list below:**\n",
    "\n",
    "number_list = [120, 230, 340, 450, 560]\n",
    "\n",
    "1. Print the list in reverse order.\n",
    "2. Add the next number in the sequence to the list.\n",
    "3. Remove the middle value. In its place add a number half of its value."
   ]
  },
  {
   "cell_type": "code",
   "execution_count": 1,
   "metadata": {
    "colab": {},
    "colab_type": "code",
    "id": "J6I_OwP_cXoS"
   },
   "outputs": [
    {
     "name": "stdout",
     "output_type": "stream",
     "text": [
      "[560, 450, 340, 230, 120]\n",
      "[120, 230, 340, 450, 560, 670]\n",
      "[120, 230, 170.0, 450, 560]\n"
     ]
    }
   ],
   "source": [
    "# Write your answer here.\n",
    "\n",
    "# save the list to a variable\n",
    "number_list = [120, 230, 340, 450, 560]\n",
    "\n",
    "# 1. printing the list in reverse order\n",
    "print(number_list[::-1])\n",
    "\n",
    "# 2. adding the next number in the sequence to the list\n",
    "number_list.append(670)\n",
    "print(number_list)\n",
    "\n",
    "# 3. removing the middle value & adding a number half its value in its place\n",
    "number_list = [120, 230, 340, 450, 560] # need to re-assign the list to the variable\n",
    "middle = number_list[2] # assigning the middle value to a variable which we will use\n",
    "# note that specifying the index 2 is a non-robust way of coding this\n",
    "# i.e. this would not drop the middle value of a list that is any length other than 5\n",
    "number_list.pop(2) # removing the middle value via its index\n",
    "number_list.insert(2, middle/2) # inserting the new value in front of the element at index 2\n",
    "print(number_list)"
   ]
  },
  {
   "cell_type": "markdown",
   "metadata": {
    "colab_type": "text",
    "id": "QMp9vwt0cXP2"
   },
   "source": [
    "# Dictionaries\n",
    "---\n",
    "**You’ve left your home to head to work, and the following dictionary is an example of what you might have with you. Perform the following operations on the dictionary listed below.**"
   ]
  },
  {
   "cell_type": "code",
   "execution_count": 2,
   "metadata": {
    "colab": {},
    "colab_type": "code",
    "id": "f1K5I7tncf_i"
   },
   "outputs": [],
   "source": [
    "everyday_carry = {\n",
    "    'money' : 50,\n",
    "    'bag' : ['laptop', 'phone charger', 'wallet'],\n",
    "    'lunchbox' : ['salad','fork', 'soup','spoon','crackers']\n",
    "}"
   ]
  },
  {
   "cell_type": "markdown",
   "metadata": {
    "colab_type": "text",
    "id": "rAUwxfA0sZwf"
   },
   "source": [
    "1. Add a key to everyday_carry called 'pocket'.\n",
    "2. Set the value of 'pocket' to be a list consisting of the strings 'coins', 'keys', 'wireless headphones', and ‘lip balm’.\n",
    "3. Because we’ve spent some money on a cup of coffee, remove 'coins' from pocket.\n",
    "4. Now that we’ve arrived at work, remove 'laptop' from bag.\n",
    "5. Packing up for lunch, add 'laptop' back to bag, and also add 'papers' to bag.\n",
    "\n",
    "**Bonus: Making sure we have everything, count how many items are in our bag. (extra research will be required)**"
   ]
  },
  {
   "cell_type": "code",
   "execution_count": 3,
   "metadata": {
    "colab": {},
    "colab_type": "code",
    "id": "J2D_Dbtcst-8"
   },
   "outputs": [
    {
     "name": "stdout",
     "output_type": "stream",
     "text": [
      "We have 4 items in our bag.\n"
     ]
    },
    {
     "data": {
      "text/plain": [
       "{'money': 50,\n",
       " 'bag': ['phone charger', 'wallet', 'laptop', 'papers'],\n",
       " 'lunchbox': ['salad', 'fork', 'soup', 'spoon', 'crackers'],\n",
       " 'pocket': ['keys', 'wireless headphones', 'lip balm']}"
      ]
     },
     "execution_count": 3,
     "metadata": {},
     "output_type": "execute_result"
    }
   ],
   "source": [
    "# Write your answer here.\n",
    "\n",
    "# Q1 & Q2\n",
    "pocket = ['coins', 'keys', 'wireless headphones', 'lip balm']\n",
    "everyday_carry['pocket'] = pocket # assigning the pocket contents to a new dictionary key\n",
    "\n",
    "# Q3\n",
    "pocket.remove('coins') # removing coins from the pocket\n",
    "everyday_carry['pocket'] = pocket # overwriting the pocket dictionary key with the new pocket contents\n",
    "\n",
    "# Q4\n",
    "bag = everyday_carry['bag'] # assigning the current bag list to a variable\n",
    "bag.remove('laptop') # removing laptop from the bag\n",
    "everyday_carry['bag'] = bag # overwriting the bag dictionary key with the new bag contents\n",
    "\n",
    "# Q5\n",
    "bag = bag + ['laptop', 'papers'] # adding laptop and papers to the bag\n",
    "everyday_carry['bag'] = bag # overwriting the bag dictionary key with the new bag contents\n",
    "\n",
    "# Bonus\n",
    "print(f'We have {len(bag)} items in our bag.')\n",
    "\n",
    "# view final dictionary\n",
    "everyday_carry"
   ]
  },
  {
   "cell_type": "markdown",
   "metadata": {
    "colab_type": "text",
    "id": "9cIQdJmCcnpc"
   },
   "source": [
    "**Going grocery shopping, perform the following operations on the dictionary listed below:**"
   ]
  },
  {
   "cell_type": "code",
   "execution_count": 4,
   "metadata": {
    "colab": {},
    "colab_type": "code",
    "id": "ry7SJDXxs4cf"
   },
   "outputs": [],
   "source": [
    "grocery_list = {   \n",
    "    'vegetables' : ['spinach', 'carrots', 'kale','cucumber', 'broccoli'],\n",
    "    'meat' : ['bbq chicken','ground beef', 'salmon',]\n",
    "}"
   ]
  },
  {
   "cell_type": "markdown",
   "metadata": {
    "colab_type": "text",
    "id": "LhWi-2Wms7LR"
   },
   "source": [
    "1. Sort the vegetables list.\n",
    "2. Add a new key to our grocery_list called 'carbs'. \n",
    "3. Set the value of 'carbs' to bread and potatoes.\n",
    "4. Remove 'cucumber' and instead, replace it with 'zucchini'.\n"
   ]
  },
  {
   "cell_type": "code",
   "execution_count": 5,
   "metadata": {
    "colab": {},
    "colab_type": "code",
    "id": "v_NQpjXVcrqR"
   },
   "outputs": [
    {
     "data": {
      "text/plain": [
       "{'vegetables': ['broccoli', 'carrots', 'kale', 'spinach', 'zucchini'],\n",
       " 'meat': ['bbq chicken', 'ground beef', 'salmon'],\n",
       " 'carbs': ['bread', 'potatoes']}"
      ]
     },
     "execution_count": 5,
     "metadata": {},
     "output_type": "execute_result"
    }
   ],
   "source": [
    "# Write your answer here.\n",
    "\n",
    "# Q1\n",
    "veg = grocery_list['vegetables'] # assigning current veggies list to a variable\n",
    "veg.sort() # sorting \n",
    "\n",
    "# Q2 & Q3\n",
    "grocery_list['carbs'] = ['bread', 'potatoes'] # assigning bread and potatoes to a new 'carbs' dictionary key\n",
    "\n",
    "# Q4\n",
    "veg.remove('cucumber') # remove cucumber from veggies list\n",
    "veg.append('zucchini') # adding zucchini to the veggies list # adding zucchini to the veggies list\n",
    "\n",
    "# view final dictionary\n",
    "grocery_list"
   ]
  },
  {
   "cell_type": "markdown",
   "metadata": {},
   "source": [
    "Note:\n",
    "    \n",
    "Another way to approach adding zucchini to the veggies list would be to use the following method:\n",
    "`grocery_list['vegetables'].append('zucchini')`"
   ]
  },
  {
   "cell_type": "markdown",
   "metadata": {
    "colab_type": "text",
    "id": "EtLLDU-psWCr"
   },
   "source": [
    "<div id=\"container\" style=\"position:relative;\">\n",
    "    <div style=\"position:relative; float:right\"><img style=\"height:25px\"\"width: 50px\" src =\"https://drive.google.com/uc?export=view&id=14VoXUJftgptWtdNhtNYVm6cjVmEWpki1\" />\n",
    "    </div>\n",
    "</div>"
   ]
  }
 ],
 "metadata": {
  "colab": {
   "collapsed_sections": [],
   "name": "Practice: Lists & Dictionaries.ipynb",
   "provenance": [
    {
     "file_id": "1_ycv1Ahodwtxm_eOjkXvOesBPhi-zNFZ",
     "timestamp": 1593729570808
    }
   ]
  },
  "kernelspec": {
   "display_name": "Python 3",
   "language": "python",
   "name": "python3"
  },
  "language_info": {
   "codemirror_mode": {
    "name": "ipython",
    "version": 3
   },
   "file_extension": ".py",
   "mimetype": "text/x-python",
   "name": "python",
   "nbconvert_exporter": "python",
   "pygments_lexer": "ipython3",
   "version": "3.8.5"
  }
 },
 "nbformat": 4,
 "nbformat_minor": 1
}
