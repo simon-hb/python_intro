{
  "cells": [
    {
      "metadata": {},
      "cell_type": "markdown",
      "source": "<div style='display: flex; justify-content: space-between; align-items: center; width: 100%; height: 100%;'>\n    <div style=\"width: 100%;\"><h3> Python For Data Science </h3></div>\n    <div>\n        <img style=\"height:65px; min-width: 255px; max-width: 355px;\" src =\"https://drive.google.com/uc?export=view&id=1EnB0x-fdqMp6I5iMoEBBEuxB_s7AmE2k\" />\n    </div>\n</div>"
    },
    {
      "metadata": {},
      "cell_type": "markdown",
      "source": "# Practice Problems: Loops\n\n## For Loops"
    },
    {
      "metadata": {},
      "cell_type": "markdown",
      "source": "1. Print out the numbers from one to ten using a `for` loop."
    },
    {
      "metadata": {
        "trusted": false
      },
      "cell_type": "code",
      "source": "for i in range(10):\n    print(i + 1)",
      "execution_count": 2,
      "outputs": [
        {
          "name": "stdout",
          "output_type": "stream",
          "text": "1\n2\n3\n4\n5\n6\n7\n8\n9\n10\n"
        }
      ]
    },
    {
      "metadata": {
        "trusted": false
      },
      "cell_type": "code",
      "source": "# Alternative Answer\nfor i in range(1, 11):\n    print(i)",
      "execution_count": 1,
      "outputs": [
        {
          "name": "stdout",
          "output_type": "stream",
          "text": "1\n2\n3\n4\n5\n6\n7\n8\n9\n10\n"
        }
      ]
    },
    {
      "metadata": {},
      "cell_type": "markdown",
      "source": "2. Given a list of exclamations, use a `for` loop to print out each word followed by an exclamation mark. For example, for the exclamation \"wow\", print \"wow!\"."
    },
    {
      "metadata": {
        "trusted": false
      },
      "cell_type": "code",
      "source": "exclamations = ['wow', 'hey', 'blah', 'horray', 'woo']\n\nfor exclamation in exclamations:\n    print(exclamation + '!')",
      "execution_count": null,
      "outputs": []
    },
    {
      "metadata": {},
      "cell_type": "markdown",
      "source": "3. Create an empty list called `five`. Using a `for` loop, add the numbers from one to five to that list. Print the completed list."
    },
    {
      "metadata": {
        "trusted": false
      },
      "cell_type": "code",
      "source": "five = []\nfor i in range(5):\n    five.append(i + 1)\nprint(five)",
      "execution_count": null,
      "outputs": []
    },
    {
      "metadata": {
        "trusted": false
      },
      "cell_type": "code",
      "source": "#Alternative Answer\nfive = []\nfor i in range(1, 6):\n    five.append(i)\nprint(five)",
      "execution_count": null,
      "outputs": []
    },
    {
      "metadata": {},
      "cell_type": "markdown",
      "source": "4. Using the list from the previous question, create a `for` loop that iterates over each index in the list and prints its value. **Hint**: use the `len()` function to compute the length of the list."
    },
    {
      "metadata": {
        "trusted": false
      },
      "cell_type": "code",
      "source": "for i in range(len(five)):\n    print(five[i])",
      "execution_count": null,
      "outputs": []
    },
    {
      "metadata": {},
      "cell_type": "markdown",
      "source": "5. Using a `for` loop, count down from one hundred to one by printing each step."
    },
    {
      "metadata": {
        "trusted": false
      },
      "cell_type": "code",
      "source": "for i in range(100):\n    print(100 - i)",
      "execution_count": null,
      "outputs": []
    },
    {
      "metadata": {
        "trusted": false
      },
      "cell_type": "code",
      "source": "#Alternative Answer\nfor i in range(100, 0, -1):\n    print(i)",
      "execution_count": null,
      "outputs": []
    },
    {
      "metadata": {},
      "cell_type": "markdown",
      "source": "6. Print all the odd numbers from one to one hundred using a for loop."
    },
    {
      "metadata": {
        "trusted": false
      },
      "cell_type": "code",
      "source": "for i in range(1, 100, 2):\n    print(i)",
      "execution_count": null,
      "outputs": []
    },
    {
      "metadata": {},
      "cell_type": "markdown",
      "source": "### Harder  Problems \n\n1. Print out an ASCII triangle that's `x` rows high. Start with `x = 4`. It should loop like the following:\n```\n      *\n     ***\n    *****\n   *******\n```\n **Hint**: Each row needs (2n + 1) starts, where 0 <= n < x. Each set of stars is prefixed by (x - 1 - n) spaces, where 0 <= n < x."
    },
    {
      "metadata": {
        "trusted": false
      },
      "cell_type": "code",
      "source": "x = 5\nfor n in range(0, x):\n    print((x - 1 - n) * \" \" + (2 * n + 1) * \"*\")",
      "execution_count": null,
      "outputs": []
    },
    {
      "metadata": {},
      "cell_type": "markdown",
      "source": "2. Using the solution from the previous question, print a triangle that is ten rows high. "
    },
    {
      "metadata": {
        "trusted": false
      },
      "cell_type": "code",
      "source": "x = 10\nfor n in range(0, x):\n    print((x - 1 - n) * \" \" + (2 * n + 1) * \"*\")",
      "execution_count": null,
      "outputs": []
    },
    {
      "metadata": {},
      "cell_type": "markdown",
      "source": "3. Print the first ten positive Fibonacci numbers use a `for` loop places inside another `for` loop. The Fibonacci sequence is a sequence such that each number is the suum of the two preceding numbers. The first ten numbers are 1, 1, 2, 3, 5, 8, 13, 21, 34, 55."
    },
    {
      "metadata": {
        "trusted": false
      },
      "cell_type": "code",
      "source": "for n in range(0, 10):\n    previous = 0\n    current = 1\n    for i in range(0, n):\n        temp = previous\n        previous = current\n        current = temp + current\n    print(current)",
      "execution_count": null,
      "outputs": []
    },
    {
      "metadata": {},
      "cell_type": "markdown",
      "source": "## While Loops\n\n1. Without storing the numbers in a list or using the `range` function, print the numbers from one to ten (inclusive) using a `while` loop."
    },
    {
      "metadata": {
        "trusted": false
      },
      "cell_type": "code",
      "source": "i = 1\nwhile i <= 10:\n    print(i)\n    i += 1",
      "execution_count": null,
      "outputs": []
    },
    {
      "metadata": {},
      "cell_type": "markdown",
      "source": "2. Without storing the nunmbers in a list or using the `range` function, print the odd numbers from one to nine (inclusive) using a `while` loop."
    },
    {
      "metadata": {
        "trusted": false
      },
      "cell_type": "code",
      "source": "i = 1\nwhile i <= 10:\n    print(i)\n    i +=2",
      "execution_count": null,
      "outputs": []
    },
    {
      "metadata": {},
      "cell_type": "markdown",
      "source": "3. Using a `while` loop, print every odd element of the list `fruits`."
    },
    {
      "metadata": {
        "trusted": false
      },
      "cell_type": "code",
      "source": "fruits = ['apple', 'orange', 'peach', 'grape', 'tomato', 'pineapple', 'banana']\n\ni = 1\nwhile i < len(fruits):\n    print(fruits[i])\n    i += 2",
      "execution_count": null,
      "outputs": []
    },
    {
      "metadata": {},
      "cell_type": "markdown",
      "source": "### Harder Problems\n1. Use a while loop to compute the triangular number for `n`. Start off with `n = 20`. Print the result. A trangular number is a sum of n natural numbers, T(n), such that:\n\n```python\nT(n) = 1 + 2 + 3 ... + n\n```\n    For example, T(5) is:\n\n```python\nT(5) = 1 + 2 + 3 + 4 + 5 = 15\n```"
    },
    {
      "metadata": {
        "trusted": false
      },
      "cell_type": "code",
      "source": "n = 20\ni = 0\ntotal = 0\nwhile i <= n:\n    total += i\n    i += 1\n    \nprint(total)",
      "execution_count": 8,
      "outputs": [
        {
          "name": "stdout",
          "output_type": "stream",
          "text": "210\n"
        }
      ]
    },
    {
      "metadata": {},
      "cell_type": "markdown",
      "source": "2. A prime number is a number that is only fully divisible (no remainder) by itself and the number one. That means that given a prime number `p`, we should be able to try and fail to divide `p` by all numbers between two and `p - 1`. If these all fail, the number is prime.\n\n    For example, given a check for the number nine, we will check:\n        - Is `9 / 2` an integer? It's not, so continue\n        - Is `9 / 3` an integer? It is, so we can stop here. We can conclude that nine is not a prime number.\n        \n    Write a `while` loop to check if the following numbers are prime/ You only need to write the loop once, and can change the value of a variable to test each one.\n    - 25\n    - 29\n    - 31"
    },
    {
      "metadata": {
        "trusted": false
      },
      "cell_type": "code",
      "source": "is_prime = True\nn = 25\ndenominator = 2\nwhile denominator < n:\n    is_prime = is_prime and n % denominator != 0\n    denominator += 1\nprint(is_prime)",
      "execution_count": 12,
      "outputs": [
        {
          "name": "stdout",
          "output_type": "stream",
          "text": "False\n"
        }
      ]
    },
    {
      "metadata": {},
      "cell_type": "markdown",
      "source": "<div id=\"container\" style=\"position:relative;\">\n    <div style=\"position:relative; float:right\"><img style=\"height:25px\"\"width: 50px\" src =\"https://drive.google.com/uc?export=view&id=14VoXUJftgptWtdNhtNYVm6cjVmEWpki1\" />\n    </div>\n</div>"
    }
  ],
  "metadata": {
    "kernelspec": {
      "name": "python3",
      "display_name": "Python 3",
      "language": "python"
    },
    "language_info": {
      "mimetype": "text/x-python",
      "nbconvert_exporter": "python",
      "name": "python",
      "pygments_lexer": "ipython3",
      "version": "3.5.4",
      "file_extension": ".py",
      "codemirror_mode": {
        "version": 3,
        "name": "ipython"
      }
    }
  },
  "nbformat": 4,
  "nbformat_minor": 2
}