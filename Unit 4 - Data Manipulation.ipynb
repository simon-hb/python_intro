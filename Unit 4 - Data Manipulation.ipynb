{
 "cells": [
  {
   "cell_type": "markdown",
   "metadata": {
    "colab_type": "text",
    "id": "5Ku0qxKysWAg"
   },
   "source": [
    "### Python Programming \n",
    "<img style = \"position:absolute; TOP:0px; LEFT:840px; WIDTH:250px; HEIGHT:65px\"  src =\"https://drive.google.com/uc?export=view&id=1EnB0x-fdqMp6I5iMoEBBEuxB_s7AmE2k\" />"
   ]
  },
  {
   "cell_type": "markdown",
   "metadata": {
    "colab_type": "text",
    "id": "eEJ1qsvTsWAh"
   },
   "source": [
    "# Unit 4: Data Manipulation \n",
    "## In This Lesson You Will...\n",
    "- Sort and filter a list of objects\n",
    "- Open and read files from disk\n",
    "- Parse data from files into native Python data types\n",
    "- Compute properties of imported data"
   ]
  },
  {
   "cell_type": "markdown",
   "metadata": {
    "colab_type": "text",
    "id": "5LqU0IUesWAh"
   },
   "source": [
    "## File Input & Output\n",
    "\n",
    "File input and output are essential tools to know when operating Python for data science.\n",
    "Python's built in functions allow for data import to happen with ease. \n",
    "\n",
    "Let's first explore the _open_ function in Python. When we call the open function on a specific file, we need to save the returned value to a variable. This variable will hold a **file object** that contains information about the file and  methods to read/write to the file.\n",
    "\n",
    "To use the _open_ function correctly, we must provide the function a file path and the mode we want our file to open in. The general syntax is as followed:\n",
    "\n",
    "```py\n",
    "file_object = open(\"file path\", \"mode\")\n",
    "```\n",
    "\n",
    ">**Note**: If the file does not exist when calling the open function, it will generate a new file with that name for you. \n",
    "\n",
    "#### Modes\n",
    "<div style=\"float:left\">\n",
    "    <img src='https://drive.google.com/uc?view=export&id=1MhI3IowP9BRKL0LEwsDr_qA6u9w3H2P2' />\n",
    "</div>"
   ]
  },
  {
   "cell_type": "markdown",
   "metadata": {
    "colab_type": "text",
    "id": "kzyEU40JsWAl"
   },
   "source": [
    "### Using the Open Function\n",
    "\n",
    "Run the cell below to generate a text file called \"hey_brainstation.txt\". "
   ]
  },
  {
   "cell_type": "code",
   "execution_count": 1,
   "metadata": {
    "colab": {},
    "colab_type": "code",
    "id": "gdK0iqNgsWAn"
   },
   "outputs": [],
   "source": [
    "#here we are generating and opening a file in write mode\n",
    "file = open (\"hey_brainstation.txt\",\"w\")"
   ]
  },
  {
   "cell_type": "markdown",
   "metadata": {
    "colab_type": "text",
    "id": "50fI5CqYsWAu"
   },
   "source": [
    "### Writing to a File\n",
    "\n",
    "To add content to a file, we can simply use the .write() method and pass in the content you want to add. Run the cell below to add text to our 'hey_brainstation.txt' file."
   ]
  },
  {
   "cell_type": "code",
   "execution_count": 2,
   "metadata": {
    "colab": {},
    "colab_type": "code",
    "id": "kSxgXt4esWAv"
   },
   "outputs": [],
   "source": [
    "#now let's explore writing some lines into the file\n",
    "file.write(\"Welcome to BrainStation's \")\n",
    "file.write(\"Python for Data Science \")\n",
    "file.write(\"Training Course!\")\n",
    "file.close()"
   ]
  },
  {
   "cell_type": "markdown",
   "metadata": {
    "colab_type": "text",
    "id": "j77liynVsWAy"
   },
   "source": [
    "When opening our 'hey_brainstation.txt', you can see that each .write() invocation did not write to an individual line. Instead, each set of string characters are appended to the previous string. If we wanted to have each `write` appear on a new line, we will need to specify the new-line character `\\n` at the point where we want our string to appear on a new line. \n",
    "\n",
    "Using our example above, let's add 'Today you will learn:' on a new line. We will need to use the `'a'` mode when opening the file to accomplish this. If we used the `'w'` mode, we will overwrite the original content."
   ]
  },
  {
   "cell_type": "code",
   "execution_count": 3,
   "metadata": {
    "colab": {},
    "colab_type": "code",
    "id": "LGGLWmrtsWAz"
   },
   "outputs": [],
   "source": [
    "file = open (\"hey_brainstation.txt\",\"a\")\n",
    "file.write('\\nToday you will learn:')\n",
    "file.close()"
   ]
  },
  {
   "cell_type": "markdown",
   "metadata": {
    "colab_type": "text",
    "id": "Cb9sXVn6sWA2"
   },
   "source": [
    "### Close Function\n",
    "\n",
    "You may have noticed the close function being called at the end of the code block above. It is best practice to always close your file once you have finished using it. When calling the open function, it does not automatically close the opened file at the end of a code block. If the file is not closed, you run the risk of slowing your program thus making your code less efficient.\n",
    "\n",
    "### Methods to Reading File Content\n",
    "\n",
    "#### Read Method\n",
    "Using the .read() method, all contents of a file is returns as one string. If you pass our read method a number parameter, it will return the `nth` amount of string characters. It is important to note that a space is considered a character. "
   ]
  },
  {
   "cell_type": "code",
   "execution_count": 4,
   "metadata": {
    "colab": {},
    "colab_type": "code",
    "id": "dzg39TLCsWA7",
    "outputId": "bd04d7f4-3951-471f-f3a2-f43525e5a413"
   },
   "outputs": [
    {
     "name": "stdout",
     "output_type": "stream",
     "text": [
      "Welcome to BrainStation's Python for Data Science Training Course!\n",
      "Today you will learn:\n"
     ]
    }
   ],
   "source": [
    "# All Content\n",
    "file = open(\"hey_brainstation.txt\",\"r\")\n",
    "print (file.read())\n",
    "file.close()"
   ]
  },
  {
   "cell_type": "code",
   "execution_count": 5,
   "metadata": {
    "colab": {},
    "colab_type": "code",
    "id": "dRCvWgOlsWBG",
    "outputId": "d59718a4-3e56-4023-9796-f960fc3f7794"
   },
   "outputs": [
    {
     "name": "stdout",
     "output_type": "stream",
     "text": [
      "Welcome\n"
     ]
    }
   ],
   "source": [
    "# Speccific Number of Characters\n",
    "file = open(\"hey_brainstation.txt\",\"r\")\n",
    "print (file.read(7))\n",
    "file.close()"
   ]
  },
  {
   "cell_type": "markdown",
   "metadata": {
    "colab_type": "text",
    "id": "RFrm-7gIsWBN"
   },
   "source": [
    "#### Readlines Method\n",
    "Using **.readlines(  )** will output a list of each line in our file. Each time our file contains a new-line or `\\n` character, it is added to the list."
   ]
  },
  {
   "cell_type": "code",
   "execution_count": 6,
   "metadata": {
    "colab": {},
    "colab_type": "code",
    "id": "zwYD_RfrsWBN",
    "outputId": "8b8decf4-1006-4464-8f11-de94005285fb"
   },
   "outputs": [
    {
     "name": "stdout",
     "output_type": "stream",
     "text": [
      "[\"Welcome to BrainStation's Python for Data Science Training Course!\\n\", 'Today you will learn:']\n"
     ]
    }
   ],
   "source": [
    "#readlines\n",
    "file = open(\"hey_brainstation.txt\",\"r\")\n",
    "print(file.readlines())\n",
    "file.close()"
   ]
  },
  {
   "cell_type": "markdown",
   "metadata": {
    "colab_type": "text",
    "id": "TI2ZRFM1sWBR"
   },
   "source": [
    "#### Readline Method\n",
    "Using **readline( )** will provide a string with the next line of the file with all text up to and including the newline character. "
   ]
  },
  {
   "cell_type": "code",
   "execution_count": 7,
   "metadata": {
    "colab": {},
    "colab_type": "code",
    "id": "hebzvf14sWBR",
    "outputId": "f4d6c459-db46-4e8f-99bd-d93d3d72dc72"
   },
   "outputs": [
    {
     "data": {
      "text/plain": [
       "\"Welcome to BrainStation's Python for Data Science Training Course!\\n\""
      ]
     },
     "execution_count": 7,
     "metadata": {},
     "output_type": "execute_result"
    }
   ],
   "source": [
    "file = open(\"hey_brainstation.txt\",\"r\")\n",
    "file.readline()"
   ]
  },
  {
   "cell_type": "markdown",
   "metadata": {
    "colab_type": "text",
    "id": "uNcMQFVlsWBU"
   },
   "source": [
    "### Splitting Lines \n",
    "\n",
    "The **.split() method** allows you to choose the character you want to separate a string by. The returned output of calling the .split() method is a list of strings segmented at the position the passed character was located at. If a character is not passed in, the string will be split at every space character. "
   ]
  },
  {
   "cell_type": "code",
   "execution_count": 8,
   "metadata": {
    "colab": {},
    "colab_type": "code",
    "id": "LKjEjFf_sWBV",
    "outputId": "0fc798cf-fbda-4560-ec64-fd23c1b3d3c2"
   },
   "outputs": [
    {
     "name": "stdout",
     "output_type": "stream",
     "text": [
      "['Welcome', 'to', \"BrainStation's\", 'Python', 'for', 'Data', 'Science', 'Training', 'Course!', 'Today', 'you', 'will', 'learn:']\n"
     ]
    }
   ],
   "source": [
    "file = open(\"hey_brainstation.txt\", \"r\")\n",
    "content = file.read()\n",
    "print(content.split())\n",
    "file.close()"
   ]
  },
  {
   "cell_type": "markdown",
   "metadata": {
    "colab_type": "text",
    "id": "nkGmvx2JsWBZ"
   },
   "source": [
    "Let's look at the output if you decide to split at every 'a' character."
   ]
  },
  {
   "cell_type": "code",
   "execution_count": 9,
   "metadata": {
    "colab": {},
    "colab_type": "code",
    "id": "Efa3qwqksWBa",
    "outputId": "c383ed7a-5d87-4dbe-cbbd-b1f8a30d54bf"
   },
   "outputs": [
    {
     "name": "stdout",
     "output_type": "stream",
     "text": [
      "['Welcome to Br', 'inSt', \"tion's Python for D\", 't', ' Science Tr', 'ining Course!\\nTod', 'y you will le', 'rn:']\n"
     ]
    }
   ],
   "source": [
    "file = open('hey_brainstation.txt')\n",
    "content = file.read()\n",
    "split_content = content.split('a')\n",
    "print(split_content)"
   ]
  },
  {
   "cell_type": "markdown",
   "metadata": {
    "colab_type": "text",
    "id": "etyEhBOysWBe"
   },
   "source": [
    "You may have noticed that the 'a' character is no longer in our segmented strings. You can think of the split method as a function that replaces the specified character with a comma and returns a list. If we wanted to take each string a put it back together, we can use the .join() method and pass in the character you want to join each string with. In our most recent example above, we want to join our strings with the 'a' character."
   ]
  },
  {
   "cell_type": "code",
   "execution_count": 10,
   "metadata": {
    "colab": {},
    "colab_type": "code",
    "id": "rhwjYN61sWBf",
    "outputId": "e4996d34-5aa0-4a80-d882-7361929a89e6"
   },
   "outputs": [
    {
     "name": "stdout",
     "output_type": "stream",
     "text": [
      "Welcome to BrainStation's Python for Data Science Training Course!\n",
      "Today you will learn:\n"
     ]
    }
   ],
   "source": [
    "print('a'.join(split_content))\n",
    "file.close()"
   ]
  },
  {
   "cell_type": "markdown",
   "metadata": {
    "colab_type": "text",
    "id": "yTXN8Nb4sWBh"
   },
   "source": [
    "## Activity File Input & Output\n",
    "\n",
    "You are provided a secret message encoded in a format that humans can't read. The secret message is stored inside a file called `secret.txt` (download [here](https://drive.google.com/open?id=1Mu0ThgTUXhp2B7DFzLlrGIfAmh78BydD)). Using Python's `open` function and the resulting file object, read the contents of the file and use the provided `decode` function to decode the secret message. `decode` returns a string, so you will have to print it yourself."
   ]
  },
  {
   "cell_type": "code",
   "execution_count": 21,
   "metadata": {
    "colab": {},
    "colab_type": "code",
    "id": "8JNi5swSsWBi"
   },
   "outputs": [
    {
     "name": "stdout",
     "output_type": "stream",
     "text": [
      "b\"You'll eat more than 35,000 cookies in your lifetime (hopefully).\"\n"
     ]
    }
   ],
   "source": [
    "def decode(message):\n",
    "    import base64\n",
    "    return base64.b64decode(message)\n",
    "\n",
    "# Write Code Here\n",
    "secret_file = open('secret.txt') #r is default if mode is not specified\n",
    "print(decode(secret_file.read()))\n",
    "secret_file.close()\n"
   ]
  },
  {
   "cell_type": "markdown",
   "metadata": {
    "colab_type": "text",
    "id": "UrIooVSqsWBk"
   },
   "source": [
    "### Sorted Method\n",
    "\n",
    "There may come a time when you need to sort a piece of data, the .sorted() method gives us the ability to sort a collection of orderable elements. A list is considered to be an orderable data type while a dictionary is considered to be unorderable. The .sorted() method will take a list, arrange it according to the specified criteria and return a new list instance leaving the original unchanged."
   ]
  },
  {
   "cell_type": "code",
   "execution_count": 22,
   "metadata": {
    "colab": {},
    "colab_type": "code",
    "id": "YG2cbfsJsWBk",
    "outputId": "80e0c192-0792-4d64-9fbb-501084b37414"
   },
   "outputs": [
    {
     "name": "stdout",
     "output_type": "stream",
     "text": [
      "Sorted: [1, 2, 3, 4, 5]\n",
      "Original: [5, 2, 3, 1, 4]\n",
      "Sorted: ['Alex', 'Amy', 'Bob', 'Phil']\n",
      "Original: ['Bob', 'Amy', 'Phil', 'Alex']\n"
     ]
    }
   ],
   "source": [
    "nums = [5, 2, 3, 1, 4]\n",
    "result = sorted(nums)\n",
    "\n",
    "print(\"Sorted:\", result)\n",
    "print(\"Original:\",nums)\n",
    "\n",
    "names = [\"Bob\", \"Amy\", \"Phil\", \"Alex\"]\n",
    "result2 = sorted(names)\n",
    "\n",
    "print(\"Sorted:\", result2)\n",
    "print(\"Original:\", names)"
   ]
  },
  {
   "cell_type": "markdown",
   "metadata": {
    "colab_type": "text",
    "id": "izibuk5wsWBo"
   },
   "source": [
    "##### Advanced Sorting\n",
    "\n",
    "The sorted method has two parameters that can be used to facilitate more advanced sorting based on predetermined criteria. \n",
    "\n",
    "**key** parameter: The key parameter needs to be passed a function to return a comparison key for each element.\n",
    "\n",
    "**reverse** parameter: Sort in reverse order (to control ascending vs descending)\n",
    "\n",
    "```py\n",
    "sorted(data, key=function, reverse=boolean)\n",
    "```"
   ]
  },
  {
   "cell_type": "code",
   "execution_count": 23,
   "metadata": {
    "colab": {},
    "colab_type": "code",
    "id": "p3ryPFhWsWBq",
    "outputId": "a8cf4055-b046-497b-c306-b24d6445c28c"
   },
   "outputs": [
    {
     "name": "stdout",
     "output_type": "stream",
     "text": [
      "['Jen', 'Pat', 'Phil', 'Frank']\n",
      "['Frank', 'Phil', 'Jen', 'Pat']\n"
     ]
    }
   ],
   "source": [
    "names = [\"Frank\", \"Jen\", \"Phil\", \"Pat\"]\n",
    "\n",
    "# sort names list based on the length of each name\n",
    "sorted_names_by_length = sorted(names, key=len)\n",
    "print(sorted_names_by_length)\n",
    "\n",
    "sorted_names_by_length_descending = sorted(names, key=len, reverse=True)\n",
    "print(sorted_names_by_length_descending)"
   ]
  },
  {
   "cell_type": "markdown",
   "metadata": {
    "colab_type": "text",
    "id": "GFUnGBnUsWBs"
   },
   "source": [
    "## NumPy and Pandas\n",
    "\n",
    "Pandas and NumPy are two very useful Python libraries commonly used in Data Science and Data Analytics.\n",
    "\n",
    "Typically, they are imported as pd and np respectively.\n",
    "\n",
    "```py\n",
    "import pandas as pd\n",
    "import numpy as np\n",
    "```"
   ]
  },
  {
   "cell_type": "markdown",
   "metadata": {
    "colab_type": "text",
    "id": "Wx3GLSxMsWBt"
   },
   "source": [
    "### Pandas\n",
    "\n",
    "Pandas is a great tool for taking a csv file or SQL database to create an object with rows and columns. This is known as a **DataFrame**. Think of a DataFrame to be similar to an excel spreadsheet or table. We can create a DataFrame from our own dataset or from importing a csv file.\n",
    "\n",
    "First, let's create a DataFrame from our own dataset.\n",
    "\n",
    "#### Create DataFrame from Own Dataset"
   ]
  },
  {
   "cell_type": "code",
   "execution_count": 28,
   "metadata": {
    "colab": {},
    "colab_type": "code",
    "id": "f_Z_vVJqsWBt",
    "outputId": "bb37508b-167a-4e52-8e29-f8fa72ea8f60"
   },
   "outputs": [
    {
     "data": {
      "text/html": [
       "<div>\n",
       "<style scoped>\n",
       "    .dataframe tbody tr th:only-of-type {\n",
       "        vertical-align: middle;\n",
       "    }\n",
       "\n",
       "    .dataframe tbody tr th {\n",
       "        vertical-align: top;\n",
       "    }\n",
       "\n",
       "    .dataframe thead th {\n",
       "        text-align: right;\n",
       "    }\n",
       "</style>\n",
       "<table border=\"1\" class=\"dataframe\">\n",
       "  <thead>\n",
       "    <tr style=\"text-align: right;\">\n",
       "      <th></th>\n",
       "      <th>first_name</th>\n",
       "      <th>last_name</th>\n",
       "      <th>age</th>\n",
       "      <th>TestScore1</th>\n",
       "      <th>TestScore2</th>\n",
       "    </tr>\n",
       "  </thead>\n",
       "  <tbody>\n",
       "    <tr>\n",
       "      <th>0</th>\n",
       "      <td>Dave</td>\n",
       "      <td>Stevens</td>\n",
       "      <td>42</td>\n",
       "      <td>92</td>\n",
       "      <td>99</td>\n",
       "    </tr>\n",
       "    <tr>\n",
       "      <th>1</th>\n",
       "      <td>Tamara</td>\n",
       "      <td>Jacobson</td>\n",
       "      <td>52</td>\n",
       "      <td>44</td>\n",
       "      <td>64</td>\n",
       "    </tr>\n",
       "    <tr>\n",
       "      <th>2</th>\n",
       "      <td>Ashley</td>\n",
       "      <td>Davis</td>\n",
       "      <td>36</td>\n",
       "      <td>67</td>\n",
       "      <td>72</td>\n",
       "    </tr>\n",
       "    <tr>\n",
       "      <th>3</th>\n",
       "      <td>Arvin</td>\n",
       "      <td>Miller</td>\n",
       "      <td>24</td>\n",
       "      <td>75</td>\n",
       "      <td>75</td>\n",
       "    </tr>\n",
       "    <tr>\n",
       "      <th>4</th>\n",
       "      <td>Emma</td>\n",
       "      <td>Cook</td>\n",
       "      <td>73</td>\n",
       "      <td>83</td>\n",
       "      <td>85</td>\n",
       "    </tr>\n",
       "  </tbody>\n",
       "</table>\n",
       "</div>"
      ],
      "text/plain": [
       "  first_name last_name  age  TestScore1  TestScore2\n",
       "0       Dave   Stevens   42          92          99\n",
       "1     Tamara  Jacobson   52          44          64\n",
       "2     Ashley     Davis   36          67          72\n",
       "3      Arvin    Miller   24          75          75\n",
       "4       Emma      Cook   73          83          85"
      ]
     },
     "execution_count": 28,
     "metadata": {},
     "output_type": "execute_result"
    }
   ],
   "source": [
    "import pandas as pd\n",
    "import numpy as np\n",
    "\n",
    "raw_data = {\n",
    "    'first_name': ['Dave', 'Tamara', 'Ashley', 'Arvin', 'Emma'],\n",
    "    'last_name': ['Stevens', 'Jacobson', 'Davis', 'Miller', 'Cook'],\n",
    "    'age': [42, 52, 36, 24, 73],\n",
    "    'TestScore1': [92, 44, 67,75, 83],\n",
    "    'TestScore2': [99, 64, 72, 75, 85]\n",
    "}\n",
    "test_scores = pd.DataFrame(raw_data, columns = ['first_name', 'last_name', 'age', 'TestScore1', 'TestScore2'])\n",
    "test_scores\n"
   ]
  },
  {
   "cell_type": "markdown",
   "metadata": {
    "colab_type": "text",
    "id": "Wa9plwQLsWBx"
   },
   "source": [
    "#### Create DataFrame from Imported CSV File\n",
    "\n",
    "Use the .read_csv() method and pass in the file path to our csv file.\n",
    "\n",
    "```py\n",
    "import pandas as pd\n",
    "df = pd.read_csv('file-path.csv')\n",
    "```\n",
    "\n",
    "Note: df is the variable that will hold/represent our DataFrame. \n",
    "\n",
    "#### Pandas: Indexing\n",
    "\n",
    "Indexing is used to read and modify our DataFrame. We can index by doing the following:\n",
    "- Basic Indexing: ```py dataframe[column-name]```\n",
    "- Index by Label: ```py dataframe.loc[row, column]```\n",
    "- Index by Integer: ```py dataframe.iloc[row, column]``` "
   ]
  },
  {
   "cell_type": "code",
   "execution_count": 31,
   "metadata": {
    "colab": {},
    "colab_type": "code",
    "id": "fkQ0rYfDsWBy",
    "outputId": "7aebb05d-c8f4-4ea8-d184-69bf2f093da6"
   },
   "outputs": [
    {
     "name": "stdout",
     "output_type": "stream",
     "text": [
      "List of Student Names\n",
      "0      Dave\n",
      "1    Tamara\n",
      "2    Ashley\n",
      "3     Arvin\n",
      "4      Emma\n",
      "Name: first_name, dtype: object\n",
      "Increased Test Score by 2\n",
      "0    98\n",
      "1    50\n",
      "2    73\n",
      "3    81\n",
      "4    89\n",
      "Name: TestScore1, dtype: int64\n",
      "First Student Data\n",
      "first_name       Dave\n",
      "last_name     Stevens\n",
      "age                42\n",
      "TestScore1         98\n",
      "TestScore2         99\n",
      "Name: 0, dtype: object\n"
     ]
    }
   ],
   "source": [
    "# Basic\n",
    "print(\"List of Student Names\")\n",
    "first_names = test_scores['first_name']\n",
    "print(first_names)\n",
    "\n",
    "print(\"Increased Test Score by 2\")\n",
    "test_scores['TestScore1'] += 2 #Running this block increases score by 2 each time\n",
    "print(test_scores['TestScore1'])\n",
    "\n",
    "# Access First Student will Index by Integer\n",
    "first_student = test_scores.iloc[0]\n",
    "print(\"First Student Data\")\n",
    "print(first_student)"
   ]
  },
  {
   "cell_type": "markdown",
   "metadata": {
    "colab_type": "text",
    "id": "FHkFhGYPsWB1"
   },
   "source": [
    "#### Pandas: Advanced Indexing with Slicing\n",
    "\n",
    "Slicing gives us access to a subset of data in our DataFrame. The overall syntax for slicing is very simple but can be very powerful especially for cases where we want to:\n",
    "- keep the first and last rows\n",
    "- keep every nth row\n",
    "- access a section of data\n",
    "\n",
    "The general syntax is as follows:\n",
    "```py\n",
    "dataframe[begin:end:step]\n",
    "dataframe.loc[row_begin:row_end:row_step, col_begin:col_end:col_step]\n",
    "dataframe.iloc[row_begin:row_end:row_step, col_begin:col_end:col_step]\n",
    "\n",
    "```\n",
    "\n",
    "<img src='https://drive.google.com/uc?view=export&id=1mV4QAv21ID_9lLX86xqm7z_ndaSa1yhQ' />\n",
    "\n",
    "Let's do some slicing on our test_scores DataFrame"
   ]
  },
  {
   "cell_type": "code",
   "execution_count": 32,
   "metadata": {
    "colab": {},
    "colab_type": "code",
    "id": "UjNjQkJZsWB1",
    "outputId": "26f4e4ba-23c8-4932-ff83-5227777b08e6"
   },
   "outputs": [
    {
     "data": {
      "text/html": [
       "<div>\n",
       "<style scoped>\n",
       "    .dataframe tbody tr th:only-of-type {\n",
       "        vertical-align: middle;\n",
       "    }\n",
       "\n",
       "    .dataframe tbody tr th {\n",
       "        vertical-align: top;\n",
       "    }\n",
       "\n",
       "    .dataframe thead th {\n",
       "        text-align: right;\n",
       "    }\n",
       "</style>\n",
       "<table border=\"1\" class=\"dataframe\">\n",
       "  <thead>\n",
       "    <tr style=\"text-align: right;\">\n",
       "      <th></th>\n",
       "      <th>first_name</th>\n",
       "      <th>last_name</th>\n",
       "      <th>age</th>\n",
       "      <th>TestScore1</th>\n",
       "      <th>TestScore2</th>\n",
       "    </tr>\n",
       "  </thead>\n",
       "  <tbody>\n",
       "    <tr>\n",
       "      <th>0</th>\n",
       "      <td>Dave</td>\n",
       "      <td>Stevens</td>\n",
       "      <td>42</td>\n",
       "      <td>98</td>\n",
       "      <td>99</td>\n",
       "    </tr>\n",
       "    <tr>\n",
       "      <th>1</th>\n",
       "      <td>Tamara</td>\n",
       "      <td>Jacobson</td>\n",
       "      <td>52</td>\n",
       "      <td>50</td>\n",
       "      <td>64</td>\n",
       "    </tr>\n",
       "    <tr>\n",
       "      <th>2</th>\n",
       "      <td>Ashley</td>\n",
       "      <td>Davis</td>\n",
       "      <td>36</td>\n",
       "      <td>73</td>\n",
       "      <td>72</td>\n",
       "    </tr>\n",
       "  </tbody>\n",
       "</table>\n",
       "</div>"
      ],
      "text/plain": [
       "  first_name last_name  age  TestScore1  TestScore2\n",
       "0       Dave   Stevens   42          98          99\n",
       "1     Tamara  Jacobson   52          50          64\n",
       "2     Ashley     Davis   36          73          72"
      ]
     },
     "execution_count": 32,
     "metadata": {},
     "output_type": "execute_result"
    }
   ],
   "source": [
    "# Slice until index 3\n",
    "test_scores[:3]"
   ]
  },
  {
   "cell_type": "code",
   "execution_count": 33,
   "metadata": {
    "colab": {},
    "colab_type": "code",
    "id": "oPBonREOsWB4",
    "outputId": "fb049ae2-71d8-4324-e358-e28f87fd186a"
   },
   "outputs": [
    {
     "data": {
      "text/html": [
       "<div>\n",
       "<style scoped>\n",
       "    .dataframe tbody tr th:only-of-type {\n",
       "        vertical-align: middle;\n",
       "    }\n",
       "\n",
       "    .dataframe tbody tr th {\n",
       "        vertical-align: top;\n",
       "    }\n",
       "\n",
       "    .dataframe thead th {\n",
       "        text-align: right;\n",
       "    }\n",
       "</style>\n",
       "<table border=\"1\" class=\"dataframe\">\n",
       "  <thead>\n",
       "    <tr style=\"text-align: right;\">\n",
       "      <th></th>\n",
       "      <th>first_name</th>\n",
       "      <th>last_name</th>\n",
       "      <th>age</th>\n",
       "      <th>TestScore1</th>\n",
       "      <th>TestScore2</th>\n",
       "    </tr>\n",
       "  </thead>\n",
       "  <tbody>\n",
       "    <tr>\n",
       "      <th>2</th>\n",
       "      <td>Ashley</td>\n",
       "      <td>Davis</td>\n",
       "      <td>36</td>\n",
       "      <td>73</td>\n",
       "      <td>72</td>\n",
       "    </tr>\n",
       "    <tr>\n",
       "      <th>3</th>\n",
       "      <td>Arvin</td>\n",
       "      <td>Miller</td>\n",
       "      <td>24</td>\n",
       "      <td>81</td>\n",
       "      <td>75</td>\n",
       "    </tr>\n",
       "    <tr>\n",
       "      <th>4</th>\n",
       "      <td>Emma</td>\n",
       "      <td>Cook</td>\n",
       "      <td>73</td>\n",
       "      <td>89</td>\n",
       "      <td>85</td>\n",
       "    </tr>\n",
       "  </tbody>\n",
       "</table>\n",
       "</div>"
      ],
      "text/plain": [
       "  first_name last_name  age  TestScore1  TestScore2\n",
       "2     Ashley     Davis   36          73          72\n",
       "3      Arvin    Miller   24          81          75\n",
       "4       Emma      Cook   73          89          85"
      ]
     },
     "execution_count": 33,
     "metadata": {},
     "output_type": "execute_result"
    }
   ],
   "source": [
    "# Slice from the end back 3\n",
    "test_scores[-3:]"
   ]
  },
  {
   "cell_type": "code",
   "execution_count": 34,
   "metadata": {
    "colab": {},
    "colab_type": "code",
    "id": "ZKGYlYHFsWB6",
    "outputId": "9c188c79-8457-4617-9d40-2217890c9064"
   },
   "outputs": [
    {
     "data": {
      "text/html": [
       "<div>\n",
       "<style scoped>\n",
       "    .dataframe tbody tr th:only-of-type {\n",
       "        vertical-align: middle;\n",
       "    }\n",
       "\n",
       "    .dataframe tbody tr th {\n",
       "        vertical-align: top;\n",
       "    }\n",
       "\n",
       "    .dataframe thead th {\n",
       "        text-align: right;\n",
       "    }\n",
       "</style>\n",
       "<table border=\"1\" class=\"dataframe\">\n",
       "  <thead>\n",
       "    <tr style=\"text-align: right;\">\n",
       "      <th></th>\n",
       "      <th>first_name</th>\n",
       "      <th>last_name</th>\n",
       "      <th>age</th>\n",
       "      <th>TestScore1</th>\n",
       "      <th>TestScore2</th>\n",
       "    </tr>\n",
       "  </thead>\n",
       "  <tbody>\n",
       "    <tr>\n",
       "      <th>0</th>\n",
       "      <td>Dave</td>\n",
       "      <td>Stevens</td>\n",
       "      <td>42</td>\n",
       "      <td>98</td>\n",
       "      <td>99</td>\n",
       "    </tr>\n",
       "    <tr>\n",
       "      <th>2</th>\n",
       "      <td>Ashley</td>\n",
       "      <td>Davis</td>\n",
       "      <td>36</td>\n",
       "      <td>73</td>\n",
       "      <td>72</td>\n",
       "    </tr>\n",
       "    <tr>\n",
       "      <th>4</th>\n",
       "      <td>Emma</td>\n",
       "      <td>Cook</td>\n",
       "      <td>73</td>\n",
       "      <td>89</td>\n",
       "      <td>85</td>\n",
       "    </tr>\n",
       "  </tbody>\n",
       "</table>\n",
       "</div>"
      ],
      "text/plain": [
       "  first_name last_name  age  TestScore1  TestScore2\n",
       "0       Dave   Stevens   42          98          99\n",
       "2     Ashley     Davis   36          73          72\n",
       "4       Emma      Cook   73          89          85"
      ]
     },
     "execution_count": 34,
     "metadata": {},
     "output_type": "execute_result"
    }
   ],
   "source": [
    "# Slice every other row\n",
    "test_scores[::2]"
   ]
  },
  {
   "cell_type": "markdown",
   "metadata": {
    "colab_type": "text",
    "id": "8YBFlrVesWCA"
   },
   "source": [
    "#### Pandas: Sorting\n",
    "\n",
    "Using the simple .sort_values() method is the easiest way to sort data. Refer to the table below for all parameters available.\n",
    "\n",
    "<img src='https://drive.google.com/uc?view=export&id=1bn9o3oBgSz5SAEx7EJjFpUqf7bxnakWh' />"
   ]
  },
  {
   "cell_type": "code",
   "execution_count": 35,
   "metadata": {
    "colab": {},
    "colab_type": "code",
    "id": "xBPcR8dlsWCA",
    "outputId": "a63db6f6-54f3-4c99-d816-60df4d0139da"
   },
   "outputs": [
    {
     "data": {
      "text/html": [
       "<div>\n",
       "<style scoped>\n",
       "    .dataframe tbody tr th:only-of-type {\n",
       "        vertical-align: middle;\n",
       "    }\n",
       "\n",
       "    .dataframe tbody tr th {\n",
       "        vertical-align: top;\n",
       "    }\n",
       "\n",
       "    .dataframe thead th {\n",
       "        text-align: right;\n",
       "    }\n",
       "</style>\n",
       "<table border=\"1\" class=\"dataframe\">\n",
       "  <thead>\n",
       "    <tr style=\"text-align: right;\">\n",
       "      <th></th>\n",
       "      <th>first_name</th>\n",
       "      <th>last_name</th>\n",
       "      <th>age</th>\n",
       "      <th>TestScore1</th>\n",
       "      <th>TestScore2</th>\n",
       "    </tr>\n",
       "  </thead>\n",
       "  <tbody>\n",
       "    <tr>\n",
       "      <th>1</th>\n",
       "      <td>Tamara</td>\n",
       "      <td>Jacobson</td>\n",
       "      <td>52</td>\n",
       "      <td>50</td>\n",
       "      <td>64</td>\n",
       "    </tr>\n",
       "    <tr>\n",
       "      <th>2</th>\n",
       "      <td>Ashley</td>\n",
       "      <td>Davis</td>\n",
       "      <td>36</td>\n",
       "      <td>73</td>\n",
       "      <td>72</td>\n",
       "    </tr>\n",
       "    <tr>\n",
       "      <th>3</th>\n",
       "      <td>Arvin</td>\n",
       "      <td>Miller</td>\n",
       "      <td>24</td>\n",
       "      <td>81</td>\n",
       "      <td>75</td>\n",
       "    </tr>\n",
       "    <tr>\n",
       "      <th>4</th>\n",
       "      <td>Emma</td>\n",
       "      <td>Cook</td>\n",
       "      <td>73</td>\n",
       "      <td>89</td>\n",
       "      <td>85</td>\n",
       "    </tr>\n",
       "    <tr>\n",
       "      <th>0</th>\n",
       "      <td>Dave</td>\n",
       "      <td>Stevens</td>\n",
       "      <td>42</td>\n",
       "      <td>98</td>\n",
       "      <td>99</td>\n",
       "    </tr>\n",
       "  </tbody>\n",
       "</table>\n",
       "</div>"
      ],
      "text/plain": [
       "  first_name last_name  age  TestScore1  TestScore2\n",
       "1     Tamara  Jacobson   52          50          64\n",
       "2     Ashley     Davis   36          73          72\n",
       "3      Arvin    Miller   24          81          75\n",
       "4       Emma      Cook   73          89          85\n",
       "0       Dave   Stevens   42          98          99"
      ]
     },
     "execution_count": 35,
     "metadata": {},
     "output_type": "execute_result"
    }
   ],
   "source": [
    "#Let's sort the values by TestScore1\n",
    "test_scores.sort_values(by=['TestScore1'])"
   ]
  },
  {
   "cell_type": "code",
   "execution_count": 36,
   "metadata": {
    "colab": {},
    "colab_type": "code",
    "id": "Ckbk-U5zsWCD",
    "outputId": "88bffc35-66ae-4f8c-b335-cc2def79af55"
   },
   "outputs": [
    {
     "data": {
      "text/html": [
       "<div>\n",
       "<style scoped>\n",
       "    .dataframe tbody tr th:only-of-type {\n",
       "        vertical-align: middle;\n",
       "    }\n",
       "\n",
       "    .dataframe tbody tr th {\n",
       "        vertical-align: top;\n",
       "    }\n",
       "\n",
       "    .dataframe thead th {\n",
       "        text-align: right;\n",
       "    }\n",
       "</style>\n",
       "<table border=\"1\" class=\"dataframe\">\n",
       "  <thead>\n",
       "    <tr style=\"text-align: right;\">\n",
       "      <th></th>\n",
       "      <th>first_name</th>\n",
       "      <th>last_name</th>\n",
       "      <th>age</th>\n",
       "      <th>TestScore1</th>\n",
       "      <th>TestScore2</th>\n",
       "    </tr>\n",
       "  </thead>\n",
       "  <tbody>\n",
       "    <tr>\n",
       "      <th>0</th>\n",
       "      <td>Dave</td>\n",
       "      <td>Stevens</td>\n",
       "      <td>42</td>\n",
       "      <td>98</td>\n",
       "      <td>99</td>\n",
       "    </tr>\n",
       "    <tr>\n",
       "      <th>4</th>\n",
       "      <td>Emma</td>\n",
       "      <td>Cook</td>\n",
       "      <td>73</td>\n",
       "      <td>89</td>\n",
       "      <td>85</td>\n",
       "    </tr>\n",
       "    <tr>\n",
       "      <th>3</th>\n",
       "      <td>Arvin</td>\n",
       "      <td>Miller</td>\n",
       "      <td>24</td>\n",
       "      <td>81</td>\n",
       "      <td>75</td>\n",
       "    </tr>\n",
       "    <tr>\n",
       "      <th>2</th>\n",
       "      <td>Ashley</td>\n",
       "      <td>Davis</td>\n",
       "      <td>36</td>\n",
       "      <td>73</td>\n",
       "      <td>72</td>\n",
       "    </tr>\n",
       "    <tr>\n",
       "      <th>1</th>\n",
       "      <td>Tamara</td>\n",
       "      <td>Jacobson</td>\n",
       "      <td>52</td>\n",
       "      <td>50</td>\n",
       "      <td>64</td>\n",
       "    </tr>\n",
       "  </tbody>\n",
       "</table>\n",
       "</div>"
      ],
      "text/plain": [
       "  first_name last_name  age  TestScore1  TestScore2\n",
       "0       Dave   Stevens   42          98          99\n",
       "4       Emma      Cook   73          89          85\n",
       "3      Arvin    Miller   24          81          75\n",
       "2     Ashley     Davis   36          73          72\n",
       "1     Tamara  Jacobson   52          50          64"
      ]
     },
     "execution_count": 36,
     "metadata": {},
     "output_type": "execute_result"
    }
   ],
   "source": [
    "test_scores.sort_values(by=['TestScore1'], ascending=False)"
   ]
  },
  {
   "cell_type": "markdown",
   "metadata": {
    "colab_type": "text",
    "id": "8jGr-5zLsWCG"
   },
   "source": [
    "#### Pandas: Additional ways to sort"
   ]
  },
  {
   "cell_type": "markdown",
   "metadata": {
    "colab_type": "text",
    "id": "_TyyTJJFsWCG"
   },
   "source": [
    "For teaching purposes, it is easy to create a randomized DataFrame, which we can learn to manipulate. \n",
    "Typically, we will define our DataFrames as 'df'."
   ]
  },
  {
   "cell_type": "code",
   "execution_count": 37,
   "metadata": {
    "colab": {},
    "colab_type": "code",
    "id": "H8v7Bl46sWCG",
    "outputId": "8e2ff926-d2a2-467b-b6a6-af7ce3139439"
   },
   "outputs": [
    {
     "data": {
      "text/html": [
       "<div>\n",
       "<style scoped>\n",
       "    .dataframe tbody tr th:only-of-type {\n",
       "        vertical-align: middle;\n",
       "    }\n",
       "\n",
       "    .dataframe tbody tr th {\n",
       "        vertical-align: top;\n",
       "    }\n",
       "\n",
       "    .dataframe thead th {\n",
       "        text-align: right;\n",
       "    }\n",
       "</style>\n",
       "<table border=\"1\" class=\"dataframe\">\n",
       "  <thead>\n",
       "    <tr style=\"text-align: right;\">\n",
       "      <th></th>\n",
       "      <th>A</th>\n",
       "      <th>B</th>\n",
       "      <th>C</th>\n",
       "      <th>D</th>\n",
       "      <th>E</th>\n",
       "      <th>F</th>\n",
       "      <th>G</th>\n",
       "    </tr>\n",
       "  </thead>\n",
       "  <tbody>\n",
       "    <tr>\n",
       "      <th>0</th>\n",
       "      <td>1.030929</td>\n",
       "      <td>0.804766</td>\n",
       "      <td>-0.148318</td>\n",
       "      <td>0.793244</td>\n",
       "      <td>-0.619554</td>\n",
       "      <td>0.948809</td>\n",
       "      <td>0.624056</td>\n",
       "    </tr>\n",
       "    <tr>\n",
       "      <th>1</th>\n",
       "      <td>-1.423480</td>\n",
       "      <td>-1.139170</td>\n",
       "      <td>0.336149</td>\n",
       "      <td>-0.508605</td>\n",
       "      <td>1.050185</td>\n",
       "      <td>2.110333</td>\n",
       "      <td>1.946714</td>\n",
       "    </tr>\n",
       "    <tr>\n",
       "      <th>2</th>\n",
       "      <td>-0.746429</td>\n",
       "      <td>-0.229592</td>\n",
       "      <td>0.166277</td>\n",
       "      <td>0.277758</td>\n",
       "      <td>0.220259</td>\n",
       "      <td>-0.635070</td>\n",
       "      <td>0.862115</td>\n",
       "    </tr>\n",
       "    <tr>\n",
       "      <th>3</th>\n",
       "      <td>0.911521</td>\n",
       "      <td>-0.209106</td>\n",
       "      <td>-0.202619</td>\n",
       "      <td>-0.417628</td>\n",
       "      <td>0.464785</td>\n",
       "      <td>-0.093956</td>\n",
       "      <td>0.189918</td>\n",
       "    </tr>\n",
       "    <tr>\n",
       "      <th>4</th>\n",
       "      <td>1.010034</td>\n",
       "      <td>-1.062626</td>\n",
       "      <td>-1.042431</td>\n",
       "      <td>-0.937690</td>\n",
       "      <td>-0.335082</td>\n",
       "      <td>0.020892</td>\n",
       "      <td>-2.275991</td>\n",
       "    </tr>\n",
       "    <tr>\n",
       "      <th>5</th>\n",
       "      <td>-0.726108</td>\n",
       "      <td>-2.742918</td>\n",
       "      <td>-1.288317</td>\n",
       "      <td>-0.355099</td>\n",
       "      <td>0.122563</td>\n",
       "      <td>-0.382977</td>\n",
       "      <td>1.023206</td>\n",
       "    </tr>\n",
       "    <tr>\n",
       "      <th>6</th>\n",
       "      <td>1.284221</td>\n",
       "      <td>1.077228</td>\n",
       "      <td>1.052090</td>\n",
       "      <td>-0.423454</td>\n",
       "      <td>-1.967812</td>\n",
       "      <td>-0.105176</td>\n",
       "      <td>-0.147292</td>\n",
       "    </tr>\n",
       "  </tbody>\n",
       "</table>\n",
       "</div>"
      ],
      "text/plain": [
       "          A         B         C         D         E         F         G\n",
       "0  1.030929  0.804766 -0.148318  0.793244 -0.619554  0.948809  0.624056\n",
       "1 -1.423480 -1.139170  0.336149 -0.508605  1.050185  2.110333  1.946714\n",
       "2 -0.746429 -0.229592  0.166277  0.277758  0.220259 -0.635070  0.862115\n",
       "3  0.911521 -0.209106 -0.202619 -0.417628  0.464785 -0.093956  0.189918\n",
       "4  1.010034 -1.062626 -1.042431 -0.937690 -0.335082  0.020892 -2.275991\n",
       "5 -0.726108 -2.742918 -1.288317 -0.355099  0.122563 -0.382977  1.023206\n",
       "6  1.284221  1.077228  1.052090 -0.423454 -1.967812 -0.105176 -0.147292"
      ]
     },
     "execution_count": 37,
     "metadata": {},
     "output_type": "execute_result"
    }
   ],
   "source": [
    "df = pd.DataFrame(np.random.randn(7,7), columns=['A','B','C','D','E','F','G'])\n",
    "df"
   ]
  },
  {
   "cell_type": "markdown",
   "metadata": {
    "colab_type": "text",
    "id": "hk4rMMapsWCK"
   },
   "source": [
    "You can access the top rows of a data frame using **.head( )** and the bottom using **.tail( )**, if you leave it blank, the display will default at 5 rows"
   ]
  },
  {
   "cell_type": "code",
   "execution_count": 38,
   "metadata": {
    "colab": {},
    "colab_type": "code",
    "id": "ewQz9t1esWCK",
    "outputId": "d4b50a61-1c75-464a-cb06-94a1a9c16e39"
   },
   "outputs": [
    {
     "data": {
      "text/html": [
       "<div>\n",
       "<style scoped>\n",
       "    .dataframe tbody tr th:only-of-type {\n",
       "        vertical-align: middle;\n",
       "    }\n",
       "\n",
       "    .dataframe tbody tr th {\n",
       "        vertical-align: top;\n",
       "    }\n",
       "\n",
       "    .dataframe thead th {\n",
       "        text-align: right;\n",
       "    }\n",
       "</style>\n",
       "<table border=\"1\" class=\"dataframe\">\n",
       "  <thead>\n",
       "    <tr style=\"text-align: right;\">\n",
       "      <th></th>\n",
       "      <th>A</th>\n",
       "      <th>B</th>\n",
       "      <th>C</th>\n",
       "      <th>D</th>\n",
       "      <th>E</th>\n",
       "      <th>F</th>\n",
       "      <th>G</th>\n",
       "    </tr>\n",
       "  </thead>\n",
       "  <tbody>\n",
       "    <tr>\n",
       "      <th>0</th>\n",
       "      <td>1.030929</td>\n",
       "      <td>0.804766</td>\n",
       "      <td>-0.148318</td>\n",
       "      <td>0.793244</td>\n",
       "      <td>-0.619554</td>\n",
       "      <td>0.948809</td>\n",
       "      <td>0.624056</td>\n",
       "    </tr>\n",
       "    <tr>\n",
       "      <th>1</th>\n",
       "      <td>-1.423480</td>\n",
       "      <td>-1.139170</td>\n",
       "      <td>0.336149</td>\n",
       "      <td>-0.508605</td>\n",
       "      <td>1.050185</td>\n",
       "      <td>2.110333</td>\n",
       "      <td>1.946714</td>\n",
       "    </tr>\n",
       "    <tr>\n",
       "      <th>2</th>\n",
       "      <td>-0.746429</td>\n",
       "      <td>-0.229592</td>\n",
       "      <td>0.166277</td>\n",
       "      <td>0.277758</td>\n",
       "      <td>0.220259</td>\n",
       "      <td>-0.635070</td>\n",
       "      <td>0.862115</td>\n",
       "    </tr>\n",
       "    <tr>\n",
       "      <th>3</th>\n",
       "      <td>0.911521</td>\n",
       "      <td>-0.209106</td>\n",
       "      <td>-0.202619</td>\n",
       "      <td>-0.417628</td>\n",
       "      <td>0.464785</td>\n",
       "      <td>-0.093956</td>\n",
       "      <td>0.189918</td>\n",
       "    </tr>\n",
       "    <tr>\n",
       "      <th>4</th>\n",
       "      <td>1.010034</td>\n",
       "      <td>-1.062626</td>\n",
       "      <td>-1.042431</td>\n",
       "      <td>-0.937690</td>\n",
       "      <td>-0.335082</td>\n",
       "      <td>0.020892</td>\n",
       "      <td>-2.275991</td>\n",
       "    </tr>\n",
       "  </tbody>\n",
       "</table>\n",
       "</div>"
      ],
      "text/plain": [
       "          A         B         C         D         E         F         G\n",
       "0  1.030929  0.804766 -0.148318  0.793244 -0.619554  0.948809  0.624056\n",
       "1 -1.423480 -1.139170  0.336149 -0.508605  1.050185  2.110333  1.946714\n",
       "2 -0.746429 -0.229592  0.166277  0.277758  0.220259 -0.635070  0.862115\n",
       "3  0.911521 -0.209106 -0.202619 -0.417628  0.464785 -0.093956  0.189918\n",
       "4  1.010034 -1.062626 -1.042431 -0.937690 -0.335082  0.020892 -2.275991"
      ]
     },
     "execution_count": 38,
     "metadata": {},
     "output_type": "execute_result"
    }
   ],
   "source": [
    "df.head()"
   ]
  },
  {
   "cell_type": "code",
   "execution_count": 39,
   "metadata": {
    "colab": {},
    "colab_type": "code",
    "id": "ZdrXMHqbsWCO",
    "outputId": "4b2aa61d-0881-49ff-ceb6-a11e8bcc46a2"
   },
   "outputs": [
    {
     "data": {
      "text/html": [
       "<div>\n",
       "<style scoped>\n",
       "    .dataframe tbody tr th:only-of-type {\n",
       "        vertical-align: middle;\n",
       "    }\n",
       "\n",
       "    .dataframe tbody tr th {\n",
       "        vertical-align: top;\n",
       "    }\n",
       "\n",
       "    .dataframe thead th {\n",
       "        text-align: right;\n",
       "    }\n",
       "</style>\n",
       "<table border=\"1\" class=\"dataframe\">\n",
       "  <thead>\n",
       "    <tr style=\"text-align: right;\">\n",
       "      <th></th>\n",
       "      <th>A</th>\n",
       "      <th>B</th>\n",
       "      <th>C</th>\n",
       "      <th>D</th>\n",
       "      <th>E</th>\n",
       "      <th>F</th>\n",
       "      <th>G</th>\n",
       "    </tr>\n",
       "  </thead>\n",
       "  <tbody>\n",
       "    <tr>\n",
       "      <th>6</th>\n",
       "      <td>1.284221</td>\n",
       "      <td>1.077228</td>\n",
       "      <td>1.05209</td>\n",
       "      <td>-0.423454</td>\n",
       "      <td>-1.967812</td>\n",
       "      <td>-0.105176</td>\n",
       "      <td>-0.147292</td>\n",
       "    </tr>\n",
       "  </tbody>\n",
       "</table>\n",
       "</div>"
      ],
      "text/plain": [
       "          A         B        C         D         E         F         G\n",
       "6  1.284221  1.077228  1.05209 -0.423454 -1.967812 -0.105176 -0.147292"
      ]
     },
     "execution_count": 39,
     "metadata": {},
     "output_type": "execute_result"
    }
   ],
   "source": [
    "df.tail(1) #displays bottom row of data only"
   ]
  },
  {
   "cell_type": "markdown",
   "metadata": {
    "colab_type": "text",
    "id": "VOSk8IkssWCT"
   },
   "source": [
    "Slicing rows in a dataframe is very easy!\n",
    "\n",
    "The key is to remember that Python is a **zero-index** language.\n",
    "\n",
    "- The below image shows what position each letter in the word \"digital\" is positioned depending on the index\n",
    "\n",
    "<img src = \"https://drive.google.com/uc?export=view&id=1CDMS-KTB550XiG_9Y9kCRCSYxxMK8jtn\" height = \"500\" width = \"300\" align=\"left\" />\n"
   ]
  },
  {
   "cell_type": "markdown",
   "metadata": {
    "colab_type": "text",
    "id": "ojBWrCWYsWCT"
   },
   "source": [
    "\n",
    "Let's only show the rows labelled 5 and 6!"
   ]
  },
  {
   "cell_type": "code",
   "execution_count": 41,
   "metadata": {
    "colab": {},
    "colab_type": "code",
    "id": "tHHC3v5ksWCT",
    "outputId": "cd0c1d9b-b30a-4cb5-ea82-ae5be4c64396"
   },
   "outputs": [
    {
     "data": {
      "text/html": [
       "<div>\n",
       "<style scoped>\n",
       "    .dataframe tbody tr th:only-of-type {\n",
       "        vertical-align: middle;\n",
       "    }\n",
       "\n",
       "    .dataframe tbody tr th {\n",
       "        vertical-align: top;\n",
       "    }\n",
       "\n",
       "    .dataframe thead th {\n",
       "        text-align: right;\n",
       "    }\n",
       "</style>\n",
       "<table border=\"1\" class=\"dataframe\">\n",
       "  <thead>\n",
       "    <tr style=\"text-align: right;\">\n",
       "      <th></th>\n",
       "      <th>A</th>\n",
       "      <th>B</th>\n",
       "      <th>C</th>\n",
       "      <th>D</th>\n",
       "      <th>E</th>\n",
       "      <th>F</th>\n",
       "      <th>G</th>\n",
       "    </tr>\n",
       "  </thead>\n",
       "  <tbody>\n",
       "    <tr>\n",
       "      <th>5</th>\n",
       "      <td>-0.726108</td>\n",
       "      <td>-2.742918</td>\n",
       "      <td>-1.288317</td>\n",
       "      <td>-0.355099</td>\n",
       "      <td>0.122563</td>\n",
       "      <td>-0.382977</td>\n",
       "      <td>1.023206</td>\n",
       "    </tr>\n",
       "    <tr>\n",
       "      <th>6</th>\n",
       "      <td>1.284221</td>\n",
       "      <td>1.077228</td>\n",
       "      <td>1.052090</td>\n",
       "      <td>-0.423454</td>\n",
       "      <td>-1.967812</td>\n",
       "      <td>-0.105176</td>\n",
       "      <td>-0.147292</td>\n",
       "    </tr>\n",
       "  </tbody>\n",
       "</table>\n",
       "</div>"
      ],
      "text/plain": [
       "          A         B         C         D         E         F         G\n",
       "5 -0.726108 -2.742918 -1.288317 -0.355099  0.122563 -0.382977  1.023206\n",
       "6  1.284221  1.077228  1.052090 -0.423454 -1.967812 -0.105176 -0.147292"
      ]
     },
     "execution_count": 41,
     "metadata": {},
     "output_type": "execute_result"
    }
   ],
   "source": [
    "df[5:7] #[5:6] would only show row 5 (6th row since zero index)"
   ]
  },
  {
   "cell_type": "markdown",
   "metadata": {
    "colab_type": "text",
    "id": "cYXzdpKqsWCV"
   },
   "source": [
    "#### Pandas: Concatenation\n",
    "Concatenation essentially glues the DataFrames together. \n",
    "The dimension on which you want to concatenate can be selected using **.concat** and pass in the list of DataFrames to concatenate together. \n",
    "Let's take a look with the below example, with historical data from Iceland's consumer price index and harmonized inflation rate https://www.inflation.eu/inflation-rates/iceland/historic-inflation/cpi-inflation-iceland.aspx:"
   ]
  },
  {
   "cell_type": "code",
   "execution_count": 42,
   "metadata": {
    "colab": {},
    "colab_type": "code",
    "id": "n00WQL_nsWCV",
    "outputId": "cc7efa7a-63a2-4bbe-aa87-a47bfba735f0"
   },
   "outputs": [
    {
     "data": {
      "text/html": [
       "<div>\n",
       "<style scoped>\n",
       "    .dataframe tbody tr th:only-of-type {\n",
       "        vertical-align: middle;\n",
       "    }\n",
       "\n",
       "    .dataframe tbody tr th {\n",
       "        vertical-align: top;\n",
       "    }\n",
       "\n",
       "    .dataframe thead th {\n",
       "        text-align: right;\n",
       "    }\n",
       "</style>\n",
       "<table border=\"1\" class=\"dataframe\">\n",
       "  <thead>\n",
       "    <tr style=\"text-align: right;\">\n",
       "      <th></th>\n",
       "      <th>CPI_Dec-Dec</th>\n",
       "      <th>Average_CPI</th>\n",
       "      <th>HICP</th>\n",
       "    </tr>\n",
       "  </thead>\n",
       "  <tbody>\n",
       "    <tr>\n",
       "      <th>2018</th>\n",
       "      <td>3.72</td>\n",
       "      <td>3.15</td>\n",
       "      <td>1.98</td>\n",
       "    </tr>\n",
       "    <tr>\n",
       "      <th>2017</th>\n",
       "      <td>1.86</td>\n",
       "      <td>2.68</td>\n",
       "      <td>-1.02</td>\n",
       "    </tr>\n",
       "    <tr>\n",
       "      <th>2016</th>\n",
       "      <td>1.90</td>\n",
       "      <td>1.77</td>\n",
       "      <td>-0.11</td>\n",
       "    </tr>\n",
       "    <tr>\n",
       "      <th>2015</th>\n",
       "      <td>2.02</td>\n",
       "      <td>1.69</td>\n",
       "      <td>0.72</td>\n",
       "    </tr>\n",
       "    <tr>\n",
       "      <th>2014</th>\n",
       "      <td>0.83</td>\n",
       "      <td>1.63</td>\n",
       "      <td>-0.40</td>\n",
       "    </tr>\n",
       "    <tr>\n",
       "      <th>2013</th>\n",
       "      <td>4.14</td>\n",
       "      <td>2.05</td>\n",
       "      <td>3.68</td>\n",
       "    </tr>\n",
       "  </tbody>\n",
       "</table>\n",
       "</div>"
      ],
      "text/plain": [
       "      CPI_Dec-Dec  Average_CPI  HICP\n",
       "2018         3.72         3.15  1.98\n",
       "2017         1.86         2.68 -1.02\n",
       "2016         1.90         1.77 -0.11\n",
       "2015         2.02         1.69  0.72\n",
       "2014         0.83         1.63 -0.40\n",
       "2013         4.14         2.05  3.68"
      ]
     },
     "execution_count": 42,
     "metadata": {},
     "output_type": "execute_result"
    }
   ],
   "source": [
    "import pandas as pd\n",
    "df1 = pd.DataFrame({\n",
    "    \"CPI_Dec-Dec\":[3.72,1.86,1.90,2.02,0.83,4.14],\n",
    "    \"Average_CPI\":[3.15,2.68,1.77,1.69,1.63,2.05],\n",
    "    \"HICP\":[1.98,-1.02,-0.11,0.72,-0.4,3.68]}, \n",
    "    index = [2018,2017,2016,2015,2014,2013])\n",
    "df1"
   ]
  },
  {
   "cell_type": "code",
   "execution_count": 43,
   "metadata": {
    "colab": {},
    "colab_type": "code",
    "id": "eBWB5ZfvsWCY",
    "outputId": "f7693034-7eb6-4e8b-882c-db504dd9a0de"
   },
   "outputs": [
    {
     "data": {
      "text/html": [
       "<div>\n",
       "<style scoped>\n",
       "    .dataframe tbody tr th:only-of-type {\n",
       "        vertical-align: middle;\n",
       "    }\n",
       "\n",
       "    .dataframe tbody tr th {\n",
       "        vertical-align: top;\n",
       "    }\n",
       "\n",
       "    .dataframe thead th {\n",
       "        text-align: right;\n",
       "    }\n",
       "</style>\n",
       "<table border=\"1\" class=\"dataframe\">\n",
       "  <thead>\n",
       "    <tr style=\"text-align: right;\">\n",
       "      <th></th>\n",
       "      <th>CPI_Dec-Dec</th>\n",
       "      <th>Average_CPI</th>\n",
       "      <th>HICP</th>\n",
       "    </tr>\n",
       "  </thead>\n",
       "  <tbody>\n",
       "    <tr>\n",
       "      <th>2012</th>\n",
       "      <td>4.20</td>\n",
       "      <td>5.20</td>\n",
       "      <td>5.12</td>\n",
       "    </tr>\n",
       "    <tr>\n",
       "      <th>2013</th>\n",
       "      <td>5.25</td>\n",
       "      <td>4.00</td>\n",
       "      <td>5.25</td>\n",
       "    </tr>\n",
       "    <tr>\n",
       "      <th>2014</th>\n",
       "      <td>2.48</td>\n",
       "      <td>5.44</td>\n",
       "      <td>3.49</td>\n",
       "    </tr>\n",
       "    <tr>\n",
       "      <th>2015</th>\n",
       "      <td>7.49</td>\n",
       "      <td>12.16</td>\n",
       "      <td>11.30</td>\n",
       "    </tr>\n",
       "    <tr>\n",
       "      <th>2016</th>\n",
       "      <td>18.14</td>\n",
       "      <td>12.63</td>\n",
       "      <td>21.03</td>\n",
       "    </tr>\n",
       "    <tr>\n",
       "      <th>2017</th>\n",
       "      <td>5.83</td>\n",
       "      <td>5.07</td>\n",
       "      <td>3.46</td>\n",
       "    </tr>\n",
       "  </tbody>\n",
       "</table>\n",
       "</div>"
      ],
      "text/plain": [
       "      CPI_Dec-Dec  Average_CPI   HICP\n",
       "2012         4.20         5.20   5.12\n",
       "2013         5.25         4.00   5.25\n",
       "2014         2.48         5.44   3.49\n",
       "2015         7.49        12.16  11.30\n",
       "2016        18.14        12.63  21.03\n",
       "2017         5.83         5.07   3.46"
      ]
     },
     "execution_count": 43,
     "metadata": {},
     "output_type": "execute_result"
    }
   ],
   "source": [
    "df2 = pd.DataFrame({\n",
    "    \"CPI_Dec-Dec\":[4.20,5.25,2.48,7.49,18.14,5.83],\n",
    "    \"Average_CPI\":[5.20,4.00,5.44,12.16,12.63,5.07],\n",
    "    \"HICP\":[5.12,5.25,3.49,11.3,21.03,3.46]},\n",
    "    index = [2012,2013,2014,2015,2016,2017])\n",
    "df2"
   ]
  },
  {
   "cell_type": "code",
   "execution_count": 44,
   "metadata": {
    "colab": {},
    "colab_type": "code",
    "id": "ngJNcxfBsWCb",
    "outputId": "2a8a6e80-98e2-4d5a-d2a8-171c2a8f1641"
   },
   "outputs": [
    {
     "name": "stdout",
     "output_type": "stream",
     "text": [
      "      CPI_Dec-Dec  Average_CPI  HICP  CPI_Dec-Dec  Average_CPI   HICP\n",
      "2012          NaN          NaN   NaN         4.20         5.20   5.12\n",
      "2013         4.14         2.05  3.68         5.25         4.00   5.25\n",
      "2014         0.83         1.63 -0.40         2.48         5.44   3.49\n",
      "2015         2.02         1.69  0.72         7.49        12.16  11.30\n",
      "2016         1.90         1.77 -0.11        18.14        12.63  21.03\n",
      "2017         1.86         2.68 -1.02         5.83         5.07   3.46\n",
      "2018         3.72         3.15  1.98          NaN          NaN    NaN\n"
     ]
    }
   ],
   "source": [
    "concat = pd.concat([df1,df2],axis=1)\n",
    " \n",
    "print(concat) # do display instead of print to print nicer tables"
   ]
  },
  {
   "cell_type": "markdown",
   "metadata": {
    "colab_type": "text",
    "id": "Scc_ZSYpsWCe"
   },
   "source": [
    "What happened above?\n",
    "There are bunch of missing values!\n",
    "Missing values occur when the dataframes do not have values for all of the indices you are trying to concatenate on.\n",
    "It is important to make sure you have all of the information lining up correctly when you join or concatenate on the axis.\n",
    "\n",
    "#### Pandas: Cleaning Data \n"
   ]
  },
  {
   "cell_type": "markdown",
   "metadata": {
    "colab_type": "text",
    "id": "pEQfl4YmsWCe"
   },
   "source": [
    "Data Cleaning / Data Cleansing is done to detect and correct or remove corrupted data. Data cleansing can be done using pure Python but Pandas makes this task much easier.\n",
    "\n",
    "Some common cleansing techniques for removing NaN elements are as followed:\n",
    "\n",
    "- Rows with any missing data: `dataframe.dropna()`\n",
    "- Rows with all elements missing: `dataframe.dropna(how=\"all\")`\n",
    "- Rows with missing elements for specific columns: `dataframe.dropna(subset=[\"name\", \"age\"])`\n",
    "- Columns with any missing element: `dataframe.dropna(axis=\"columns\")`\n",
    "\n",
    "For our dataframe above, we can simply use the .dropna() method to remove any row that contains a NaN value in any column."
   ]
  },
  {
   "cell_type": "code",
   "execution_count": 45,
   "metadata": {
    "colab": {},
    "colab_type": "code",
    "id": "qz_OqDzssWCf",
    "outputId": "1190b493-4a4b-4e1c-acb7-4bfad5133b75"
   },
   "outputs": [
    {
     "data": {
      "text/html": [
       "<div>\n",
       "<style scoped>\n",
       "    .dataframe tbody tr th:only-of-type {\n",
       "        vertical-align: middle;\n",
       "    }\n",
       "\n",
       "    .dataframe tbody tr th {\n",
       "        vertical-align: top;\n",
       "    }\n",
       "\n",
       "    .dataframe thead th {\n",
       "        text-align: right;\n",
       "    }\n",
       "</style>\n",
       "<table border=\"1\" class=\"dataframe\">\n",
       "  <thead>\n",
       "    <tr style=\"text-align: right;\">\n",
       "      <th></th>\n",
       "      <th>CPI_Dec-Dec</th>\n",
       "      <th>Average_CPI</th>\n",
       "      <th>HICP</th>\n",
       "      <th>CPI_Dec-Dec</th>\n",
       "      <th>Average_CPI</th>\n",
       "      <th>HICP</th>\n",
       "    </tr>\n",
       "  </thead>\n",
       "  <tbody>\n",
       "    <tr>\n",
       "      <th>2013</th>\n",
       "      <td>4.14</td>\n",
       "      <td>2.05</td>\n",
       "      <td>3.68</td>\n",
       "      <td>5.25</td>\n",
       "      <td>4.00</td>\n",
       "      <td>5.25</td>\n",
       "    </tr>\n",
       "    <tr>\n",
       "      <th>2014</th>\n",
       "      <td>0.83</td>\n",
       "      <td>1.63</td>\n",
       "      <td>-0.40</td>\n",
       "      <td>2.48</td>\n",
       "      <td>5.44</td>\n",
       "      <td>3.49</td>\n",
       "    </tr>\n",
       "    <tr>\n",
       "      <th>2015</th>\n",
       "      <td>2.02</td>\n",
       "      <td>1.69</td>\n",
       "      <td>0.72</td>\n",
       "      <td>7.49</td>\n",
       "      <td>12.16</td>\n",
       "      <td>11.30</td>\n",
       "    </tr>\n",
       "    <tr>\n",
       "      <th>2016</th>\n",
       "      <td>1.90</td>\n",
       "      <td>1.77</td>\n",
       "      <td>-0.11</td>\n",
       "      <td>18.14</td>\n",
       "      <td>12.63</td>\n",
       "      <td>21.03</td>\n",
       "    </tr>\n",
       "    <tr>\n",
       "      <th>2017</th>\n",
       "      <td>1.86</td>\n",
       "      <td>2.68</td>\n",
       "      <td>-1.02</td>\n",
       "      <td>5.83</td>\n",
       "      <td>5.07</td>\n",
       "      <td>3.46</td>\n",
       "    </tr>\n",
       "  </tbody>\n",
       "</table>\n",
       "</div>"
      ],
      "text/plain": [
       "      CPI_Dec-Dec  Average_CPI  HICP  CPI_Dec-Dec  Average_CPI   HICP\n",
       "2013         4.14         2.05  3.68         5.25         4.00   5.25\n",
       "2014         0.83         1.63 -0.40         2.48         5.44   3.49\n",
       "2015         2.02         1.69  0.72         7.49        12.16  11.30\n",
       "2016         1.90         1.77 -0.11        18.14        12.63  21.03\n",
       "2017         1.86         2.68 -1.02         5.83         5.07   3.46"
      ]
     },
     "execution_count": 45,
     "metadata": {},
     "output_type": "execute_result"
    }
   ],
   "source": [
    "concat.dropna()"
   ]
  },
  {
   "cell_type": "markdown",
   "metadata": {
    "colab_type": "text",
    "id": "eFNj6FcjsWCh"
   },
   "source": [
    "If we only wanted to only remove rows that had a NaN value in a specific column, we can use the .dropna() method and specify which column we want to target with the subset parameter. For our DataFrame above, lets target the 'HICP' column. "
   ]
  },
  {
   "cell_type": "code",
   "execution_count": 46,
   "metadata": {
    "colab": {},
    "colab_type": "code",
    "id": "X__DC5yUsWCh",
    "outputId": "d3c95821-e8b4-45cc-ee40-ded917497875"
   },
   "outputs": [
    {
     "data": {
      "text/html": [
       "<div>\n",
       "<style scoped>\n",
       "    .dataframe tbody tr th:only-of-type {\n",
       "        vertical-align: middle;\n",
       "    }\n",
       "\n",
       "    .dataframe tbody tr th {\n",
       "        vertical-align: top;\n",
       "    }\n",
       "\n",
       "    .dataframe thead th {\n",
       "        text-align: right;\n",
       "    }\n",
       "</style>\n",
       "<table border=\"1\" class=\"dataframe\">\n",
       "  <thead>\n",
       "    <tr style=\"text-align: right;\">\n",
       "      <th></th>\n",
       "      <th>CPI_Dec-Dec</th>\n",
       "      <th>Average_CPI</th>\n",
       "      <th>HICP</th>\n",
       "      <th>CPI_Dec-Dec</th>\n",
       "      <th>Average_CPI</th>\n",
       "      <th>HICP</th>\n",
       "    </tr>\n",
       "  </thead>\n",
       "  <tbody>\n",
       "    <tr>\n",
       "      <th>2013</th>\n",
       "      <td>4.14</td>\n",
       "      <td>2.05</td>\n",
       "      <td>3.68</td>\n",
       "      <td>5.25</td>\n",
       "      <td>4.00</td>\n",
       "      <td>5.25</td>\n",
       "    </tr>\n",
       "    <tr>\n",
       "      <th>2014</th>\n",
       "      <td>0.83</td>\n",
       "      <td>1.63</td>\n",
       "      <td>-0.40</td>\n",
       "      <td>2.48</td>\n",
       "      <td>5.44</td>\n",
       "      <td>3.49</td>\n",
       "    </tr>\n",
       "    <tr>\n",
       "      <th>2015</th>\n",
       "      <td>2.02</td>\n",
       "      <td>1.69</td>\n",
       "      <td>0.72</td>\n",
       "      <td>7.49</td>\n",
       "      <td>12.16</td>\n",
       "      <td>11.30</td>\n",
       "    </tr>\n",
       "    <tr>\n",
       "      <th>2016</th>\n",
       "      <td>1.90</td>\n",
       "      <td>1.77</td>\n",
       "      <td>-0.11</td>\n",
       "      <td>18.14</td>\n",
       "      <td>12.63</td>\n",
       "      <td>21.03</td>\n",
       "    </tr>\n",
       "    <tr>\n",
       "      <th>2017</th>\n",
       "      <td>1.86</td>\n",
       "      <td>2.68</td>\n",
       "      <td>-1.02</td>\n",
       "      <td>5.83</td>\n",
       "      <td>5.07</td>\n",
       "      <td>3.46</td>\n",
       "    </tr>\n",
       "  </tbody>\n",
       "</table>\n",
       "</div>"
      ],
      "text/plain": [
       "      CPI_Dec-Dec  Average_CPI  HICP  CPI_Dec-Dec  Average_CPI   HICP\n",
       "2013         4.14         2.05  3.68         5.25         4.00   5.25\n",
       "2014         0.83         1.63 -0.40         2.48         5.44   3.49\n",
       "2015         2.02         1.69  0.72         7.49        12.16  11.30\n",
       "2016         1.90         1.77 -0.11        18.14        12.63  21.03\n",
       "2017         1.86         2.68 -1.02         5.83         5.07   3.46"
      ]
     },
     "execution_count": 46,
     "metadata": {},
     "output_type": "execute_result"
    }
   ],
   "source": [
    "concat_df = pd.concat([df1,df2],axis=1)\n",
    "concat_df.dropna(subset=[\"Average_CPI\"])"
   ]
  },
  {
   "cell_type": "markdown",
   "metadata": {
    "colab_type": "text",
    "id": "NErOSfhzsWCj"
   },
   "source": [
    "## Activity: Pandas\n",
    "\n",
    "- Download the `stock.csv` file [here](https://drive.google.com/file/d/1vbXXDjNI6FvgA61l93OnTRvLZhkUgo3N) and import the data as a Pandas DataFrame. Assign the DataFrame to a variable called `stocks_df`. \n",
    "- Sort the stocks DataFrame by their name\n",
    "- Once sorted, print the first stock\n",
    "- Slice the DataFrame to print the first 3 stocks\n",
    "- Print the data for the 3 stocks with the highest prices\n",
    "    - **Hint:** You will need to sort and slice."
   ]
  },
  {
   "cell_type": "code",
   "execution_count": 66,
   "metadata": {
    "colab": {},
    "colab_type": "code",
    "id": "vQUKE3KosWCj"
   },
   "outputs": [
    {
     "data": {
      "text/html": [
       "<div>\n",
       "<style scoped>\n",
       "    .dataframe tbody tr th:only-of-type {\n",
       "        vertical-align: middle;\n",
       "    }\n",
       "\n",
       "    .dataframe tbody tr th {\n",
       "        vertical-align: top;\n",
       "    }\n",
       "\n",
       "    .dataframe thead th {\n",
       "        text-align: right;\n",
       "    }\n",
       "</style>\n",
       "<table border=\"1\" class=\"dataframe\">\n",
       "  <thead>\n",
       "    <tr style=\"text-align: right;\">\n",
       "      <th></th>\n",
       "      <th>name</th>\n",
       "      <th>symbol</th>\n",
       "      <th>price</th>\n",
       "    </tr>\n",
       "  </thead>\n",
       "  <tbody>\n",
       "    <tr>\n",
       "      <th>0</th>\n",
       "      <td>ArcBest Corporation</td>\n",
       "      <td>ARCB</td>\n",
       "      <td>29.53</td>\n",
       "    </tr>\n",
       "    <tr>\n",
       "      <th>1</th>\n",
       "      <td>Orexigen Therapeutics, Inc.</td>\n",
       "      <td>OREX</td>\n",
       "      <td>11.93</td>\n",
       "    </tr>\n",
       "    <tr>\n",
       "      <th>2</th>\n",
       "      <td>VelocityShares Daily Inverse VIX Short-Term ETN</td>\n",
       "      <td>XIV</td>\n",
       "      <td>11.89</td>\n",
       "    </tr>\n",
       "    <tr>\n",
       "      <th>3</th>\n",
       "      <td>Navigant Consulting, Inc.</td>\n",
       "      <td>NCI</td>\n",
       "      <td>28.89</td>\n",
       "    </tr>\n",
       "    <tr>\n",
       "      <th>4</th>\n",
       "      <td>General Communication, Inc.</td>\n",
       "      <td>GNCMA</td>\n",
       "      <td>22.16</td>\n",
       "    </tr>\n",
       "  </tbody>\n",
       "</table>\n",
       "</div>"
      ],
      "text/plain": [
       "                                              name symbol  price\n",
       "0                              ArcBest Corporation   ARCB  29.53\n",
       "1                      Orexigen Therapeutics, Inc.   OREX  11.93\n",
       "2  VelocityShares Daily Inverse VIX Short-Term ETN    XIV  11.89\n",
       "3                        Navigant Consulting, Inc.    NCI  28.89\n",
       "4                      General Communication, Inc.  GNCMA  22.16"
      ]
     },
     "metadata": {},
     "output_type": "display_data"
    },
    {
     "data": {
      "text/html": [
       "<div>\n",
       "<style scoped>\n",
       "    .dataframe tbody tr th:only-of-type {\n",
       "        vertical-align: middle;\n",
       "    }\n",
       "\n",
       "    .dataframe tbody tr th {\n",
       "        vertical-align: top;\n",
       "    }\n",
       "\n",
       "    .dataframe thead th {\n",
       "        text-align: right;\n",
       "    }\n",
       "</style>\n",
       "<table border=\"1\" class=\"dataframe\">\n",
       "  <thead>\n",
       "    <tr style=\"text-align: right;\">\n",
       "      <th></th>\n",
       "      <th>name</th>\n",
       "      <th>symbol</th>\n",
       "      <th>price</th>\n",
       "    </tr>\n",
       "  </thead>\n",
       "  <tbody>\n",
       "    <tr>\n",
       "      <th>0</th>\n",
       "      <td>ArcBest Corporation</td>\n",
       "      <td>ARCB</td>\n",
       "      <td>29.53</td>\n",
       "    </tr>\n",
       "    <tr>\n",
       "      <th>4</th>\n",
       "      <td>General Communication, Inc.</td>\n",
       "      <td>GNCMA</td>\n",
       "      <td>22.16</td>\n",
       "    </tr>\n",
       "    <tr>\n",
       "      <th>3</th>\n",
       "      <td>Navigant Consulting, Inc.</td>\n",
       "      <td>NCI</td>\n",
       "      <td>28.89</td>\n",
       "    </tr>\n",
       "    <tr>\n",
       "      <th>1</th>\n",
       "      <td>Orexigen Therapeutics, Inc.</td>\n",
       "      <td>OREX</td>\n",
       "      <td>11.93</td>\n",
       "    </tr>\n",
       "    <tr>\n",
       "      <th>2</th>\n",
       "      <td>VelocityShares Daily Inverse VIX Short-Term ETN</td>\n",
       "      <td>XIV</td>\n",
       "      <td>11.89</td>\n",
       "    </tr>\n",
       "  </tbody>\n",
       "</table>\n",
       "</div>"
      ],
      "text/plain": [
       "                                              name symbol  price\n",
       "0                              ArcBest Corporation   ARCB  29.53\n",
       "4                      General Communication, Inc.  GNCMA  22.16\n",
       "3                        Navigant Consulting, Inc.    NCI  28.89\n",
       "1                      Orexigen Therapeutics, Inc.   OREX  11.93\n",
       "2  VelocityShares Daily Inverse VIX Short-Term ETN    XIV  11.89"
      ]
     },
     "metadata": {},
     "output_type": "display_data"
    },
    {
     "data": {
      "text/html": [
       "<div>\n",
       "<style scoped>\n",
       "    .dataframe tbody tr th:only-of-type {\n",
       "        vertical-align: middle;\n",
       "    }\n",
       "\n",
       "    .dataframe tbody tr th {\n",
       "        vertical-align: top;\n",
       "    }\n",
       "\n",
       "    .dataframe thead th {\n",
       "        text-align: right;\n",
       "    }\n",
       "</style>\n",
       "<table border=\"1\" class=\"dataframe\">\n",
       "  <thead>\n",
       "    <tr style=\"text-align: right;\">\n",
       "      <th></th>\n",
       "      <th>name</th>\n",
       "      <th>symbol</th>\n",
       "      <th>price</th>\n",
       "    </tr>\n",
       "  </thead>\n",
       "  <tbody>\n",
       "    <tr>\n",
       "      <th>0</th>\n",
       "      <td>ArcBest Corporation</td>\n",
       "      <td>ARCB</td>\n",
       "      <td>29.53</td>\n",
       "    </tr>\n",
       "  </tbody>\n",
       "</table>\n",
       "</div>"
      ],
      "text/plain": [
       "                  name symbol  price\n",
       "0  ArcBest Corporation   ARCB  29.53"
      ]
     },
     "metadata": {},
     "output_type": "display_data"
    },
    {
     "data": {
      "text/html": [
       "<div>\n",
       "<style scoped>\n",
       "    .dataframe tbody tr th:only-of-type {\n",
       "        vertical-align: middle;\n",
       "    }\n",
       "\n",
       "    .dataframe tbody tr th {\n",
       "        vertical-align: top;\n",
       "    }\n",
       "\n",
       "    .dataframe thead th {\n",
       "        text-align: right;\n",
       "    }\n",
       "</style>\n",
       "<table border=\"1\" class=\"dataframe\">\n",
       "  <thead>\n",
       "    <tr style=\"text-align: right;\">\n",
       "      <th></th>\n",
       "      <th>name</th>\n",
       "      <th>symbol</th>\n",
       "      <th>price</th>\n",
       "    </tr>\n",
       "  </thead>\n",
       "  <tbody>\n",
       "    <tr>\n",
       "      <th>0</th>\n",
       "      <td>ArcBest Corporation</td>\n",
       "      <td>ARCB</td>\n",
       "      <td>29.53</td>\n",
       "    </tr>\n",
       "    <tr>\n",
       "      <th>1</th>\n",
       "      <td>Orexigen Therapeutics, Inc.</td>\n",
       "      <td>OREX</td>\n",
       "      <td>11.93</td>\n",
       "    </tr>\n",
       "    <tr>\n",
       "      <th>2</th>\n",
       "      <td>VelocityShares Daily Inverse VIX Short-Term ETN</td>\n",
       "      <td>XIV</td>\n",
       "      <td>11.89</td>\n",
       "    </tr>\n",
       "  </tbody>\n",
       "</table>\n",
       "</div>"
      ],
      "text/plain": [
       "                                              name symbol  price\n",
       "0                              ArcBest Corporation   ARCB  29.53\n",
       "1                      Orexigen Therapeutics, Inc.   OREX  11.93\n",
       "2  VelocityShares Daily Inverse VIX Short-Term ETN    XIV  11.89"
      ]
     },
     "metadata": {},
     "output_type": "display_data"
    },
    {
     "data": {
      "text/html": [
       "<div>\n",
       "<style scoped>\n",
       "    .dataframe tbody tr th:only-of-type {\n",
       "        vertical-align: middle;\n",
       "    }\n",
       "\n",
       "    .dataframe tbody tr th {\n",
       "        vertical-align: top;\n",
       "    }\n",
       "\n",
       "    .dataframe thead th {\n",
       "        text-align: right;\n",
       "    }\n",
       "</style>\n",
       "<table border=\"1\" class=\"dataframe\">\n",
       "  <thead>\n",
       "    <tr style=\"text-align: right;\">\n",
       "      <th></th>\n",
       "      <th>name</th>\n",
       "      <th>symbol</th>\n",
       "      <th>price</th>\n",
       "    </tr>\n",
       "  </thead>\n",
       "  <tbody>\n",
       "    <tr>\n",
       "      <th>0</th>\n",
       "      <td>ArcBest Corporation</td>\n",
       "      <td>ARCB</td>\n",
       "      <td>29.53</td>\n",
       "    </tr>\n",
       "    <tr>\n",
       "      <th>3</th>\n",
       "      <td>Navigant Consulting, Inc.</td>\n",
       "      <td>NCI</td>\n",
       "      <td>28.89</td>\n",
       "    </tr>\n",
       "    <tr>\n",
       "      <th>4</th>\n",
       "      <td>General Communication, Inc.</td>\n",
       "      <td>GNCMA</td>\n",
       "      <td>22.16</td>\n",
       "    </tr>\n",
       "  </tbody>\n",
       "</table>\n",
       "</div>"
      ],
      "text/plain": [
       "                          name symbol  price\n",
       "0          ArcBest Corporation   ARCB  29.53\n",
       "3    Navigant Consulting, Inc.    NCI  28.89\n",
       "4  General Communication, Inc.  GNCMA  22.16"
      ]
     },
     "metadata": {},
     "output_type": "display_data"
    }
   ],
   "source": [
    "# Write Code Here\n",
    "import pandas as pd\n",
    "stocks = pd.read_csv('stocks.csv')\n",
    "display(stocks)\n",
    "sorted_stocks = stocks.sort_values(by=['name'])\n",
    "display(sorted_stocks)\n",
    "display(sorted_stocks.head(1)) #same as sorted_stocks[0:1]\n",
    "display(stocks[-5:-2]) #same as stocks[0:3] since length is 5\n",
    "sort_price_stocks = stocks.sort_values(by=['price'], ascending = False)\n",
    "display(sort_price_stocks[0:3])"
   ]
  },
  {
   "cell_type": "markdown",
   "metadata": {
    "colab_type": "text",
    "id": "-boL4iHUsWCl"
   },
   "source": [
    "### NumPy\n",
    "\n",
    "NumPy is a Python library that enables us to run computations efficiently when forced to deal with large sets of data. The library has built-in functions that enable us to create arrays on information that is easier to manipulation than a traditional list.\n",
    "\n",
    "Creating a NumPy array is quite easy, simply use the .array() method and pass in the data you would like to transform.\n",
    "\n",
    "```py\n",
    "import numpy as np\n",
    "np.array([1, 2, 3, 4, 5])\n",
    "```\n",
    "\n",
    "To create a NumPy array from a Pandas DataFrame, specify `.values` on the DataFrame. Only the values in the DataFrame will be returned and the label axes are removed.\n",
    "```py\n",
    "import pandas as pd\n",
    "df = pd.DataFrame([1, 2, 3, 4, 5])\n",
    "numpy_array = df.values\n",
    "```\n",
    "\n",
    "#### NumPy Computation Tools: Universal Functions\n",
    "NumPy library contains functions that aid in performing computations on arrays. If we wanted to add two arrays together, use the .add() method and it will return a new array with values added together at each corresponding index. Refer to the chart below for Universal Function examples.\n",
    "    \n",
    "<img src='https://drive.google.com/uc?view=export&id=1bARLx8SYDEsanXCYvpa4nLiOYJirMZxN' />\n",
    "\n",
    "#### NumPy: Indexing \n",
    "\n",
    "Indexing an array is similar to Pandas and list as they are indexed beginning at zero.\n",
    "\n",
    "On a one-dimensional array simply index by specifying the array name and a set of square brackets with the index of the value you want to retrieve inside."
   ]
  },
  {
   "cell_type": "code",
   "execution_count": 58,
   "metadata": {
    "colab": {},
    "colab_type": "code",
    "id": "hZfFK0u5sWCl",
    "outputId": "ef77d4e5-6b23-4c81-e686-4eff80487fb8"
   },
   "outputs": [
    {
     "name": "stdout",
     "output_type": "stream",
     "text": [
      "3\n"
     ]
    }
   ],
   "source": [
    "import numpy as np\n",
    "\n",
    "# One-Dimensional Array\n",
    "one_d = np.array([1,2,3,4,5])\n",
    "third_val = one_d[2]\n",
    "print(third_val)"
   ]
  },
  {
   "cell_type": "markdown",
   "metadata": {
    "colab_type": "text",
    "id": "2aahsR7NsWCn"
   },
   "source": [
    "Indexing an array with more than one-dimension requires a set of square brackets for every level you want to traverse. For example, if you want to retrieve data from the second dimension in an array you will need two sets of square brackets with a value in each. Think of a two-dimensional array as a table with rows and columns or x and y coordinates."
   ]
  },
  {
   "cell_type": "code",
   "execution_count": 59,
   "metadata": {
    "colab": {},
    "colab_type": "code",
    "id": "_Abz9Wi5sWCn",
    "outputId": "b0986f14-b9a4-4592-d7c0-734f4100cadd"
   },
   "outputs": [
    {
     "name": "stdout",
     "output_type": "stream",
     "text": [
      "9\n"
     ]
    }
   ],
   "source": [
    "two_d = np.array([[1,2,3,4,5],[6,7,8,9,10],[11,12,13,14,15]])\n",
    "\n",
    "# If we want to retrieve the number 9, we will have to go to the second array to the fourth position.\n",
    "# Remember, arrays are zero based.\n",
    "number_nine = two_d[1][3]\n",
    "\n",
    "print(number_nine)"
   ]
  },
  {
   "cell_type": "markdown",
   "metadata": {
    "colab_type": "text",
    "id": "1zu6CAthsWCp"
   },
   "source": [
    "#### NumPy: Slicing\n",
    "\n",
    "Refer to the slicing chart under **Pandas: Advanced Indexing with Slicing** as the techniques are the same across both datasets."
   ]
  },
  {
   "cell_type": "markdown",
   "metadata": {
    "colab_type": "text",
    "id": "hB842mWKsWCp"
   },
   "source": [
    "## Activity: Cleaning Data\n",
    "\n",
    "You're working with a dataset that contains information about people's name and age. Your data set is incomplete and contains some null values. Requirements state that you are not to perform computations on any records that are not complete. Compute the mean age of all valid records. \n",
    " - Use the .mean() method provided by the Pandas library"
   ]
  },
  {
   "cell_type": "code",
   "execution_count": 64,
   "metadata": {
    "colab": {},
    "colab_type": "code",
    "id": "JhVQwqARsWCq"
   },
   "outputs": [
    {
     "name": "stdout",
     "output_type": "stream",
     "text": [
      "   last_name first_name   age\n",
      "0      Smith       None  35.0\n",
      "1       None       Zach  45.0\n",
      "2      Brown       Erin   NaN\n",
      "3    Apricot       Alex  19.0\n",
      "4     Anders       None  21.0\n",
      "5       None     Kelsey  30.0\n",
      "6  Appleseed     Finley  42.0\n",
      "7     Ranger        Jen  32.0\n"
     ]
    },
    {
     "data": {
      "text/html": [
       "<div>\n",
       "<style scoped>\n",
       "    .dataframe tbody tr th:only-of-type {\n",
       "        vertical-align: middle;\n",
       "    }\n",
       "\n",
       "    .dataframe tbody tr th {\n",
       "        vertical-align: top;\n",
       "    }\n",
       "\n",
       "    .dataframe thead th {\n",
       "        text-align: right;\n",
       "    }\n",
       "</style>\n",
       "<table border=\"1\" class=\"dataframe\">\n",
       "  <thead>\n",
       "    <tr style=\"text-align: right;\">\n",
       "      <th></th>\n",
       "      <th>last_name</th>\n",
       "      <th>first_name</th>\n",
       "      <th>age</th>\n",
       "    </tr>\n",
       "  </thead>\n",
       "  <tbody>\n",
       "    <tr>\n",
       "      <th>3</th>\n",
       "      <td>Apricot</td>\n",
       "      <td>Alex</td>\n",
       "      <td>19.0</td>\n",
       "    </tr>\n",
       "    <tr>\n",
       "      <th>6</th>\n",
       "      <td>Appleseed</td>\n",
       "      <td>Finley</td>\n",
       "      <td>42.0</td>\n",
       "    </tr>\n",
       "    <tr>\n",
       "      <th>7</th>\n",
       "      <td>Ranger</td>\n",
       "      <td>Jen</td>\n",
       "      <td>32.0</td>\n",
       "    </tr>\n",
       "  </tbody>\n",
       "</table>\n",
       "</div>"
      ],
      "text/plain": [
       "   last_name first_name   age\n",
       "3    Apricot       Alex  19.0\n",
       "6  Appleseed     Finley  42.0\n",
       "7     Ranger        Jen  32.0"
      ]
     },
     "metadata": {},
     "output_type": "display_data"
    },
    {
     "name": "stdout",
     "output_type": "stream",
     "text": [
      "31.0\n"
     ]
    }
   ],
   "source": [
    "import pandas as pd\n",
    "\n",
    "df = pd.DataFrame({\n",
    "    'last_name': ['Smith', None, 'Brown', 'Apricot', 'Anders', None, 'Appleseed', 'Ranger'], \n",
    "    'first_name': [None, 'Zach', 'Erin', 'Alex', None, 'Kelsey', 'Finley', 'Jen'], \n",
    "    'age': [35, 45, None, 19, 21, 30, 42, 32]\n",
    "})\n",
    "\n",
    "# Write Code Here\n",
    "print(df)\n",
    "cleaned = df.dropna()\n",
    "display(cleaned)\n",
    "print(cleaned['age'].mean())"
   ]
  },
  {
   "cell_type": "markdown",
   "metadata": {
    "colab_type": "text",
    "id": "EtLLDU-psWCr"
   },
   "source": [
    "<div id=\"container\" style=\"position:relative;\">\n",
    "    <div style=\"position:relative; float:right\"><img style=\"height:25px\"\"width: 50px\" src =\"https://drive.google.com/uc?export=view&id=14VoXUJftgptWtdNhtNYVm6cjVmEWpki1\" />\n",
    "    </div>\n",
    "</div>"
   ]
  }
 ],
 "metadata": {
  "colab": {
   "name": "[NEXT] Unit 4 - Data Manipulation.ipynb",
   "provenance": []
  },
  "kernelspec": {
   "display_name": "Python 3",
   "language": "python",
   "name": "python3"
  },
  "language_info": {
   "codemirror_mode": {
    "name": "ipython",
    "version": 3
   },
   "file_extension": ".py",
   "mimetype": "text/x-python",
   "name": "python",
   "nbconvert_exporter": "python",
   "pygments_lexer": "ipython3",
   "version": "3.8.5"
  }
 },
 "nbformat": 4,
 "nbformat_minor": 1
}
