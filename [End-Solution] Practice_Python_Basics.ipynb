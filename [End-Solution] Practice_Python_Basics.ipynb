{
 "cells": [
  {
   "cell_type": "markdown",
   "metadata": {
    "colab_type": "text",
    "id": "UG57IEYRVNcs"
   },
   "source": [
    "# Python Basics Practice\n",
    "\n",
    "---\n",
    "\n",
    "**Let’s say you’ve just finished eating at a restaurant and treated a friend to lunch. Calculate the total that you must pay given the following information. What was the cost of the tip alone?**\n"
   ]
  },
  {
   "cell_type": "markdown",
   "metadata": {
    "colab": {},
    "colab_type": "code",
    "id": "vlkosrGrtV_k"
   },
   "source": [
    "- Salad: \\$3.99\n",
    "- Burger: \\$12.99\n",
    "- Wings: \\$13.99\n",
    "- Fries: \\$3.50\n",
    "\n",
    "- Tax: 10%\n",
    "- Tip: 15% (In this situation, the tip must be applied to the after-tax cost of the food)"
   ]
  },
  {
   "cell_type": "code",
   "execution_count": 1,
   "metadata": {
    "colab": {},
    "colab_type": "code",
    "id": "J6I_OwP_cXoS"
   },
   "outputs": [
    {
     "name": "stdout",
     "output_type": "stream",
     "text": [
      "5.68755\n"
     ]
    }
   ],
   "source": [
    "# Write your answer here.\n",
    "\n",
    "subtotal = 3.99 + 12.99 + 13.99 + 3.5 # before-tax bill\n",
    "\n",
    "subtotal_tax = subtotal * 1.1 # adding tax to bill\n",
    "\n",
    "subtotal_tax_tip = subtotal_tax * 0.15 # cost of the tip alone\n",
    "\n",
    "print(subtotal_tax_tip)"
   ]
  },
  {
   "cell_type": "markdown",
   "metadata": {
    "colab_type": "text",
    "id": "QMp9vwt0cXP2"
   },
   "source": [
    "**You’ve been given a secret message, but all of the words are separated, concatenate the strings to piece together the message.**"
   ]
  },
  {
   "cell_type": "code",
   "execution_count": 7,
   "metadata": {
    "colab": {},
    "colab_type": "code",
    "id": "f1K5I7tncf_i"
   },
   "outputs": [],
   "source": [
    "item = 'laptop'\n",
    "action = 'buy the'\n",
    "name = 'Armando'\n",
    "verb = 'says'"
   ]
  },
  {
   "cell_type": "code",
   "execution_count": 9,
   "metadata": {
    "colab": {},
    "colab_type": "code",
    "id": "J2D_Dbtcst-8"
   },
   "outputs": [
    {
     "data": {
      "text/plain": [
       "'Armando says buy the laptop'"
      ]
     },
     "execution_count": 9,
     "metadata": {},
     "output_type": "execute_result"
    }
   ],
   "source": [
    "# Write your answer here.\n",
    "\n",
    "# using the .join() method on a string\n",
    "' '.join([name, verb, action, item])"
   ]
  },
  {
   "cell_type": "code",
   "execution_count": 10,
   "metadata": {
    "colab": {},
    "colab_type": "code",
    "id": "J2D_Dbtcst-8"
   },
   "outputs": [
    {
     "data": {
      "text/plain": [
       "'Armando says buy the laptop'"
      ]
     },
     "execution_count": 10,
     "metadata": {},
     "output_type": "execute_result"
    }
   ],
   "source": [
    "# or manually concatenating each string using the + operator\n",
    "name + ' ' + verb + ' ' + action + ' ' + item"
   ]
  },
  {
   "cell_type": "markdown",
   "metadata": {
    "colab_type": "text",
    "id": "9cIQdJmCcnpc"
   },
   "source": [
    "**You’re at a party and need to share 10 pies amongst 4 people. How much should each person receive? If we can only provide full pies, how much would be left over?**"
   ]
  },
  {
   "cell_type": "code",
   "execution_count": 22,
   "metadata": {
    "colab": {},
    "colab_type": "code",
    "id": "v_NQpjXVcrqR"
   },
   "outputs": [
    {
     "name": "stdout",
     "output_type": "stream",
     "text": [
      "Each person should receive 2.5 pies.\n"
     ]
    }
   ],
   "source": [
    "# Write your answer here.\n",
    "\n",
    "# without rounding\n",
    "pies = 10\n",
    "persons = 4\n",
    "pies_per_person = pies/persons\n",
    "print(f'Each person should receive {pies_per_person} pies.')"
   ]
  },
  {
   "cell_type": "code",
   "execution_count": 23,
   "metadata": {
    "colab": {},
    "colab_type": "code",
    "id": "v_NQpjXVcrqR"
   },
   "outputs": [
    {
     "name": "stdout",
     "output_type": "stream",
     "text": [
      "If only full pies are provided, 2 pies would be left over.\n"
     ]
    }
   ],
   "source": [
    "# with rounding - note that if we rounded up, we would not have enough pies.  we must round down\n",
    "# note that we could import the \"math\" library in python and use its floor() function as well\n",
    "pies_per_person_new = 2\n",
    "\n",
    "# we can use the modulus operator (\"%\") to compute the remainder\n",
    "remainder = pies % (pies_per_person_new * persons)\n",
    "print(f'If only full pies are provided, {remainder} pies would be left over.')"
   ]
  },
  {
   "cell_type": "markdown",
   "metadata": {
    "colab_type": "text",
    "id": "EtLLDU-psWCr"
   },
   "source": [
    "<div id=\"container\" style=\"position:relative;\">\n",
    "    <div style=\"position:relative; float:right\"><img style=\"height:25px\"\"width: 50px\" src =\"https://drive.google.com/uc?export=view&id=14VoXUJftgptWtdNhtNYVm6cjVmEWpki1\" />\n",
    "    </div>\n",
    "</div>"
   ]
  }
 ],
 "metadata": {
  "colab": {
   "collapsed_sections": [],
   "name": "Practice: Python Basics.ipynb",
   "provenance": [
    {
     "file_id": "1Y9Nrg_n2sCgxvZF416k4UIL31APD0CbV",
     "timestamp": 1593729888135
    },
    {
     "file_id": "1_ycv1Ahodwtxm_eOjkXvOesBPhi-zNFZ",
     "timestamp": 1593729570808
    }
   ]
  },
  "kernelspec": {
   "display_name": "Python 3",
   "language": "python",
   "name": "python3"
  },
  "language_info": {
   "codemirror_mode": {
    "name": "ipython",
    "version": 3
   },
   "file_extension": ".py",
   "mimetype": "text/x-python",
   "name": "python",
   "nbconvert_exporter": "python",
   "pygments_lexer": "ipython3",
   "version": "3.8.3"
  }
 },
 "nbformat": 4,
 "nbformat_minor": 1
}
