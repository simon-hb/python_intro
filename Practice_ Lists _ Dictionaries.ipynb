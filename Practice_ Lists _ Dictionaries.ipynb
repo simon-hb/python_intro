{
 "cells": [
  {
   "cell_type": "markdown",
   "metadata": {
    "colab_type": "text",
    "id": "UG57IEYRVNcs"
   },
   "source": [
    "# Lists\n",
    "\n",
    "---\n",
    "\n",
    "**Perform the following operations on the list below:**\n",
    "\n",
    "number_list = [120, 230, 340, 450, 560]\n",
    "\n",
    "1. Print the list in reverse order.\n",
    "2. Add the next number in the sequence to the list.\n",
    "3. Remove the middle value. In its place add a number half of its value."
   ]
  },
  {
   "cell_type": "code",
   "execution_count": 30,
   "metadata": {
    "colab": {},
    "colab_type": "code",
    "id": "J6I_OwP_cXoS"
   },
   "outputs": [
    {
     "name": "stdout",
     "output_type": "stream",
     "text": [
      "[560, 450, 340, 230, 120]\n",
      "[560, 450, 340, 230, 120]\n",
      "[120, 230, 340, 450, 560, 670]\n",
      "[120, 230, 170, 450, 560]\n"
     ]
    }
   ],
   "source": [
    "# Write your answer here.\n",
    "number_list = [120, 230, 340, 450, 560]\n",
    "\n",
    "print(number_list[::-1]) #print reverse list without mutating it\n",
    "number_list.reverse()\n",
    "print(number_list)\n",
    "number_list.sort()\n",
    "number_list.append(670)\n",
    "print(number_list)\n",
    "number_list.pop(-1)\n",
    "number_list[(int(len(number_list)/2))]=int(number_list[(int(len(number_list)/2))]/2)\n",
    "\n",
    "print(number_list)"
   ]
  },
  {
   "cell_type": "markdown",
   "metadata": {
    "colab_type": "text",
    "id": "QMp9vwt0cXP2"
   },
   "source": [
    "# Dictionaries\n",
    "---\n",
    "**You’ve left your home to head to work, and the following dictionary is an example of what you might have with you. Perform the following operations on the dictionary listed below.**"
   ]
  },
  {
   "cell_type": "code",
   "execution_count": 20,
   "metadata": {
    "colab": {},
    "colab_type": "code",
    "id": "f1K5I7tncf_i"
   },
   "outputs": [],
   "source": [
    "everyday_carry = {\n",
    "    'money' : 50,\n",
    "    'bag' : ['laptop', 'phone charger', 'wallet'],\n",
    "    'lunchbox' : ['salad','fork', 'soup','spoon','crackers']\n",
    "}"
   ]
  },
  {
   "cell_type": "markdown",
   "metadata": {
    "colab_type": "text",
    "id": "rAUwxfA0sZwf"
   },
   "source": [
    "1. Add a key to everyday_carry called 'pocket'.\n",
    "2. Set the value of 'pocket' to be a list consisting of the strings 'coins', 'keys', 'wireless headphones', and ‘lip balm’.\n",
    "3. Because we’ve spent some money on a cup of coffee, remove 'coins' from pocket.\n",
    "4. Now that we’ve arrived at work, remove 'laptop' from bag.\n",
    "5. Packing up for lunch, add 'laptop' back to bag, and also add 'papers' to bag.\n",
    "\n",
    "**Bonus: Making sure we have everything, count how many items are in our bag. (extra research will be required)**"
   ]
  },
  {
   "cell_type": "code",
   "execution_count": 24,
   "metadata": {
    "colab": {},
    "colab_type": "code",
    "id": "J2D_Dbtcst-8",
    "scrolled": true
   },
   "outputs": [
    {
     "name": "stdout",
     "output_type": "stream",
     "text": [
      "{'money': 50, 'bag': ['laptop', 'phone charger', 'wallet'], 'lunchbox': ['salad', 'fork', 'soup', 'spoon', 'crackers'], 'pocket': []}\n",
      "{'money': 50, 'bag': ['laptop', 'phone charger', 'wallet'], 'lunchbox': ['salad', 'fork', 'soup', 'spoon', 'crackers'], 'pocket': ['coins', 'keys', 'wireless headphones', 'lip balm']}\n",
      "{'money': 50, 'bag': ['laptop', 'phone charger', 'wallet'], 'lunchbox': ['salad', 'fork', 'soup', 'spoon', 'crackers'], 'pocket': ['keys', 'wireless headphones', 'lip balm']}\n",
      "{'money': 50, 'bag': ['phone charger', 'wallet'], 'lunchbox': ['salad', 'fork', 'soup', 'spoon', 'crackers'], 'pocket': ['keys', 'wireless headphones', 'lip balm']}\n",
      "{'money': 50, 'bag': ['phone charger', 'wallet', 'laptop', 'papers'], 'lunchbox': ['salad', 'fork', 'soup', 'spoon', 'crackers'], 'pocket': ['keys', 'wireless headphones', 'lip balm']}\n",
      "4\n"
     ]
    }
   ],
   "source": [
    "# Write your answer here.\n",
    "\n",
    "everyday_carry = {\n",
    "    'money' : 50,\n",
    "    'bag' : ['laptop', 'phone charger', 'wallet'],\n",
    "    'lunchbox' : ['salad','fork', 'soup','spoon','crackers']\n",
    "}\n",
    "\n",
    "everyday_carry['pocket']=[]\n",
    "print(everyday_carry)\n",
    "everyday_carry['pocket'].extend(['coins', 'keys', 'wireless headphones', 'lip balm'])\n",
    "print(everyday_carry)\n",
    "everyday_carry['pocket'].remove('coins')\n",
    "print(everyday_carry)\n",
    "everyday_carry['bag'].remove('laptop')\n",
    "print(everyday_carry)\n",
    "everyday_carry['bag'].extend(['laptop', 'papers'])\n",
    "print(everyday_carry)\n",
    "\n",
    "print(len(everyday_carry['bag']))"
   ]
  },
  {
   "cell_type": "markdown",
   "metadata": {
    "colab_type": "text",
    "id": "9cIQdJmCcnpc"
   },
   "source": [
    "**Going grocery shopping, perform the following operations on the dictionary listed below:**"
   ]
  },
  {
   "cell_type": "code",
   "execution_count": null,
   "metadata": {
    "colab": {},
    "colab_type": "code",
    "id": "ry7SJDXxs4cf"
   },
   "outputs": [],
   "source": [
    "grocery_list = {   \n",
    "    'vegetables' : ['spinach', 'carrots', 'kale','cucumber', 'broccoli'],\n",
    "    'meat' : ['bbq chicken','ground beef', 'salmon',]\n",
    "}"
   ]
  },
  {
   "cell_type": "markdown",
   "metadata": {
    "colab_type": "text",
    "id": "LhWi-2Wms7LR"
   },
   "source": [
    "1. Sort the vegetables list.\n",
    "2. Add a new key to our grocery_list called 'carbs'. \n",
    "3. Set the value of 'carbs' to bread and potatoes.\n",
    "4. Remove 'cucumber' and instead, replace it with 'zucchini'.\n"
   ]
  },
  {
   "cell_type": "code",
   "execution_count": 29,
   "metadata": {
    "colab": {},
    "colab_type": "code",
    "id": "v_NQpjXVcrqR"
   },
   "outputs": [
    {
     "name": "stdout",
     "output_type": "stream",
     "text": [
      "{'vegetables': ['broccoli', 'carrots', 'cucumber', 'kale', 'spinach'], 'meat': ['bbq chicken', 'ground beef', 'salmon']}\n",
      "{'vegetables': ['broccoli', 'carrots', 'cucumber', 'kale', 'spinach'], 'meat': ['bbq chicken', 'ground beef', 'salmon'], 'carbs': []}\n",
      "{'vegetables': ['broccoli', 'carrots', 'cucumber', 'kale', 'spinach'], 'meat': ['bbq chicken', 'ground beef', 'salmon'], 'carbs': ['bread', 'potatoes']}\n",
      "{'vegetables': ['broccoli', 'carrots', 'zucchini', 'kale', 'spinach'], 'meat': ['bbq chicken', 'ground beef', 'salmon'], 'carbs': ['bread', 'potatoes']}\n"
     ]
    }
   ],
   "source": [
    "# Write your answer here.\n",
    "\n",
    "grocery_list = {   \n",
    "    'vegetables' : ['spinach', 'carrots', 'kale','cucumber', 'broccoli'],\n",
    "    'meat' : ['bbq chicken','ground beef', 'salmon',]\n",
    "}\n",
    "\n",
    "grocery_list['vegetables'].sort()\n",
    "print(grocery_list)\n",
    "grocery_list['carbs']=[]\n",
    "print(grocery_list)\n",
    "grocery_list['carbs'].extend(['bread', 'potatoes'])\n",
    "print(grocery_list)\n",
    "grocery_list['vegetables'][2]='zucchini'\n",
    "print(grocery_list)"
   ]
  },
  {
   "cell_type": "markdown",
   "metadata": {
    "colab_type": "text",
    "id": "EtLLDU-psWCr"
   },
   "source": [
    "<div id=\"container\" style=\"position:relative;\">\n",
    "    <div style=\"position:relative; float:right\"><img style=\"height:25px\"\"width: 50px\" src =\"https://drive.google.com/uc?export=view&id=14VoXUJftgptWtdNhtNYVm6cjVmEWpki1\" />\n",
    "    </div>\n",
    "</div>"
   ]
  },
  {
   "cell_type": "code",
   "execution_count": null,
   "metadata": {},
   "outputs": [],
   "source": []
  }
 ],
 "metadata": {
  "colab": {
   "collapsed_sections": [],
   "name": "Practice: Lists & Dictionaries.ipynb",
   "provenance": [
    {
     "file_id": "1_ycv1Ahodwtxm_eOjkXvOesBPhi-zNFZ",
     "timestamp": 1593729570808
    }
   ]
  },
  "kernelspec": {
   "display_name": "Python 3",
   "language": "python",
   "name": "python3"
  },
  "language_info": {
   "codemirror_mode": {
    "name": "ipython",
    "version": 3
   },
   "file_extension": ".py",
   "mimetype": "text/x-python",
   "name": "python",
   "nbconvert_exporter": "python",
   "pygments_lexer": "ipython3",
   "version": "3.8.5"
  }
 },
 "nbformat": 4,
 "nbformat_minor": 1
}
