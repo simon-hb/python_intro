{
 "cells": [
  {
   "cell_type": "markdown",
   "metadata": {
    "colab_type": "text",
    "id": "vkv9Z6cqwkWF"
   },
   "source": [
    "<div style='display: flex; justify-content: space-between; align-items: center; width: 100%; height: 100%;'>\n",
    "    <div style=\"width: 100%;\"><h3> Python For Data Science </h3></div>\n",
    "    <div>\n",
    "        <img style=\"height:65px; min-width: 255px; max-width: 355px;\" src =\"https://drive.google.com/uc?export=view&id=1EnB0x-fdqMp6I5iMoEBBEuxB_s7AmE2k\" />\n",
    "    </div>\n",
    "</div>"
   ]
  },
  {
   "cell_type": "markdown",
   "metadata": {
    "colab_type": "text",
    "id": "lK65z6Q9wkWG"
   },
   "source": [
    "# Practice Problems: Cleaning Data Using Python"
   ]
  },
  {
   "cell_type": "markdown",
   "metadata": {
    "colab_type": "text",
    "id": "TriCuNHdwkWH"
   },
   "source": [
    "1. Given the list of names stored in the variable `names`, write a loop that cleans the names inside the list by trimming all whitespace at the start and end of the names. Print the cleaned list."
   ]
  },
  {
   "cell_type": "code",
   "execution_count": 0,
   "metadata": {
    "colab": {},
    "colab_type": "code",
    "id": "knq647Y5wkWH",
    "outputId": "397b156e-d99d-42ca-da13-5f8155bc004a"
   },
   "outputs": [
    {
     "name": "stdout",
     "output_type": "stream",
     "text": [
      "['Finley', 'Alex', 'Zach']\n"
     ]
    }
   ],
   "source": [
    "names = [' Finley', '  Alex   ', 'Zach']\n",
    "\n",
    "for i in range(len(names)):\n",
    "    names[i] = names[i].strip()\n",
    "print(names)"
   ]
  },
  {
   "cell_type": "markdown",
   "metadata": {
    "colab_type": "text",
    "id": "I_b567YbwkWL"
   },
   "source": [
    "2. Write a function called `truthy` that takes a single list as a parameter and returns a new list that removes all values that are not 'truthy' (empty string, `None`, etc.)\n",
    "    ```py\n",
    "    Example:\n",
    "    \n",
    "   test_1 = [1, 2, 3, None, 0, 4]\n",
    "    print(test_1)\n",
    "    # [1, 2, 3, 4]\n",
    "    ```"
   ]
  },
  {
   "cell_type": "code",
   "execution_count": 0,
   "metadata": {
    "colab": {},
    "colab_type": "code",
    "id": "5g4fbeiWwkWM",
    "outputId": "6470090c-bec0-42c8-c80e-336c7dcff833"
   },
   "outputs": [
    {
     "data": {
      "text/plain": [
       "[1, 2, 3, 4]"
      ]
     },
     "execution_count": 2,
     "metadata": {
      "tags": []
     },
     "output_type": "execute_result"
    }
   ],
   "source": [
    "def truthy(l):\n",
    "    truth = []\n",
    "    for value in l:\n",
    "        if value:\n",
    "            truth.append(value)\n",
    "    return truth\n",
    "\n",
    "truthy([1, 2, 3, None, 0, 4])"
   ]
  },
  {
   "cell_type": "code",
   "execution_count": 0,
   "metadata": {
    "colab": {},
    "colab_type": "code",
    "id": "47-kIxdGwkWO",
    "outputId": "f3e3e54f-50af-452d-a695-32c8cef3bef2"
   },
   "outputs": [
    {
     "data": {
      "text/plain": [
       "[1, 2, 3, 4]"
      ]
     },
     "execution_count": 3,
     "metadata": {
      "tags": []
     },
     "output_type": "execute_result"
    }
   ],
   "source": [
    "# Alternative Solution using a list comprehension\n",
    "\n",
    "def truthy(l):\n",
    "    return [el for el in l if el]\n",
    "\n",
    "truthy([1, 2, 3, None, 0, 4])"
   ]
  },
  {
   "cell_type": "markdown",
   "metadata": {
    "colab_type": "text",
    "id": "SGCbUs7EwkWR"
   },
   "source": [
    "3. Cleaning Data isn't always about removing _bad_ data, sometimes it's about picking out data that showcases something special. You have three dictionaries that contain information about stock prices from the past three days based on the company's stock symbol. Write a function called `growing` that takes in all three dictionaries as parameters and returns a list of symbol names for companies whose stocks only went up across the three days (values only increased across each day).\n",
    "\n",
    "    Hint: To loop a dictionary, you will need to use the .keys() method.\n",
    "    \n",
    "    Example\n",
    "    \n",
    "    ```py\n",
    "    dict = {\n",
    "    'key1': 'value1',\n",
    "    'key2': 'value2'\n",
    "    }\n",
    "    \n",
    "   for k in dict.keys():\n",
    "       print(k)\n",
    "   \n",
    "   # key1\n",
    "   # key2\n",
    "    ```"
   ]
  },
  {
   "cell_type": "code",
   "execution_count": 0,
   "metadata": {
    "colab": {},
    "colab_type": "code",
    "id": "D2_k5X3jwkWR",
    "outputId": "bdecba20-bb4a-4752-a7f2-de9ff0004330"
   },
   "outputs": [
    {
     "data": {
      "text/plain": [
       "['BST', 'PIP']"
      ]
     },
     "execution_count": 4,
     "metadata": {
      "tags": []
     },
     "output_type": "execute_result"
    }
   ],
   "source": [
    "day_1 = {\n",
    "    'BST': 501,\n",
    "    'JSX': 120,\n",
    "    'EJS': 145,\n",
    "    'PIP': 681,\n",
    "    'EJS': 320,\n",
    "}\n",
    "\n",
    "day_2 = {\n",
    "    'BST': 503,\n",
    "    'JSX': 118,\n",
    "    'EJS': 148,\n",
    "    'PIP': 685,\n",
    "    'EJS': 320,\n",
    "}\n",
    "\n",
    "day_3 = {\n",
    "    'BST': 504,\n",
    "    'JSX': 121,\n",
    "    'EJS': 146,\n",
    "    'PIP': 689,\n",
    "    'EJS': 310\n",
    "}\n",
    "\n",
    "def growing(day_1, day_2, day_3):\n",
    "    growing = []\n",
    "    for k in day_1.keys():\n",
    "        v1 = day_1[k]\n",
    "        v2 = day_2[k]\n",
    "        v3 = day_3[k]\n",
    "        if (v1 < v2) and (v2 < v3):\n",
    "            growing.append(k)\n",
    "    return growing\n",
    "\n",
    "growing(day_1, day_2, day_3)"
   ]
  },
  {
   "cell_type": "markdown",
   "metadata": {
    "colab_type": "text",
    "id": "0hRozvLKwkWU"
   },
   "source": [
    "4. You're given a string that represents CSV (comma seperated values) data. The first row contains the names of each piece of data, and the rows below contain the values for three entries. Without using any of Python's built-in tools, write a function called `parse` that accepts this string and returns a list of dictionaries, where each one represents the data in one row.\n",
    "\n",
    "    Hint: You may need to `strip` each name and value.\n",
    "    \n",
    "    Hint: You can use the `isdigit()` method of a Python string to check if a specific value contains only numbers.\n",
    "    \n",
    "    Hint: To test your function, you'll need to [download](https://drive.google.com/file/d/1wDrEfmHnwEfGthLep1dOA1OUzncJliZD/view?usp=sharing) and import the order.csv file.\n",
    "    \n",
    "    Example: \n",
    "   ```py\n",
    "   CSV\n",
    "   \"\"\"Name,Age,Order\n",
    "       Alex,23,Pizza\n",
    "       Zach,32,Burger\n",
    "       Jenn,41,Salad\"\"\"\n",
    "       \n",
    "    # Result for Example:\n",
    "   [{\n",
    "       'Name': 'Alex',\n",
    "       'Age': 23,\n",
    "       'Order': 'Pizza'\n",
    "     },\n",
    "     {\n",
    "       'Name': 'Zach',\n",
    "       'Age': 32,\n",
    "       'Order': 'Burger'\n",
    "     },\n",
    "     {\n",
    "       'Name': 'Jenn',\n",
    "       'Age': 41,\n",
    "       'Order': 'Salad'\n",
    "     }]\n",
    "    ```"
   ]
  },
  {
   "cell_type": "code",
   "execution_count": 5,
   "metadata": {
    "colab": {},
    "colab_type": "code",
    "id": "i80qSvz_wkWV"
   },
   "outputs": [
    {
     "name": "stdout",
     "output_type": "stream",
     "text": [
      "[{'Name': 'Alex', 'Age': 23, 'Order': 'Pizza'}, {'Name': 'Zach', 'Age': 32, 'Order': 'Burger'}, {'Name': 'Jenn', 'Age': 41, 'Order': 'Salad'}, {'Name': 'Armando', 'Age': 26, 'Order': 'Pasta'}, {'Name': 'Samantha', 'Age': 50, 'Order': 'Soup'}, {'Name': 'Tiffany', 'Age': 22, 'Order': 'Burger'}, {'Name': 'Brian', 'Age': 38, 'Order': 'BBQ'}, {'Name': 'Abdul', 'Age': 64, 'Order': 'Sushi'}]\n"
     ]
    }
   ],
   "source": [
    "def parse(data):\n",
    "    lines = data.splitlines()\n",
    "    results = []\n",
    "    header_row = lines.pop(0).split(',')\n",
    "    for line in lines:\n",
    "        values = line.split(',')\n",
    "        row = {}\n",
    "        for i in range(len(header_row)):\n",
    "            key = header_row[i].strip()\n",
    "            val = values[i].strip()\n",
    "            if val.isdigit():\n",
    "                val = int(val)\n",
    "            row[key] = val\n",
    "        results.append(row)\n",
    "    return results\n",
    "\n",
    "file = open(\"order.csv\")\n",
    "print(parse(file.read()))\n",
    "file.close()"
   ]
  },
  {
   "cell_type": "markdown",
   "metadata": {
    "colab_type": "text",
    "id": "xpgBukMBwkWX"
   },
   "source": [
    "<div id=\"container\" style=\"position:relative;\">\n",
    "    <div style=\"position:relative; float:right\"><img style=\"height:25px\"\"width: 50px\" src =\"https://drive.google.com/uc?export=view&id=14VoXUJftgptWtdNhtNYVm6cjVmEWpki1\" />\n",
    "    </div>\n",
    "</div>"
   ]
  }
 ],
 "metadata": {
  "colab": {
   "collapsed_sections": [],
   "name": "[End-Solution]Practice Problems - Cleaning Data.ipynb",
   "provenance": []
  },
  "kernelspec": {
   "display_name": "Python 3",
   "language": "python",
   "name": "python3"
  },
  "language_info": {
   "codemirror_mode": {
    "name": "ipython",
    "version": 3
   },
   "file_extension": ".py",
   "mimetype": "text/x-python",
   "name": "python",
   "nbconvert_exporter": "python",
   "pygments_lexer": "ipython3",
   "version": "3.8.5"
  }
 },
 "nbformat": 4,
 "nbformat_minor": 1
}
