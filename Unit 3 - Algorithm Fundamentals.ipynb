{
 "cells": [
  {
   "cell_type": "markdown",
   "metadata": {},
   "source": [
    "### Python Programming \n",
    "<img style = \"position:absolute; TOP:0px; LEFT:840px; WIDTH:250px; HEIGHT:65px\"  src =\"https://drive.google.com/uc?export=view&id=1EnB0x-fdqMp6I5iMoEBBEuxB_s7AmE2k\" />"
   ]
  },
  {
   "cell_type": "markdown",
   "metadata": {},
   "source": [
    "# Unit 3: Algorithm Fundamentals\n",
    "## In This Lesson You Will...\n",
    "- Execute specific code conditionally\n",
    "- Perform an action on every element in a list\n",
    "- Identify a good use case for implementing loops and conditionals \n",
    "- Define functions that encapsulate reusable code\n",
    "- Pass data from one area of a program to another"
   ]
  },
  {
   "cell_type": "markdown",
   "metadata": {},
   "source": [
    "## Control Flow \n",
    "Control flow allows us to make decisions in our code based on the result of a specific evaluation. These evaluations boil down to a `True` or `False` value. Based on that value, we can execute a specific piece of code.\n",
    "\n",
    "It is the combination of comparison, logical and boolean operators that helps us build complex expressions. We can write our code in such a way that once an expression evaluates to `True`, a particular section of our program will run.\n"
   ]
  },
  {
   "cell_type": "code",
   "execution_count": null,
   "metadata": {},
   "outputs": [],
   "source": [
    "# Basic conditionals\n",
    "5 > 3 # True\n",
    "0 > (3 + 5) * 2 # False\n",
    "'hi' == 'hello' # False "
   ]
  },
  {
   "cell_type": "markdown",
   "metadata": {},
   "source": [
    "### Comparison Operators\n",
    "\n",
    "<img src='https://drive.google.com/uc?export=view&id=11ktZxh2Um__W4EqX7UkP9nvsNKkTqOEe' />"
   ]
  },
  {
   "cell_type": "markdown",
   "metadata": {},
   "source": [
    "### Logical Operators\n",
    "\n",
    "<img src='https://drive.google.com/uc?export=view&id=18cj2_KkpRIjypjDhAjfnrljYnzkHN1nS' />"
   ]
  },
  {
   "cell_type": "markdown",
   "metadata": {},
   "source": [
    "Logical operators are used to chain expressions together allowing us to create more complex operations. The expressions on either side of a logical operator is known as an operand. Each operand is evaluated to Boolean context which will result in a `True` or `False` value. The result of the overall statement is dependent on the logical operator being used. Refer to the examples in the Logical Operators chart above to determine how each operator can produce a result of `True`. \n",
    "\n",
    "Determine what the result will be for the following:"
   ]
  },
  {
   "cell_type": "code",
   "execution_count": 1,
   "metadata": {},
   "outputs": [
    {
     "name": "stdout",
     "output_type": "stream",
     "text": [
      "False\n",
      "True\n",
      "False\n"
     ]
    }
   ],
   "source": [
    "x = False\n",
    "y = True\n",
    "\n",
    "print(x and y)\n",
    "print(x or y)\n",
    "print(not y)"
   ]
  },
  {
   "cell_type": "markdown",
   "metadata": {},
   "source": [
    "It is important to know that all non-boolean operands are evaluated based on its boolean context to determine if its \"truthy\" or \"falsy\". There are several non-boolean values that will result in a False evaluation. These values include:\n",
    "- Any numerical operation that results in zero\n",
    "- An empty string\n",
    "- An empty list or dictionary\n",
    "- Python's `None` keyword"
   ]
  },
  {
   "cell_type": "markdown",
   "metadata": {},
   "source": [
    "### If / Else Statements\n",
    "\n",
    "Based on the outcome of a conditional, we can have our code \"make decisions\" or execute a specific block of code with the use of an if / else statement."
   ]
  },
  {
   "cell_type": "code",
   "execution_count": 2,
   "metadata": {},
   "outputs": [
    {
     "name": "stdout",
     "output_type": "stream",
     "text": [
      "running True block of code\n"
     ]
    }
   ],
   "source": [
    "x = 5\n",
    "if (x > 3):\n",
    "    print('running True block of code')\n",
    "else:\n",
    "    print('running False block of code')\n"
   ]
  },
  {
   "cell_type": "markdown",
   "metadata": {},
   "source": [
    "Try altering the value of `x` to have the `else` block of code run.\n",
    "\n",
    "If we want to test multiple conditions, we can make use of the `elif` statement coupled with a normal if / else statement. It is important to know that the `else` statement is used to execute code when none of our conditions match our `if` or `elif` statements."
   ]
  },
  {
   "cell_type": "code",
   "execution_count": 3,
   "metadata": {},
   "outputs": [
    {
     "name": "stdout",
     "output_type": "stream",
     "text": [
      "Average\n"
     ]
    }
   ],
   "source": [
    "grade = 85\n",
    " \n",
    "if (grade >= 90):\n",
    "    print(\"Above Average\")\n",
    "elif (grade < 90 and grade >= 70):\n",
    "    print(\"Average\")\n",
    "else:\n",
    "    print(\"Below\")\n",
    "\n"
   ]
  },
  {
   "cell_type": "markdown",
   "metadata": {},
   "source": [
    "Try altering the `grade` value to produce a result in each portion of our if statement."
   ]
  },
  {
   "cell_type": "markdown",
   "metadata": {},
   "source": [
    "## Activity: Control Flow\n",
    "- Create a variable called “guess” and give it a value of seven\n",
    "- Write an if / elif/ else statement comparing the guess variable to the “random_num” variable.\n",
    "    - If the guess is lower than the random number, print “Guess is too low”\n",
    "    - If the guess is higher than the random number, print “Guess is too high”\n",
    "    - If neither condition matches, print “Your Guess is correct!”"
   ]
  },
  {
   "cell_type": "code",
   "execution_count": 36,
   "metadata": {},
   "outputs": [
    {
     "name": "stdout",
     "output_type": "stream",
     "text": [
      "0\n",
      "Guess is too high\n"
     ]
    }
   ],
   "source": [
    "from random import randint\n",
    "random_num = randint(0, 10)\n",
    "\n",
    "# Write code here\n",
    "guess = 7\n",
    "print(random_num)\n",
    "if (guess < random_num):\n",
    "    print(\"Guess is too low\")\n",
    "elif (guess > random_num):\n",
    "    print(\"Guess is too high\")\n",
    "else:\n",
    "    print(\"Guess is correct\")"
   ]
  },
  {
   "cell_type": "markdown",
   "metadata": {},
   "source": [
    "## Loops\n",
    "\n",
    "### For Loops\n",
    "\n",
    "`For` loops let us iterate a specific number of times where each iteration executes code. `For` loops are very useful when we want to iterate through a list data type or execute code a specific number of iterations using the `range` function. The syntax for writing a `for` loop is as followed: "
   ]
  },
  {
   "cell_type": "code",
   "execution_count": null,
   "metadata": {
    "scrolled": true
   },
   "outputs": [],
   "source": [
    "for x in iterable:\n",
    "    # execute code"
   ]
  },
  {
   "cell_type": "markdown",
   "metadata": {},
   "source": [
    "Lets unpack the `for` loop syntax. First, we declare a for loop by using the `for` keyword. Next, we specific the variable name that we want to use to keep track of the step or current iteration we are on when our for loop runs. In our example we used the variable name of `x`. In essence, the variable `x` will contain the value as we iterate through our loop. It is important to know the value of `x` will be different depending on if we are iterating through a `string`, `list` or a range of numbers. Proceeding our iteration variable we declare the `in` keyword followed by the name of the list or range we want to loop through.  "
   ]
  },
  {
   "cell_type": "code",
   "execution_count": 23,
   "metadata": {},
   "outputs": [
    {
     "name": "stdout",
     "output_type": "stream",
     "text": [
      "salad\n",
      "milk\n",
      "corn\n",
      "0\n",
      "1\n",
      "2\n",
      "3\n",
      "4\n"
     ]
    }
   ],
   "source": [
    "# Loop through a list \n",
    "grocery_list = ['salad', 'milk', 'corn']\n",
    "\n",
    "for item in grocery_list:\n",
    "    print(item)\n",
    "    \n",
    "# Loop using the range function\n",
    "for x in range(0, 5):\n",
    "    print(x)"
   ]
  },
  {
   "cell_type": "markdown",
   "metadata": {},
   "source": [
    "### Range Function\n",
    "\n",
    "`For` loops can iterate over a sequence of numbers using the range function. This sequence of numbers can either be positive or negative and the range will begin at zero unless a specific starting position is declared using its parameters. The range function can take in three values (parameters) which are separated by commas.\n",
    "\n",
    "#### Range Parameters \n",
    "- The first parameter is the starting position \n",
    "- The second parameter is the end position\n",
    "- The third parameter is the step after each iteration "
   ]
  },
  {
   "cell_type": "code",
   "execution_count": 12,
   "metadata": {
    "scrolled": true
   },
   "outputs": [
    {
     "name": "stdout",
     "output_type": "stream",
     "text": [
      "0\n",
      "2\n",
      "4\n",
      "6\n",
      "8\n"
     ]
    }
   ],
   "source": [
    "for x in range(0, 10, 2):\n",
    "    print(x)"
   ]
  },
  {
   "cell_type": "markdown",
   "metadata": {},
   "source": [
    "Lets unpack the range function in the example above. Using the range function we instructed our for loop to start at index 0 and continue looping for as long as our `x` variable is less than ten. During each iteration of our loop, we increased the value of x by two resulting in the print out of all even numbers less than ten. What do you think will happen if we changed the starting position of our range function to begin at one?"
   ]
  },
  {
   "cell_type": "code",
   "execution_count": 13,
   "metadata": {},
   "outputs": [
    {
     "name": "stdout",
     "output_type": "stream",
     "text": [
      "1\n",
      "3\n",
      "5\n",
      "7\n",
      "9\n"
     ]
    }
   ],
   "source": [
    "for x in range(1, 10, 2):\n",
    "    print(x)"
   ]
  },
  {
   "cell_type": "markdown",
   "metadata": {},
   "source": [
    "### Using The Range Function to Loop a List\n",
    "\n",
    "There may come a time when you need to use the iteration number to index a list, meaning to retrieve a value from a particular position in a list. This can be accomplished by combining the `range` function with the `len` function. The `len` function will return the \"length\" or number of items in the specified list. To use the `len` function, use the `len` keyword and invoke the function by placing opening and closing brackets at the end of the `len` keyword. From there, \"pass in\" or place the name of the list variable between the opening or closing brackets."
   ]
  },
  {
   "cell_type": "code",
   "execution_count": 15,
   "metadata": {},
   "outputs": [
    {
     "name": "stdout",
     "output_type": "stream",
     "text": [
      "The length of the numbers_list is 5\n"
     ]
    }
   ],
   "source": [
    "numbers_list = [1, 3, 5, 9, 12]\n",
    "list_length = len(numbers_list)\n",
    "\n",
    "print('The length of the numbers_list is', list_length)"
   ]
  },
  {
   "cell_type": "markdown",
   "metadata": {},
   "source": [
    "Now that we know how to get the length of a list, we can loop the list by passing that number in as the end position in our range function."
   ]
  },
  {
   "cell_type": "code",
   "execution_count": 17,
   "metadata": {
    "scrolled": true
   },
   "outputs": [
    {
     "name": "stdout",
     "output_type": "stream",
     "text": [
      "1\n",
      "3\n",
      "5\n",
      "9\n",
      "12\n"
     ]
    }
   ],
   "source": [
    "numbers_list = [1, 3, 5, 9, 12]\n",
    "list_length = len(numbers_list)\n",
    "\n",
    "for i in range(0, list_length):\n",
    "    print(numbers_list[i])"
   ]
  },
  {
   "cell_type": "markdown",
   "metadata": {},
   "source": [
    "If you are feeling confused by the example above, that is okay as it is very syntax heavy. The main purpose of this example is to give you exposure to different ways to solving one problem. The above example leverages the understanding of lists and how they are indexed starting at zero. By using the `len` and `range` function we preserve the value of `i` as the iteration value and not the value of item in the list.\n",
    "\n",
    "### Nested For Loops\n",
    "\n",
    "A nested loop is a loop that is executed inside of another loop. The iteration of the outer loop will trigger the inside loop to execute for its entire life-cycle. Nested for loops gives us the ability to access data from more complex data types. \n",
    "\n",
    "Take a look at the example below, we will use a nested for loop to access data from a list where each item is another list."
   ]
  },
  {
   "cell_type": "code",
   "execution_count": 21,
   "metadata": {},
   "outputs": [
    {
     "name": "stdout",
     "output_type": "stream",
     "text": [
      "63\n",
      "88\n",
      "73\n",
      "75\n",
      "77\n",
      "73\n",
      "80\n",
      "85\n",
      "68\n"
     ]
    }
   ],
   "source": [
    "main_list = [[63,88,73],[75,77,73],[80,85,68]]\n",
    "\n",
    "for inner_list in main_list:\n",
    "    for value in inner_list:\n",
    "        print(value)"
   ]
  },
  {
   "cell_type": "markdown",
   "metadata": {},
   "source": [
    "Time to unpack the example above. First, when iterating over the `main_list` with the outer `for` loop we gain access to the three inner lists. The `inner_list` is just a variable that will hold the value at each iteration which in this case is another list."
   ]
  },
  {
   "cell_type": "code",
   "execution_count": 22,
   "metadata": {},
   "outputs": [
    {
     "name": "stdout",
     "output_type": "stream",
     "text": [
      "[63, 88, 73]\n",
      "[75, 77, 73]\n",
      "[80, 85, 68]\n"
     ]
    }
   ],
   "source": [
    "main_list = [[63,88,73],[75,77,73],[80,85,68]]\n",
    "\n",
    "for inner_list in main_list:\n",
    "    print(inner_list)"
   ]
  },
  {
   "cell_type": "markdown",
   "metadata": {},
   "source": [
    "Now having access to the inner lists, we create a second `for` loop that will iterate through the entirety of each list. "
   ]
  },
  {
   "cell_type": "code",
   "execution_count": 24,
   "metadata": {},
   "outputs": [
    {
     "name": "stdout",
     "output_type": "stream",
     "text": [
      "80\n",
      "85\n",
      "68\n"
     ]
    }
   ],
   "source": [
    "for value in inner_list:\n",
    "    print(value)"
   ]
  },
  {
   "cell_type": "markdown",
   "metadata": {},
   "source": [
    ">**Note**: Notice that our inner for loop only printed out three numbers. The example above only was to show what happens at each iteration of the outer for loop."
   ]
  },
  {
   "cell_type": "markdown",
   "metadata": {},
   "source": [
    "### While Loops\n",
    "\n",
    "`While` loops rely on a condition to determine how many iterations the loop should execute. For as long as the condition is `True`, the loop will continue to run. At each iteration of the loop, the condition is checked. If the condition evaluates to `False`, the loop will terminate."
   ]
  },
  {
   "cell_type": "code",
   "execution_count": 18,
   "metadata": {},
   "outputs": [
    {
     "name": "stdout",
     "output_type": "stream",
     "text": [
      "i = 0\n",
      "i = 1\n",
      "i = 2\n",
      "i = 3\n"
     ]
    }
   ],
   "source": [
    "i = 0\n",
    "while(i < 4):\n",
    "    print('i =', i)\n",
    "    i += 1\n"
   ]
  },
  {
   "cell_type": "markdown",
   "metadata": {},
   "source": [
    "Lets unpack our while loop example. Initially, we declare a variable `i` and set its value to zero. Next, we declare a while loop using the `while` keyword and set a condition stating that we want our `while` loop to run for as long as our `i` variable is less than four. Through each iteration we increase `i` by one in order for our condition to eventually evaluate to `False`. What will happen if we do not increase our `i` or our condition is never met?\n",
    "\n",
    "An issue with `while` loops is if the condition always evaluates to `True`, the loop will never stop. This is known as an `infinite` loop. Having an infinite loop will cause major issues in your code and potentially crash your program."
   ]
  },
  {
   "cell_type": "markdown",
   "metadata": {},
   "source": [
    "## Combining Loops with Control Flow"
   ]
  },
  {
   "cell_type": "markdown",
   "metadata": {},
   "source": [
    "Loops are great for iterating through a list but what if we are looking for a particular item in a list or only want to execute a block of code if some condition is met? To accomplish these needs, we can use `if` statements within a loop.\n",
    "\n",
    "Lets combine a `for` loop with an `if / else` statement to print if a number is even or odd. Our if statement will contain a condition checking if the modulo operation of the current value has a remainder of zero. If the condition is `True`, the number is even. Otherwise it is odd. "
   ]
  },
  {
   "cell_type": "code",
   "execution_count": 25,
   "metadata": {},
   "outputs": [
    {
     "name": "stdout",
     "output_type": "stream",
     "text": [
      "10 is even\n",
      "6 is even\n",
      "3 is odd\n",
      "9 is odd\n",
      "8 is even\n"
     ]
    }
   ],
   "source": [
    "numbers = [10, 6, 3, 9, 8]\n",
    "\n",
    "for i in numbers:\n",
    "    if(i % 2 == 0):\n",
    "        print(i, \"is even\")\n",
    "    else:\n",
    "        print(i, \"is odd\")"
   ]
  },
  {
   "cell_type": "markdown",
   "metadata": {},
   "source": [
    "### Break / Continue Statements\n",
    "\n",
    "We can alter the flow of a loop with the use of a `break` or `continue` statement. `break` will terminate the loop from executing any further. This statement can be useful when you are searching for a particular item in a list. To save on computation time, the `break` statement will stop the loop from executing any further as we do not need to continue searching for an item once it has be located.\n",
    "\n",
    "Let's search for the number three in a list of numbers to demonstrate the `break` statement."
   ]
  },
  {
   "cell_type": "code",
   "execution_count": 26,
   "metadata": {},
   "outputs": [
    {
     "name": "stdout",
     "output_type": "stream",
     "text": [
      "10\n",
      "6\n",
      "3\n"
     ]
    }
   ],
   "source": [
    "numbers = [10, 6, 3, 9, 8]\n",
    "\n",
    "for i in numbers:\n",
    "    if (i == 3):\n",
    "        print(i)\n",
    "        break\n",
    "    print(i)\n"
   ]
  },
  {
   "cell_type": "markdown",
   "metadata": {},
   "source": [
    "The `continue` statement will halt the execution of any code within the current iteration of the loop while preserving the for loop life-cycle. This statement can be useful when you want to avoid executing a block of code if a certain condition is `True`. \n",
    "\n",
    "Let's use our example from above to skip printing a number instead of terminating the loop completely."
   ]
  },
  {
   "cell_type": "code",
   "execution_count": 25,
   "metadata": {},
   "outputs": [
    {
     "name": "stdout",
     "output_type": "stream",
     "text": [
      "10\n",
      "6\n",
      "9\n",
      "8\n"
     ]
    }
   ],
   "source": [
    "numbers = [10, 6, 3, 9, 8]\n",
    "\n",
    "for i in numbers:\n",
    "    if (i == 3):\n",
    "        continue\n",
    "        print(i)\n",
    "    print(i)"
   ]
  },
  {
   "cell_type": "markdown",
   "metadata": {},
   "source": [
    ">**Note**: Notice that the continue statement halted to execution of the `print` within the if statement and within the for loop iteration which resulted in the number three to never be printed. "
   ]
  },
  {
   "cell_type": "markdown",
   "metadata": {},
   "source": [
    "## Activity: Loops\n",
    "- Create a for loop that will iterate through the “sports_stats” list of  dictionaries.\n",
    "    - Each dictionary represents a player.\n",
    "- At each iteration, calculate the player's goal percentage.\n",
    "    - If a player's goal percentage is greater than 50%, print their name. "
   ]
  },
  {
   "cell_type": "code",
   "execution_count": 29,
   "metadata": {},
   "outputs": [
    {
     "name": "stdout",
     "output_type": "stream",
     "text": [
      "Alan Johnson has a shot percentage over 50%\n",
      "Jessica Jeon has a shot percentage over 50%\n"
     ]
    }
   ],
   "source": [
    "sports_stats = [{\n",
    "        \"name\": \"Alan Johnson\",\n",
    "        \"shots\": 73,\n",
    "        \"goals\": 45\n",
    "    },\n",
    "    {\n",
    "        \"name\": \"Spencer Woods\",\n",
    "        \"shots\": 55,\n",
    "        \"goals\": 26\n",
    "    },\n",
    "    {\n",
    "        \"name\": \"Hayleigh Weeks\",\n",
    "        \"shots\": 87,\n",
    "        \"goals\": 25\n",
    "    },\n",
    "    {\n",
    "        \"name\": \"Ian Smith\",\n",
    "        \"shots\": 90,\n",
    "        \"goals\": 38\n",
    "    },\n",
    "    {\n",
    "        \"name\": \"Jessica Jeon\",\n",
    "        \"shots\": 21,\n",
    "        \"goals\": 19\n",
    "    }]\n",
    "\n",
    "for player in sports_stats:\n",
    "    shot_percent = player[\"goals\"]/player[\"shots\"]\n",
    "    name = player[\"name\"]\n",
    "    if (shot_percent > 0.5):\n",
    "        print(f\"{name} has a shot percentage over 50%\")"
   ]
  },
  {
   "cell_type": "markdown",
   "metadata": {},
   "source": [
    "## Functions\n",
    "\n",
    "A function is a named block of code that can be called for reuse. Functions are key to creating efficient code as they give us the ability to reuse code and make our code more flexible with the use of parameters. Before we discuss the use of parameters, lets look at how we can write a function.\n",
    "\n",
    "The structure of a function has four main parts:\n",
    "- The definition keyword: `def`\n",
    "- The information you want to pass in: `parameters`\n",
    "- The code you want to execute\n",
    "- The `return` keyword\n",
    "\n",
    "After we create a function, it can be executed by \"calling\" or \"invoking\" the function name. To do this, you simply write the name of the function followed by a set of parentheses `()`. If the function requires parameters, you place them inside the parentheses separating each with a comma."
   ]
  },
  {
   "cell_type": "code",
   "execution_count": 30,
   "metadata": {},
   "outputs": [
    {
     "data": {
      "text/plain": [
       "'Spike is 35 years old in dog years.'"
      ]
     },
     "execution_count": 30,
     "metadata": {},
     "output_type": "execute_result"
    }
   ],
   "source": [
    "# Creating a function\n",
    "def formatToDogYears(name, age):\n",
    "    formattedAge = name + \" is \" + str(age * 7) + ' years old in dog years.'\n",
    "    return formattedAge\n",
    "\n",
    "# Invoking a function\n",
    "formatToDogYears('Spike', 5)"
   ]
  },
  {
   "cell_type": "markdown",
   "metadata": {},
   "source": [
    "### Anatomy of a Function\n",
    "\n",
    "<img src='https://drive.google.com/uc?view=export&id=1KE53ZItpAMlcieUNDkExOokV-Pft3PuP' />"
   ]
  },
  {
   "cell_type": "markdown",
   "metadata": {},
   "source": [
    "### Parameters vs Arugments\n",
    "A `parameter` refers to a variable that can be found within our function definition code. Parameters gives us the ability to pass information into a function where it is essential to produce a particular result. Think of a parameter as a placeholder, it contains no actual value. Once a parameter contains a value, it is known as an `argument`. The term parameter and argument is sometimes used interchangeably but is useful to know that a parameter only becomes an argument once a value is passed to the function.\n",
    "\n",
    "If we refer to the function example above, \"name\" is the parameter while \"Spike\" is the argument. When the function is invoked, \"Spike\" replaces the name parameter on line two.\n",
    "\n",
    "### The return Statement\n",
    "The caller passes information to a function via parameters / arguments in order to run some computation on those values. Once that computation is complete, the function should pass information back to the caller. The `return` statement is used to pass information \"out\" of a function or back to the caller. To capture that returned value, a function invocation is assigned to a variable. If the `return` statement is **not** used, the function will return a default value of `None`. To correctly return a value from a function, the value must be on the same line, directly after the return statement."
   ]
  },
  {
   "cell_type": "code",
   "execution_count": 32,
   "metadata": {},
   "outputs": [
    {
     "name": "stdout",
     "output_type": "stream",
     "text": [
      "25\n",
      "None\n",
      "None\n"
     ]
    }
   ],
   "source": [
    "# Correctly returns the passed value multiplied by five back to the caller\n",
    "def multipleOfFive(num):\n",
    "    return num * 5\n",
    "\n",
    "correct_use = multipleOfFive(5)\n",
    "\n",
    "# No return statment - returns a value of None\n",
    "def multipleOfFive(num):\n",
    "    num * 5\n",
    "\n",
    "no_return_statement = multipleOfFive(5)\n",
    " \n",
    "# Incorrect placement of the return statement - returns a value of None\n",
    "def multipleOfFive(num):\n",
    "    num * 5\n",
    "    return\n",
    "\n",
    "wrong_return_placement = multipleOfFive(5)\n",
    "\n",
    "print(correct_use)\n",
    "print(no_return_statement)\n",
    "print(wrong_return_placement)"
   ]
  },
  {
   "cell_type": "markdown",
   "metadata": {},
   "source": [
    "### Purity & Side Effects\n",
    "There are two conditions a function must meet in order for it to be considered **pure**.\n",
    "- \"If the function is given the same argument it will always produce the same result / return value.\"\n",
    "- \"The function should not produce any side effects by mutating an external variable or produce any file input / output operations.\" "
   ]
  },
  {
   "cell_type": "code",
   "execution_count": 30,
   "metadata": {},
   "outputs": [],
   "source": [
    "increase = 1\n",
    "def impure(num):\n",
    "    return num + increase\n",
    "# Output depends on something which is not a parameter\n",
    " \n",
    "def pure(num, increase):\n",
    "    return num + increase\n",
    "# Output depends only on  input parameters\n",
    " \n",
    "def sideEffect(num, increase):\n",
    "    playMusic()\n",
    "    return num + increase\n",
    "# What does playing music have to do with adding numbers?\n"
   ]
  },
  {
   "cell_type": "markdown",
   "metadata": {},
   "source": [
    "## Activity: Functions\n",
    "- Define a function called `lottery` that takes a list of names as a parameter\n",
    "- Using Python select a random entry in the list\n",
    "- Print out \"Congratulations\" with the random name appended to the congratulatory string"
   ]
  },
  {
   "cell_type": "code",
   "execution_count": 52,
   "metadata": {},
   "outputs": [
    {
     "name": "stdout",
     "output_type": "stream",
     "text": [
      "Congratulations! anna\n"
     ]
    }
   ],
   "source": [
    "# Write Code Here\n",
    "\n",
    "from random import randint\n",
    "\n",
    "name_list = ['simon', 'moses', 'harry', 'travis', 'nam', 'anna', 'katherine', 'david', 'janice']\n",
    "\n",
    "def lottery(names):\n",
    "    random_num = randint(0, len(names)-1)\n",
    "    winner = names[random_num]\n",
    "    print(f\"Congratulations! {winner}\")\n",
    "    return\n",
    "\n",
    "lottery(name_list)"
   ]
  },
  {
   "cell_type": "markdown",
   "metadata": {},
   "source": [
    "<div id=\"container\" style=\"position:relative;\">\n",
    "    <div style=\"position:relative; float:right\"><img style=\"height:25px\"\"width: 50px\" src =\"https://drive.google.com/uc?export=view&id=14VoXUJftgptWtdNhtNYVm6cjVmEWpki1\" />\n",
    "    </div>\n",
    "</div>\n"
   ]
  },
  {
   "cell_type": "code",
   "execution_count": null,
   "metadata": {},
   "outputs": [],
   "source": []
  }
 ],
 "metadata": {
  "kernelspec": {
   "display_name": "Python 3",
   "language": "python",
   "name": "python3"
  },
  "language_info": {
   "codemirror_mode": {
    "name": "ipython",
    "version": 3
   },
   "file_extension": ".py",
   "mimetype": "text/x-python",
   "name": "python",
   "nbconvert_exporter": "python",
   "pygments_lexer": "ipython3",
   "version": "3.8.5"
  }
 },
 "nbformat": 4,
 "nbformat_minor": 2
}
