{
 "cells": [
  {
   "cell_type": "markdown",
   "metadata": {
    "colab_type": "text",
    "id": "y0keEgkOvhRX"
   },
   "source": [
    "<div style='display: flex; justify-content: space-between; align-items: center; width: 100%; height: 100%;'>\n",
    "    <div style=\"width: 100%;\"><h3> Python For Data Science </h3></div>\n",
    "    <div>\n",
    "        <img style=\"height:65px; min-width: 255px; max-width: 355px;\" src =\"https://drive.google.com/uc?export=view&id=1EnB0x-fdqMp6I5iMoEBBEuxB_s7AmE2k\" />\n",
    "    </div>\n",
    "</div>"
   ]
  },
  {
   "cell_type": "markdown",
   "metadata": {
    "colab_type": "text",
    "id": "gsGf9V-ivhRY"
   },
   "source": [
    "# Practice Problems: Cleaning Data"
   ]
  },
  {
   "cell_type": "markdown",
   "metadata": {
    "colab_type": "text",
    "id": "G-_mS2p8vhRZ"
   },
   "source": [
    "1. Given the list of names stored in the variable `names`, write a loop that cleans the names inside the list by trimming all whitespace at the start and end of the names. Print the cleaned list."
   ]
  },
  {
   "cell_type": "code",
   "execution_count": 3,
   "metadata": {
    "colab": {},
    "colab_type": "code",
    "id": "iapPe9qOvhRZ"
   },
   "outputs": [
    {
     "data": {
      "text/plain": [
       "['Finley', 'Alex', 'Zach']"
      ]
     },
     "execution_count": 3,
     "metadata": {},
     "output_type": "execute_result"
    }
   ],
   "source": [
    "names = [' Finley', '  Alex   ', 'Zach']\n",
    "\n",
    "def clean(uncleaned_list):\n",
    "    cleaned_list = []\n",
    "    for name in uncleaned_list:\n",
    "        cleaned_list.append(name.strip())\n",
    "    return cleaned_list\n",
    "\n",
    "clean(names)"
   ]
  },
  {
   "cell_type": "markdown",
   "metadata": {
    "colab_type": "text",
    "id": "kIiiCqGsvhRd"
   },
   "source": [
    "2. Write a function called `truthy` that takes a single list as a parameter and returns a new list that removes all values that are not 'truthy' (empty string, `None`, etc.)\n",
    "    ```py\n",
    "    Example:\n",
    "    \n",
    "   test_1 = [1, 2, 3, None, 0, 4]\n",
    "    print(test_1)\n",
    "    # [1, 2, 3, 4]\n",
    "    ```"
   ]
  },
  {
   "cell_type": "code",
   "execution_count": 4,
   "metadata": {
    "colab": {},
    "colab_type": "code",
    "id": "DCfQOu0_vhRd"
   },
   "outputs": [
    {
     "data": {
      "text/plain": [
       "[1, 2, 3, 4]"
      ]
     },
     "execution_count": 4,
     "metadata": {},
     "output_type": "execute_result"
    }
   ],
   "source": [
    "test_1 = [1, 2, 3, None, 0, 4]\n",
    "\n",
    "def truthy(unfiltered_list):\n",
    "    filtered_list = []\n",
    "    for x in unfiltered_list:\n",
    "        if x:\n",
    "            filtered_list.append(x)\n",
    "    return filtered_list\n",
    "\n",
    "truthy(test_1)"
   ]
  },
  {
   "cell_type": "markdown",
   "metadata": {
    "colab_type": "text",
    "id": "OYwWlXxfvhRg"
   },
   "source": [
    "3. Cleaning Data isn't always about removing _bad_ data, sometimes it's about picking out data that showcases something special. You have three dictionaries that contain information about stock prices from the past three days based on the company's stock symbol. Write a function called `growing` that takes in all three dictionaries as parameters and returns a list of symbol names for companies whose stocks only went up across the three days (values only increased across each day).\n",
    "\n",
    "    Hint: To loop a dictionary, you will need to use the .keys() method.\n",
    "    \n",
    "    Example\n",
    "    \n",
    "    ```py\n",
    "    dict = {\n",
    "    'key1': 'value1',\n",
    "    'key2': 'value2'\n",
    "    }\n",
    "    \n",
    "   for k in dict.keys():\n",
    "       print(k)\n",
    "   \n",
    "   # key1\n",
    "   # key2\n",
    "    ```"
   ]
  },
  {
   "cell_type": "code",
   "execution_count": 5,
   "metadata": {
    "colab": {},
    "colab_type": "code",
    "id": "k4EMRhlevhRg"
   },
   "outputs": [
    {
     "data": {
      "text/plain": [
       "['BST', 'PIP']"
      ]
     },
     "execution_count": 5,
     "metadata": {},
     "output_type": "execute_result"
    }
   ],
   "source": [
    "day_1 = {\n",
    "    'BST': 501,\n",
    "    'JSX': 120,\n",
    "    'EJS': 145,\n",
    "    'PIP': 681,\n",
    "    'EJS': 320,\n",
    "}\n",
    "\n",
    "day_2 = {\n",
    "    'BST': 503,\n",
    "    'JSX': 118,\n",
    "    'EJS': 148,\n",
    "    'PIP': 685,\n",
    "    'EJS': 320,\n",
    "}\n",
    "\n",
    "day_3 = {\n",
    "    'BST': 504,\n",
    "    'JSX': 121,\n",
    "    'EJS': 146,\n",
    "    'PIP': 689,\n",
    "    'EJS': 310\n",
    "}\n",
    "\n",
    "def growing(list_1, list_2, list_3):\n",
    "    growing_list = []\n",
    "    for k in list_1.keys():\n",
    "        if list_1[k] < list_2[k] < list_3[k]:\n",
    "            growing_list.append(k)\n",
    "    return growing_list\n",
    "\n",
    "growing(day_1, day_2, day_3)"
   ]
  },
  {
   "cell_type": "markdown",
   "metadata": {
    "colab_type": "text",
    "id": "iQ2M1EspvhRj"
   },
   "source": [
    "4. You're given a string that represents CSV (comma seperated values) data. The first row contains the names of each piece of data, and the rows below contain the values for three entries. Without using any of Python's built-in tools, write a function called `parse` that accepts this string and returns a list of dictionaries, where each one represents the data in one row.\n",
    "\n",
    "    Hint: You may need to `strip` each name and value.\n",
    "    \n",
    "    Hint: You can use the `isdigit()` method of a Python string to check if a specific value contains only numbers.\n",
    "    \n",
    "    Hint: To test your function, you'll need to [download](https://drive.google.com/file/d/1wDrEfmHnwEfGthLep1dOA1OUzncJliZD/view?usp=sharing) and import the order.csv file.\n",
    "    \n",
    "    Example: \n",
    "   ```py\n",
    "   CSV\n",
    "   \"\"\"Name,Age,Order\n",
    "       Alex,23,Pizza\n",
    "       Zach,32,Burger\n",
    "       Jenn,41,Salad\"\"\"\n",
    "       \n",
    "    # Result for Example:\n",
    "   [{\n",
    "       'Name': 'Alex',\n",
    "       'Age': 23,\n",
    "       'Order': 'Pizza'\n",
    "     },\n",
    "     {\n",
    "       'Name': 'Zach',\n",
    "       'Age': 32,\n",
    "       'Order': 'Burger'\n",
    "     },\n",
    "     {\n",
    "       'Name': 'Jenn',\n",
    "       'Age': 41,\n",
    "       'Order': 'Salad'\n",
    "     }]\n",
    "    ```"
   ]
  },
  {
   "cell_type": "code",
   "execution_count": 21,
   "metadata": {
    "colab": {},
    "colab_type": "code",
    "id": "OBmJp061vhRk"
   },
   "outputs": [
    {
     "name": "stdout",
     "output_type": "stream",
     "text": [
      "[{'Name': 'Alex', 'Age': 23, 'Order': 'Pizza'}, {'Name': 'Zach', 'Age': 32, 'Order': 'Burger'}, {'Name': 'Jenn', 'Age': 41, 'Order': 'Salad'}, {'Name': 'Armando', 'Age': 26, 'Order': 'Pasta'}, {'Name': 'Samantha', 'Age': 50, 'Order': 'Soup'}, {'Name': 'Tiffany', 'Age': 22, 'Order': 'Burger'}, {'Name': 'Brian', 'Age': 38, 'Order': 'BBQ'}, {'Name': 'Abdul', 'Age': 64, 'Order': 'Sushi'}]\n"
     ]
    }
   ],
   "source": [
    "def parse(data):\n",
    "    lines = data.splitlines()\n",
    "    results = []\n",
    "    header_row = lines[0].split(',')\n",
    "    lines.pop(0)\n",
    "#     print(header_row)\n",
    "#     print(lines)\n",
    "    for line in lines:\n",
    "        values = line.split(',')\n",
    "        row = {}\n",
    "        for i in range(len(header_row)):\n",
    "            key = header_row[i].strip()\n",
    "            val = values[i].strip()\n",
    "            if val.isdigit():\n",
    "                val = int(val)\n",
    "            row[key] = val\n",
    "        results.append(row)\n",
    "    return results\n",
    "\n",
    "file = open(\"order.csv\")\n",
    "print(parse(file.read()))\n",
    "file.close()"
   ]
  },
  {
   "cell_type": "markdown",
   "metadata": {
    "colab_type": "text",
    "id": "D-gIF-5LvhRm"
   },
   "source": [
    "<div id=\"container\" style=\"position:relative;\">\n",
    "    <div style=\"position:relative; float:right\"><img style=\"height:25px\"\"width: 50px\" src =\"https://drive.google.com/uc?export=view&id=14VoXUJftgptWtdNhtNYVm6cjVmEWpki1\" />\n",
    "    </div>\n",
    "</div>"
   ]
  }
 ],
 "metadata": {
  "colab": {
   "collapsed_sections": [],
   "name": "[NEXT] Practice Problems - Cleaning Data.ipynb",
   "provenance": []
  },
  "kernelspec": {
   "display_name": "Python 3",
   "language": "python",
   "name": "python3"
  },
  "language_info": {
   "codemirror_mode": {
    "name": "ipython",
    "version": 3
   },
   "file_extension": ".py",
   "mimetype": "text/x-python",
   "name": "python",
   "nbconvert_exporter": "python",
   "pygments_lexer": "ipython3",
   "version": "3.8.5"
  }
 },
 "nbformat": 4,
 "nbformat_minor": 1
}
