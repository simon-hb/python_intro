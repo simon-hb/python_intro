{
 "cells": [
  {
   "cell_type": "markdown",
   "metadata": {
    "colab_type": "text",
    "id": "UG57IEYRVNcs"
   },
   "source": [
    "# Python Basics Practice\n",
    "\n",
    "---\n",
    "\n",
    "**Let’s say you’ve just finished eating at a restaurant and treated a friend to lunch. Calculate the total that you must pay given the following information. What was the cost of the tip alone?**\n"
   ]
  },
  {
   "cell_type": "code",
   "execution_count": null,
   "metadata": {
    "colab": {},
    "colab_type": "code",
    "id": "vlkosrGrtV_k"
   },
   "outputs": [],
   "source": [
    "Salad: $3.99\n",
    "Burger: $12.99\n",
    "Wings: $13.99\n",
    "Fries: $3.50\n",
    "\n",
    "Tax: 10%\n",
    "Tip: 15% (In this situation, the tip must be applied to the after-tax cost of the food).\n"
   ]
  },
  {
   "cell_type": "code",
   "execution_count": 9,
   "metadata": {
    "colab": {},
    "colab_type": "code",
    "id": "J6I_OwP_cXoS"
   },
   "outputs": [
    {
     "name": "stdout",
     "output_type": "stream",
     "text": [
      "Total you must pay is: 43.60\n",
      "The cost of the tip: 5.69\n"
     ]
    }
   ],
   "source": [
    "# Write your answer here.\n",
    "\n",
    "salad = 3.99\n",
    "burger = 12.99\n",
    "wings = 13.99\n",
    "fries = 3.50\n",
    "\n",
    "total = (salad + burger + wings + fries)\n",
    "\n",
    "#Total you must pay\n",
    "print(f'Total you must pay is: {total * 1.1 * 1.15:.2f}')\n",
    "\n",
    "#tip alone\n",
    "print(f'The cost of the tip: {total * 1.1 *0.15:.2f}')"
   ]
  },
  {
   "cell_type": "markdown",
   "metadata": {
    "colab_type": "text",
    "id": "QMp9vwt0cXP2"
   },
   "source": [
    "**You’ve been given a secret message, but all of the words are separated, concatenate the strings to piece together the message.**"
   ]
  },
  {
   "cell_type": "code",
   "execution_count": 11,
   "metadata": {
    "colab": {},
    "colab_type": "code",
    "id": "f1K5I7tncf_i"
   },
   "outputs": [
    {
     "ename": "SyntaxError",
     "evalue": "invalid syntax (<ipython-input-11-c11221a74afe>, line 2)",
     "output_type": "error",
     "traceback": [
      "\u001b[0;36m  File \u001b[0;32m\"<ipython-input-11-c11221a74afe>\"\u001b[0;36m, line \u001b[0;32m2\u001b[0m\n\u001b[0;31m    action = buy the\u001b[0m\n\u001b[0m                 ^\u001b[0m\n\u001b[0;31mSyntaxError\u001b[0m\u001b[0;31m:\u001b[0m invalid syntax\n"
     ]
    }
   ],
   "source": [
    "item = laptop\n",
    "action = buy the\n",
    "name = Armando\n",
    "verb = says"
   ]
  },
  {
   "cell_type": "code",
   "execution_count": 13,
   "metadata": {
    "colab": {},
    "colab_type": "code",
    "id": "J2D_Dbtcst-8"
   },
   "outputs": [
    {
     "name": "stdout",
     "output_type": "stream",
     "text": [
      "Armando says buy the laptop\n"
     ]
    }
   ],
   "source": [
    "# Write your answer here.\n",
    "\n",
    "item = \"laptop\"\n",
    "action = \"buy the\"\n",
    "name = \"Armando\"\n",
    "verb = \"says\"\n",
    "\n",
    "print(f'{name} {verb} {action} {item}')"
   ]
  },
  {
   "cell_type": "markdown",
   "metadata": {
    "colab_type": "text",
    "id": "9cIQdJmCcnpc"
   },
   "source": [
    "**You’re at a party and need to share 10 pies amongst 4 people. How much should each person receive? If we can only provide full pies, how much would be left over?**"
   ]
  },
  {
   "cell_type": "code",
   "execution_count": 17,
   "metadata": {
    "colab": {},
    "colab_type": "code",
    "id": "v_NQpjXVcrqR"
   },
   "outputs": [
    {
     "name": "stdout",
     "output_type": "stream",
     "text": [
      "If pies can be split, each person should receive 2.5 pies\n",
      "If pies cannot be split, each person should receive 2 pies. There would be 2 pies leftover.\n",
      "2\n"
     ]
    }
   ],
   "source": [
    "# Write your answer here.\n",
    "import math\n",
    "\n",
    "#pies can be split\n",
    "print(f'If pies can be split, each person should receive {10/4} pies')\n",
    "\n",
    "#only full pies can be given\n",
    "print(f'If pies cannot be split, each person should receive {math.floor(10/4)} pies. There would be {10%4} pies leftover.')\n",
    "\n",
    "#test (did not need to import math for floor, int always rounds down)\n",
    "print(int(2.9))"
   ]
  },
  {
   "cell_type": "markdown",
   "metadata": {
    "colab_type": "text",
    "id": "EtLLDU-psWCr"
   },
   "source": [
    "<div id=\"container\" style=\"position:relative;\">\n",
    "    <div style=\"position:relative; float:right\"><img style=\"height:25px\"\"width: 50px\" src =\"https://drive.google.com/uc?export=view&id=14VoXUJftgptWtdNhtNYVm6cjVmEWpki1\" />\n",
    "    </div>\n",
    "</div>"
   ]
  }
 ],
 "metadata": {
  "colab": {
   "collapsed_sections": [],
   "name": "Practice: Python Basics.ipynb",
   "provenance": [
    {
     "file_id": "1Y9Nrg_n2sCgxvZF416k4UIL31APD0CbV",
     "timestamp": 1593729888135
    },
    {
     "file_id": "1_ycv1Ahodwtxm_eOjkXvOesBPhi-zNFZ",
     "timestamp": 1593729570808
    }
   ]
  },
  "kernelspec": {
   "display_name": "Python 3",
   "language": "python",
   "name": "python3"
  },
  "language_info": {
   "codemirror_mode": {
    "name": "ipython",
    "version": 3
   },
   "file_extension": ".py",
   "mimetype": "text/x-python",
   "name": "python",
   "nbconvert_exporter": "python",
   "pygments_lexer": "ipython3",
   "version": "3.8.5"
  }
 },
 "nbformat": 4,
 "nbformat_minor": 1
}
