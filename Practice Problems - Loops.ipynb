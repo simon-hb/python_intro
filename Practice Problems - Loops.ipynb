{
 "cells": [
  {
   "cell_type": "markdown",
   "metadata": {},
   "source": [
    "<div style='display: flex; justify-content: space-between; align-items: center; width: 100%; height: 100%;'>\n",
    "    <div style=\"width: 100%;\"><h3> Python For Data Science </h3></div>\n",
    "    <div>\n",
    "        <img style=\"height:65px; min-width: 255px; max-width: 355px;\" src =\"https://drive.google.com/uc?export=view&id=1EnB0x-fdqMp6I5iMoEBBEuxB_s7AmE2k\" />\n",
    "    </div>\n",
    "</div>"
   ]
  },
  {
   "cell_type": "markdown",
   "metadata": {},
   "source": [
    "# Practice Problems: Loops\n",
    "\n",
    "## For Loops"
   ]
  },
  {
   "cell_type": "markdown",
   "metadata": {},
   "source": [
    "1. Print out the numbers from one to ten using a `for` loop."
   ]
  },
  {
   "cell_type": "code",
   "execution_count": 48,
   "metadata": {},
   "outputs": [
    {
     "name": "stdout",
     "output_type": "stream",
     "text": [
      "1\n",
      "2\n",
      "3\n",
      "4\n",
      "5\n",
      "6\n",
      "7\n",
      "8\n",
      "9\n",
      "10\n"
     ]
    }
   ],
   "source": [
    "for num in range(1,11):\n",
    "    print(num)"
   ]
  },
  {
   "cell_type": "markdown",
   "metadata": {},
   "source": [
    "2. Given a list of exclamations, use a `for` loop to print out each word followed by an exclamation mark. For example, for the exclamation \"wow\", print \"wow!\"."
   ]
  },
  {
   "cell_type": "code",
   "execution_count": 6,
   "metadata": {},
   "outputs": [
    {
     "name": "stdout",
     "output_type": "stream",
     "text": [
      "wow!\n",
      "hey!\n",
      "blah!\n",
      "horray!\n",
      "woo!\n"
     ]
    }
   ],
   "source": [
    "exclamations = ['wow', 'hey', 'blah', 'horray', 'woo']\n",
    "\n",
    "for word in exclamations:\n",
    "    print(word + \"!\")"
   ]
  },
  {
   "cell_type": "markdown",
   "metadata": {},
   "source": [
    "3. Create an empty list called `five`. Using a `for` loop, add the numbers from one to five to that list. Print the completed list."
   ]
  },
  {
   "cell_type": "code",
   "execution_count": 9,
   "metadata": {},
   "outputs": [
    {
     "name": "stdout",
     "output_type": "stream",
     "text": [
      "[1, 2, 3, 4, 5]\n"
     ]
    }
   ],
   "source": [
    "five = []\n",
    "\n",
    "for num in range (1,6):\n",
    "    five.append(num)\n",
    "print(five)"
   ]
  },
  {
   "cell_type": "markdown",
   "metadata": {},
   "source": [
    "4. Using the list from the previous question, create a `for` loop that iterates over each index in the list and prints its value. **Hint**: use the `len()` function to compute the length of the list."
   ]
  },
  {
   "cell_type": "code",
   "execution_count": 49,
   "metadata": {},
   "outputs": [
    {
     "name": "stdout",
     "output_type": "stream",
     "text": [
      "1\n",
      "2\n",
      "3\n",
      "4\n",
      "5\n"
     ]
    }
   ],
   "source": [
    "for i in range (len(five)):\n",
    "    print(five[i])"
   ]
  },
  {
   "cell_type": "markdown",
   "metadata": {},
   "source": [
    "5. Using a `for` loop, count down from one hundred to one by printing each step."
   ]
  },
  {
   "cell_type": "code",
   "execution_count": 14,
   "metadata": {},
   "outputs": [
    {
     "name": "stdout",
     "output_type": "stream",
     "text": [
      "100\n",
      "99\n",
      "98\n",
      "97\n",
      "96\n",
      "95\n",
      "94\n",
      "93\n",
      "92\n",
      "91\n",
      "90\n",
      "89\n",
      "88\n",
      "87\n",
      "86\n",
      "85\n",
      "84\n",
      "83\n",
      "82\n",
      "81\n",
      "80\n",
      "79\n",
      "78\n",
      "77\n",
      "76\n",
      "75\n",
      "74\n",
      "73\n",
      "72\n",
      "71\n",
      "70\n",
      "69\n",
      "68\n",
      "67\n",
      "66\n",
      "65\n",
      "64\n",
      "63\n",
      "62\n",
      "61\n",
      "60\n",
      "59\n",
      "58\n",
      "57\n",
      "56\n",
      "55\n",
      "54\n",
      "53\n",
      "52\n",
      "51\n",
      "50\n",
      "49\n",
      "48\n",
      "47\n",
      "46\n",
      "45\n",
      "44\n",
      "43\n",
      "42\n",
      "41\n",
      "40\n",
      "39\n",
      "38\n",
      "37\n",
      "36\n",
      "35\n",
      "34\n",
      "33\n",
      "32\n",
      "31\n",
      "30\n",
      "29\n",
      "28\n",
      "27\n",
      "26\n",
      "25\n",
      "24\n",
      "23\n",
      "22\n",
      "21\n",
      "20\n",
      "19\n",
      "18\n",
      "17\n",
      "16\n",
      "15\n",
      "14\n",
      "13\n",
      "12\n",
      "11\n",
      "10\n",
      "9\n",
      "8\n",
      "7\n",
      "6\n",
      "5\n",
      "4\n",
      "3\n",
      "2\n",
      "1\n"
     ]
    }
   ],
   "source": [
    "for num in range(100, 0, -1):\n",
    "    print(num)"
   ]
  },
  {
   "cell_type": "markdown",
   "metadata": {},
   "source": [
    "6. Print all the odd numbers from one to one hundred using a for loop."
   ]
  },
  {
   "cell_type": "code",
   "execution_count": 15,
   "metadata": {},
   "outputs": [
    {
     "name": "stdout",
     "output_type": "stream",
     "text": [
      "1\n",
      "3\n",
      "5\n",
      "7\n",
      "9\n",
      "11\n",
      "13\n",
      "15\n",
      "17\n",
      "19\n",
      "21\n",
      "23\n",
      "25\n",
      "27\n",
      "29\n",
      "31\n",
      "33\n",
      "35\n",
      "37\n",
      "39\n",
      "41\n",
      "43\n",
      "45\n",
      "47\n",
      "49\n",
      "51\n",
      "53\n",
      "55\n",
      "57\n",
      "59\n",
      "61\n",
      "63\n",
      "65\n",
      "67\n",
      "69\n",
      "71\n",
      "73\n",
      "75\n",
      "77\n",
      "79\n",
      "81\n",
      "83\n",
      "85\n",
      "87\n",
      "89\n",
      "91\n",
      "93\n",
      "95\n",
      "97\n",
      "99\n"
     ]
    }
   ],
   "source": [
    "for num in range(1, 100, 2):\n",
    "    print(num)\n",
    "    \n",
    "#coul also do for num in range(1, 100):\n",
    "    #if(num%2==0):\n",
    "        #print(num)"
   ]
  },
  {
   "cell_type": "markdown",
   "metadata": {},
   "source": [
    "### Harder  Problems \n",
    "\n",
    "1. Print out an ASCII triangle that's `x` rows high. Start with `x = 4`. It should loop like the following:\n",
    "```\n",
    "      *\n",
    "     ***\n",
    "    *****\n",
    "   *******\n",
    "```\n",
    " **Hint**: Each row needs (2n + 1) starts, where 0 <= n < x. Each set of stars is prefixed by (x - 1 - n) spaces, where 0 <= n < x."
   ]
  },
  {
   "cell_type": "code",
   "execution_count": 50,
   "metadata": {},
   "outputs": [
    {
     "name": "stdout",
     "output_type": "stream",
     "text": [
      "   *\n",
      "  ***\n",
      " *****\n",
      "*******\n"
     ]
    }
   ],
   "source": [
    "x=4\n",
    "\n",
    "for n in range (x):\n",
    "    spaces = x-1-n\n",
    "    stars = 2*n+1\n",
    "    print(\" \"*spaces + \"*\"*stars)"
   ]
  },
  {
   "cell_type": "markdown",
   "metadata": {},
   "source": [
    "2. Using the solution from the previous question, print a triangle that is ten rows high. "
   ]
  },
  {
   "cell_type": "code",
   "execution_count": 51,
   "metadata": {},
   "outputs": [
    {
     "name": "stdout",
     "output_type": "stream",
     "text": [
      "         *\n",
      "        ***\n",
      "       *****\n",
      "      *******\n",
      "     *********\n",
      "    ***********\n",
      "   *************\n",
      "  ***************\n",
      " *****************\n",
      "*******************\n"
     ]
    }
   ],
   "source": [
    "x=10\n",
    "for n in range (x):\n",
    "    spaces = x-1-n\n",
    "    stars = 2*n+1\n",
    "    print(\" \"*spaces + \"*\"*stars)"
   ]
  },
  {
   "cell_type": "markdown",
   "metadata": {},
   "source": [
    "3. Print the first ten positive Fibonacci numbers use a `for` loop places inside another `for` loop. The Fibonacci sequence is a sequence such that each number is the suum of the two preceding numbers. The first ten numbers are 1, 1, 2, 3, 5, 8, 13, 21, 34, 55."
   ]
  },
  {
   "cell_type": "code",
   "execution_count": 52,
   "metadata": {},
   "outputs": [
    {
     "name": "stdout",
     "output_type": "stream",
     "text": [
      "1\n",
      "1\n",
      "2\n",
      "3\n",
      "5\n",
      "8\n",
      "13\n",
      "21\n",
      "34\n",
      "55\n"
     ]
    }
   ],
   "source": [
    "list = []\n",
    "for num in range(10):\n",
    "    if(num<2):\n",
    "        list.append(1)\n",
    "    else:\n",
    "        list.append(list[num-1]+list[num-2])\n",
    "    print(list[num])"
   ]
  },
  {
   "cell_type": "markdown",
   "metadata": {},
   "source": [
    "## While Loops\n",
    "\n",
    "1. Without storing the numbers in a list or using the `range` function, print the numbers from one to ten (inclusive) using a `while` loop."
   ]
  },
  {
   "cell_type": "code",
   "execution_count": 33,
   "metadata": {},
   "outputs": [
    {
     "name": "stdout",
     "output_type": "stream",
     "text": [
      "1\n",
      "2\n",
      "3\n",
      "4\n",
      "5\n",
      "6\n",
      "7\n",
      "8\n",
      "9\n",
      "10\n"
     ]
    }
   ],
   "source": [
    "i=1\n",
    "while i < 11:\n",
    "    print(i)\n",
    "    i+=1"
   ]
  },
  {
   "cell_type": "markdown",
   "metadata": {},
   "source": [
    "2. Without storing the nunmbers in a list or using the `range` function, print the odd numbers from one to nine (inclusive) using a `while` loop."
   ]
  },
  {
   "cell_type": "code",
   "execution_count": 34,
   "metadata": {},
   "outputs": [
    {
     "name": "stdout",
     "output_type": "stream",
     "text": [
      "1\n",
      "3\n",
      "5\n",
      "7\n",
      "9\n"
     ]
    }
   ],
   "source": [
    "i=1\n",
    "while i < 11:\n",
    "    print(i)\n",
    "    i+=2"
   ]
  },
  {
   "cell_type": "markdown",
   "metadata": {},
   "source": [
    "3. Using a `while` loop, print every odd element of the list `fruits`."
   ]
  },
  {
   "cell_type": "code",
   "execution_count": 36,
   "metadata": {},
   "outputs": [
    {
     "name": "stdout",
     "output_type": "stream",
     "text": [
      "apple\n",
      "peach\n",
      "tomato\n",
      "banana\n"
     ]
    }
   ],
   "source": [
    "fruits = ['apple', 'orange', 'peach', 'grape', 'tomato', 'pineapple', 'banana']\n",
    "i = 0\n",
    "while i < len(fruits):\n",
    "    print(fruits[i])\n",
    "    i+=2"
   ]
  },
  {
   "cell_type": "markdown",
   "metadata": {},
   "source": [
    "### Harder Problems\n",
    "1. Use a while loop to compute the triangular number for `n`. Start off with `n = 20`. Print the result. A trangular number is a sum of n natural numbers, T(n), such that:\n",
    "\n",
    "```python\n",
    "T(n) = 1 + 2 + 3 ... + n\n",
    "```\n",
    "    For example, T(5) is:\n",
    "\n",
    "```python\n",
    "T(5) = 1 + 2 + 3 + 4 + 5 = 15\n",
    "```"
   ]
  },
  {
   "cell_type": "code",
   "execution_count": 40,
   "metadata": {},
   "outputs": [
    {
     "name": "stdout",
     "output_type": "stream",
     "text": [
      "210\n"
     ]
    }
   ],
   "source": [
    "n =20\n",
    "i = 1\n",
    "total = 0\n",
    "\n",
    "while i <= n:\n",
    "    total += i\n",
    "    i +=1\n",
    "print(total)"
   ]
  },
  {
   "cell_type": "markdown",
   "metadata": {},
   "source": [
    "2. A prime number is a number that is only fully divisible (no remainder) by itself and the number one. That means that given a prime number `p`, we should be able to try and fail to divide `p` by all numbers between two and `p - 1`. If these all fail, the number is prime.\n",
    "\n",
    "    For example, given a check for the number nine, we will check:\n",
    "        - Is `9 / 2` an integer? It's not, so continue\n",
    "        - Is `9 / 3` an integer? It is, so we can stop here. We can conclude that nine is not a prime number.\n",
    "        \n",
    "    Write a `while` loop to check if the following numbers are prime/ You only need to write the loop once, and can change the value of a variable to test each one.\n",
    "    - 25\n",
    "    - 29\n",
    "    - 31"
   ]
  },
  {
   "cell_type": "code",
   "execution_count": 46,
   "metadata": {},
   "outputs": [
    {
     "name": "stdout",
     "output_type": "stream",
     "text": [
      "31 is a prime number\n"
     ]
    }
   ],
   "source": [
    "p = 31\n",
    "i = p-1\n",
    "\n",
    "while i > 0:\n",
    "    if i == 1:\n",
    "        print(f\"{p} is a prime number\")\n",
    "        break\n",
    "    elif(p%i == 0):\n",
    "        print(f\"{p} is not a prime number. It is divisible by {i}\")\n",
    "        break\n",
    "    i-=1"
   ]
  },
  {
   "cell_type": "markdown",
   "metadata": {},
   "source": [
    "<div id=\"container\" style=\"position:relative;\">\n",
    "    <div style=\"position:relative; float:right\"><img style=\"height:25px\"\"width: 50px\" src =\"https://drive.google.com/uc?export=view&id=14VoXUJftgptWtdNhtNYVm6cjVmEWpki1\" />\n",
    "    </div>\n",
    "</div>"
   ]
  },
  {
   "cell_type": "code",
   "execution_count": null,
   "metadata": {},
   "outputs": [],
   "source": []
  }
 ],
 "metadata": {
  "kernelspec": {
   "display_name": "Python 3",
   "language": "python",
   "name": "python3"
  },
  "language_info": {
   "codemirror_mode": {
    "name": "ipython",
    "version": 3
   },
   "file_extension": ".py",
   "mimetype": "text/x-python",
   "name": "python",
   "nbconvert_exporter": "python",
   "pygments_lexer": "ipython3",
   "version": "3.8.5"
  }
 },
 "nbformat": 4,
 "nbformat_minor": 2
}
