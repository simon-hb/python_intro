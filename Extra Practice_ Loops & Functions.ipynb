{
 "cells": [
  {
   "cell_type": "markdown",
   "metadata": {
    "colab_type": "text",
    "id": "UG57IEYRVNcs"
   },
   "source": [
    "# While Loops\n",
    "\n",
    "---\n",
    "\n",
    "**For Loops**\n",
    "* definite iterations\n",
    "* Number of times it goes through the loop is explicitly stated in the for statement.\n",
    "\n",
    "**While Loops**\n",
    "* Indefinite iterations\n",
    "* Number of times that loop is going to be executed isn't explicit\n",
    "* executed repeatedly as long as condition in While statement is met."
   ]
  },
  {
   "cell_type": "markdown",
   "metadata": {
    "colab_type": "text",
    "id": "0NZ2AIniVNct"
   },
   "source": [
    "### Example of For Loop"
   ]
  },
  {
   "cell_type": "code",
   "execution_count": null,
   "metadata": {
    "colab": {},
    "colab_type": "code",
    "id": "A6rJNAHQVNcx",
    "outputId": "4686f646-a27c-4506-d8cd-8aac345608e4"
   },
   "outputs": [
    {
     "name": "stdout",
     "output_type": "stream",
     "text": [
      "0\n",
      "1\n",
      "2\n",
      "3\n",
      "4\n"
     ]
    }
   ],
   "source": [
    "for number in range(5):\n",
    "    print(number)"
   ]
  },
  {
   "cell_type": "markdown",
   "metadata": {
    "colab_type": "text",
    "id": "_G_mjtkOVNc1"
   },
   "source": [
    "How would you write that in a while loop?"
   ]
  },
  {
   "cell_type": "code",
   "execution_count": null,
   "metadata": {
    "colab": {},
    "colab_type": "code",
    "id": "xz2yxaG0VNc1"
   },
   "outputs": [],
   "source": [
    "# Beware of the infinite While Loop\n",
    "counter = 0\n",
    "while counter < 5:\n",
    "    print(counter)"
   ]
  },
  {
   "cell_type": "markdown",
   "metadata": {
    "colab_type": "text",
    "id": "FvcHEpRYVNc4"
   },
   "source": [
    "ah, the infinite While loop. Why does this happen?\n",
    "\n",
    "* It's because the while statement was always true, thus it kept running.\n",
    "\n",
    "How do we fix it?"
   ]
  },
  {
   "cell_type": "markdown",
   "metadata": {
    "colab_type": "text",
    "id": "YM7Za7hcVNc5"
   },
   "source": [
    "### Example of While Loop"
   ]
  },
  {
   "cell_type": "code",
   "execution_count": null,
   "metadata": {
    "colab": {},
    "colab_type": "code",
    "id": "1vZGELJ4VNc5",
    "outputId": "b5ad09e9-3537-4c0e-932b-014df72b4565"
   },
   "outputs": [
    {
     "name": "stdout",
     "output_type": "stream",
     "text": [
      "1\n",
      "2\n",
      "3\n",
      "4\n",
      "5\n"
     ]
    }
   ],
   "source": [
    "counter = 0\n",
    "while counter < 5:\n",
    "    counter += 1 # we add something to increment the counter\n",
    "    print(counter)"
   ]
  },
  {
   "cell_type": "markdown",
   "metadata": {
    "colab_type": "text",
    "id": "BvweiaquVNc7"
   },
   "source": [
    "### Beware of the Infinite While Loop\n",
    "\n",
    "<img src=\"https://media.giphy.com/media/MJ6SslGZEYKhG/giphy.gif\" width=600 height=600>\n",
    "\n",
    "<center>*\"While ground is uneven, roll downwards\"*</center>"
   ]
  },
  {
   "cell_type": "markdown",
   "metadata": {
    "colab_type": "text",
    "id": "xU_nOEoWVNc8"
   },
   "source": [
    "### If Statements\n",
    "\n",
    "We can also use `if` statements in while loops\n",
    "* also can use break & continue in the loop \n"
   ]
  },
  {
   "cell_type": "markdown",
   "metadata": {
    "colab_type": "text",
    "id": "GEDuFBjcVNc8"
   },
   "source": [
    "<img src=\"https://files.realpython.com/media/t.680f4db5c6a2.png\" width=300 height=300>\n"
   ]
  },
  {
   "cell_type": "markdown",
   "metadata": {
    "colab_type": "text",
    "id": "DVGUrUDdVNc9"
   },
   "source": [
    "#### Example of Break"
   ]
  },
  {
   "cell_type": "code",
   "execution_count": null,
   "metadata": {
    "colab": {},
    "colab_type": "code",
    "id": "YX6NSMGCVNc9",
    "outputId": "12e89026-e18c-4865-f2f6-739ac7cf1f48"
   },
   "outputs": [
    {
     "name": "stdout",
     "output_type": "stream",
     "text": [
      "1\n",
      "2\n",
      "End of Loop\n"
     ]
    }
   ],
   "source": [
    "counter = 0\n",
    "while counter < 5:\n",
    "    counter += 1\n",
    "    \n",
    "    if counter == 3:\n",
    "        break\n",
    "    print(counter)\n",
    "\n",
    "print('End of Loop')"
   ]
  },
  {
   "cell_type": "markdown",
   "metadata": {
    "colab_type": "text",
    "id": "ViBIax0jVNc_"
   },
   "source": [
    "#### Example of Continue"
   ]
  },
  {
   "cell_type": "code",
   "execution_count": null,
   "metadata": {
    "colab": {},
    "colab_type": "code",
    "id": "0rrITsOTVNdA",
    "outputId": "89e548f7-34ad-4b0f-84af-8d9c7b3c5f7a"
   },
   "outputs": [
    {
     "name": "stdout",
     "output_type": "stream",
     "text": [
      "1\n",
      "2\n",
      "4\n",
      "5\n",
      "End of Loop\n"
     ]
    }
   ],
   "source": [
    "counter = 0\n",
    "while counter < 5:\n",
    "    counter += 1\n",
    "    \n",
    "    if counter == 3:\n",
    "        continue\n",
    "    print(counter)\n",
    "    \n",
    "print('End of Loop')"
   ]
  },
  {
   "cell_type": "markdown",
   "metadata": {
    "colab_type": "text",
    "id": "Co2GZ6YlVNdC"
   },
   "source": [
    "#### Example of Pass"
   ]
  },
  {
   "cell_type": "code",
   "execution_count": 1,
   "metadata": {
    "colab": {},
    "colab_type": "code",
    "id": "AoYIo4ezVNdD",
    "outputId": "e7b7b61a-7a54-4243-8d45-96b0c8a05e0a"
   },
   "outputs": [
    {
     "name": "stdout",
     "output_type": "stream",
     "text": [
      "1\n",
      "2\n",
      "3\n",
      "4\n",
      "5\n",
      "End of Loop\n"
     ]
    }
   ],
   "source": [
    "counter = 0\n",
    "while counter < 5:\n",
    "    counter += 1\n",
    "    \n",
    "    if counter == 3:\n",
    "        pass\n",
    "    print(counter)\n",
    "\n",
    "print('End of Loop')"
   ]
  },
  {
   "cell_type": "markdown",
   "metadata": {
    "colab_type": "text",
    "id": "V6VyqvG0VNdF"
   },
   "source": [
    "All the examples we've done so far, even though iteration was not explicited stated, we still know how many iteration it will go through. Let's do an example where the number of iterations it will go through will be different every time."
   ]
  },
  {
   "cell_type": "code",
   "execution_count": null,
   "metadata": {
    "colab": {},
    "colab_type": "code",
    "id": "VaHUszyCVNdF"
   },
   "outputs": [],
   "source": [
    "import random"
   ]
  },
  {
   "cell_type": "code",
   "execution_count": 4,
   "metadata": {
    "colab": {},
    "colab_type": "code",
    "id": "SYaUq88hVNdH",
    "outputId": "edb32a38-53e6-48f6-85ec-ba0d2825d649"
   },
   "outputs": [
    {
     "name": "stdout",
     "output_type": "stream",
     "text": [
      "Counter: 1, Even Counter: 1, Number: 36\n",
      "Counter: 2, Even Counter: 2, Number: 48\n",
      "Counter: 3, Even Counter: 2, Number: 25\n",
      "Counter: 4, Even Counter: 3, Number: 12\n",
      "Counter: 5, Even Counter: 4, Number: 76\n",
      "Counter: 6, Even Counter: 5, Number: 74\n",
      "Counter: 7, Even Counter: 5, Number: 33\n",
      "Counter: 8, Even Counter: 6, Number: 18\n",
      "Counter: 9, Even Counter: 7, Number: 26\n",
      "Counter: 10, Even Counter: 8, Number: 70\n",
      "Counter: 11, Even Counter: 8, Number: 15\n",
      "Counter: 12, Even Counter: 8, Number: 19\n",
      "Counter: 13, Even Counter: 9, Number: 54\n",
      "Counter: 14, Even Counter: 9, Number: 67\n",
      "Counter: 15, Even Counter: 10, Number: 30\n"
     ]
    }
   ],
   "source": [
    "import random\n",
    "counter = 0\n",
    "even_counter = 0\n",
    "\n",
    "while even_counter < 10:\n",
    "    counter += 1\n",
    "    number = random.randint(1,101) # Randomly generate an integer between 1 & 101\n",
    "    \n",
    "    if number % 2 == 0: # If number is even\n",
    "        even_counter += 1\n",
    "    \n",
    "    print(f'Counter: {counter}, Even Counter: {even_counter}, Number: {number}')"
   ]
  },
  {
   "cell_type": "markdown",
   "metadata": {
    "colab_type": "text",
    "id": "PtVPZnyoVNdK"
   },
   "source": [
    "Notice the end Counter number is different every time."
   ]
  },
  {
   "cell_type": "markdown",
   "metadata": {
    "colab_type": "text",
    "id": "evOwXTWpSzrr"
   },
   "source": [
    "**Bonus Material - Nested List Comprehension!**\n",
    "The example below is meant to be informational in nature and will illustrate some of the more complex functionality we can use with nested lists and loops."
   ]
  },
  {
   "cell_type": "code",
   "execution_count": null,
   "metadata": {
    "colab": {},
    "colab_type": "code",
    "id": "lIkaa0LvSzrr"
   },
   "outputs": [],
   "source": [
    "# Here we have a nested list, or in other terms a 2d array/matrix. \n",
    "nested_lists = [[1,2,3],[4,5,6],[7,8,9]]"
   ]
  },
  {
   "cell_type": "markdown",
   "metadata": {
    "colab_type": "text",
    "id": "YUZvmctYSzrv"
   },
   "source": [
    "    [[1,2,3]\n",
    "     [4,5,6]    <--- so the first level you would loop through are the rows (each nested list). Lets call this our i variable \n",
    "     [7,8,9]]\n",
    "        ^\n",
    "        |\n",
    "        \n",
    "    The second level of the loop will be looping through each number in the list. Lets call this our j variable"
   ]
  },
  {
   "cell_type": "code",
   "execution_count": 6,
   "metadata": {
    "colab": {},
    "colab_type": "code",
    "id": "IA1GokGgSzrv",
    "outputId": "b7185861-25de-4871-cf94-56b521cdbb8b"
   },
   "outputs": [
    {
     "data": {
      "text/plain": [
       "[1, 2, 3, 4, 5, 6, 7, 8, 9]"
      ]
     },
     "execution_count": 6,
     "metadata": {},
     "output_type": "execute_result"
    }
   ],
   "source": [
    "# Lets flatten this list, (i.e. un-nest the lists)\n",
    "\n",
    "nested_lists = [[1,2,3],[4,5,6],[7,8,9]]\n",
    "\n",
    "new_list = []\n",
    "for i in nested_lists:\n",
    "    for j in i:\n",
    "        new_list.append(j)\n",
    "\n",
    "new_list"
   ]
  },
  {
   "cell_type": "code",
   "execution_count": 11,
   "metadata": {
    "colab": {},
    "colab_type": "code",
    "id": "IV3bcOnnSzry",
    "outputId": "9dae3d61-c4ed-4033-daf4-95b55b767317"
   },
   "outputs": [
    {
     "data": {
      "text/plain": [
       "[1, 2, 3, 4, 5, 6, 7, 8, 9]"
      ]
     },
     "execution_count": 11,
     "metadata": {},
     "output_type": "execute_result"
    }
   ],
   "source": [
    "# Doing this with list comprehension\n",
    "\n",
    "nested_lists = [[1,2,3],[4,5,6],[7,8,9]]\n",
    "\n",
    "[j for i in nested_lists for j in i]"
   ]
  },
  {
   "cell_type": "markdown",
   "metadata": {
    "colab_type": "text",
    "id": "5bqZyzNiaGoF"
   },
   "source": [
    "# Functions\n",
    "\n",
    "---\n",
    "\n",
    "\n",
    "Either using pseudocode (conceptual model of how the code would function) or actual python code, feel free to attempt these extra practice problems."
   ]
  },
  {
   "cell_type": "markdown",
   "metadata": {
    "colab_type": "text",
    "id": "T_1DlrTYbzT8"
   },
   "source": [
    "1. Define a list of words and create a function to find the shortest word. \n",
    "\n"
   ]
  },
  {
   "cell_type": "code",
   "execution_count": 20,
   "metadata": {
    "colab": {},
    "colab_type": "code",
    "id": "J6I_OwP_cXoS"
   },
   "outputs": [
    {
     "name": "stdout",
     "output_type": "stream",
     "text": [
      "['nam', 'bob']\n"
     ]
    }
   ],
   "source": [
    "# Write your answer here.\n",
    "def short_word(list):\n",
    "    length = len(list[0])\n",
    "    word_list = []\n",
    "    for word in list:\n",
    "        if (len(word) == length):\n",
    "            word_list.append(word)\n",
    "        elif (len(word) < length):\n",
    "            length=len(word)\n",
    "            word_list = [word]\n",
    "    return word_list\n",
    "\n",
    "name_list = ['simon', 'moses', 'harry', 'travis', 'nam', 'anna', 'katherine', 'david', 'janice', 'bob']\n",
    "\n",
    "print(short_word(name_list))"
   ]
  },
  {
   "cell_type": "markdown",
   "metadata": {
    "colab_type": "text",
    "id": "QMp9vwt0cXP2"
   },
   "source": [
    "2. Write a function which accepts a value n and prints the numbers from 1 to n.\n",
    " \n",
    "  For example, given the number 10, the function prints 1 2 3 4 5 6 7 8 9 10.\n",
    "\n"
   ]
  },
  {
   "cell_type": "code",
   "execution_count": 21,
   "metadata": {
    "colab": {},
    "colab_type": "code",
    "id": "f1K5I7tncf_i"
   },
   "outputs": [
    {
     "name": "stdout",
     "output_type": "stream",
     "text": [
      "1\n",
      "2\n",
      "3\n",
      "4\n",
      "5\n",
      "6\n",
      "7\n",
      "8\n",
      "9\n",
      "10\n"
     ]
    }
   ],
   "source": [
    "# Write your answer here.\n",
    "\n",
    "def count(n):\n",
    "    for i in range (1, n+1):\n",
    "        print(i)\n",
    "\n",
    "count(10)"
   ]
  },
  {
   "cell_type": "markdown",
   "metadata": {
    "colab_type": "text",
    "id": "HoVu8MMYccvP"
   },
   "source": [
    "3. Create a function that determines whether a number is Oddish or Evenish. A number is Oddish if the sum of all of its digits is odd, and a number is Evenish if the sum of all of its digits is even. If a function is Oddish, return \"Oddish\". Otherwise, return \"Evenish\".\n"
   ]
  },
  {
   "cell_type": "code",
   "execution_count": 27,
   "metadata": {
    "colab": {},
    "colab_type": "code",
    "id": "1qL5WTVwcj2W"
   },
   "outputs": [
    {
     "name": "stdout",
     "output_type": "stream",
     "text": [
      "Oddish\n"
     ]
    }
   ],
   "source": [
    "# Write your answer here.\n",
    "\n",
    "def ish(n):\n",
    "    s = 0\n",
    "    while n:\n",
    "        s += n % 10\n",
    "        n //= 10\n",
    "#         print(n)\n",
    "    if (s%2 == 0):\n",
    "        return \"Evenish\"\n",
    "    else:\n",
    "        return \"Oddish\"\n",
    "\n",
    "print(ish(542))\n",
    "    "
   ]
  },
  {
   "cell_type": "markdown",
   "metadata": {
    "colab_type": "text",
    "id": "9cIQdJmCcnpc"
   },
   "source": [
    "4. Write a function which accepts an integer for minutes and converts it to seconds.\n",
    " \n",
    "For example, given an integer 5 minutes, the function returns 300 (seconds)."
   ]
  },
  {
   "cell_type": "code",
   "execution_count": 30,
   "metadata": {
    "colab": {},
    "colab_type": "code",
    "id": "v_NQpjXVcrqR"
   },
   "outputs": [
    {
     "name": "stdout",
     "output_type": "stream",
     "text": [
      "5 minutes is 300 seconds\n",
      "30 minutes is 1800 seconds\n"
     ]
    }
   ],
   "source": [
    "# Write your answer here.\n",
    "\n",
    "def min_sec(min):\n",
    "    sec = min*60\n",
    "    return f\"{min} minutes is {sec} seconds\"\n",
    "\n",
    "print (min_sec(5))\n",
    "print (min_sec(30))"
   ]
  },
  {
   "cell_type": "markdown",
   "metadata": {
    "colab_type": "text",
    "id": "Rngve-58ctUQ"
   },
   "source": [
    "**Bonus Question**\n",
    "You are given a 2D list. The task is to find the sum of minimum values from each row:\n",
    "Example: \t\n",
    "\t\t[\n",
    "\t\t   [1, 2, 3, 4, 5],\t\t\t# min value is 1\n",
    "\t\t   [5, 6, 7, 8, 9],\t\t# min value is 5\n",
    "\t\t   [20, 21, 34, 56, 100]\t\t# min value is 20\n",
    "\t\t]\n",
    " \n",
    "The function should return 26 (1+5+20=26)"
   ]
  },
  {
   "cell_type": "code",
   "execution_count": 32,
   "metadata": {
    "colab": {},
    "colab_type": "code",
    "id": "c51-iV_NcvfV"
   },
   "outputs": [
    {
     "name": "stdout",
     "output_type": "stream",
     "text": [
      "26\n"
     ]
    }
   ],
   "source": [
    "# Write your answer here.\n",
    "\n",
    "def min_sum(twoD_list):\n",
    "    total = 0\n",
    "    for list in twoD_list:\n",
    "        min = list[0]\n",
    "        for i in list:\n",
    "            if i < min:\n",
    "                min = i\n",
    "        total += min\n",
    "    return total\n",
    "\n",
    "example = [ [1, 2, 3, 4, 5], [5, 6, 7, 8, 9], [20, 21, 34, 56, 100] ]\n",
    "\n",
    "print(min_sum(example))"
   ]
  },
  {
   "cell_type": "markdown",
   "metadata": {
    "colab_type": "text",
    "id": "EtLLDU-psWCr"
   },
   "source": [
    "<div id=\"container\" style=\"position:relative;\">\n",
    "    <div style=\"position:relative; float:right\"><img style=\"height:25px\"\"width: 50px\" src =\"https://drive.google.com/uc?export=view&id=14VoXUJftgptWtdNhtNYVm6cjVmEWpki1\" />\n",
    "    </div>\n",
    "</div>"
   ]
  }
 ],
 "metadata": {
  "colab": {
   "collapsed_sections": [],
   "name": "Extra Practice: Loops & Functions.ipynb",
   "provenance": []
  },
  "kernelspec": {
   "display_name": "Python 3",
   "language": "python",
   "name": "python3"
  },
  "language_info": {
   "codemirror_mode": {
    "name": "ipython",
    "version": 3
   },
   "file_extension": ".py",
   "mimetype": "text/x-python",
   "name": "python",
   "nbconvert_exporter": "python",
   "pygments_lexer": "ipython3",
   "version": "3.8.5"
  }
 },
 "nbformat": 4,
 "nbformat_minor": 1
}
