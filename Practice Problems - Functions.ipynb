{
 "cells": [
  {
   "cell_type": "markdown",
   "metadata": {},
   "source": [
    "<div style='display: flex; justify-content: space-between; align-items: center; width: 100%; height: 100%;'>\n",
    "    <div style=\"width: 100%;\"><h3> Python For Data Science </h3></div>\n",
    "    <div>\n",
    "        <img style=\"height:65px; min-width: 255px; max-width: 355px;\" src =\"https://drive.google.com/uc?export=view&id=1EnB0x-fdqMp6I5iMoEBBEuxB_s7AmE2k\" />\n",
    "    </div>\n",
    "</div>"
   ]
  },
  {
   "cell_type": "markdown",
   "metadata": {},
   "source": [
    "# Practice Problems: Functions"
   ]
  },
  {
   "cell_type": "markdown",
   "metadata": {},
   "source": [
    "1. Define a function called `yell` that takes in a string and returns a new string that is capitalized and ends in an exclamation mark.\n",
    "\n",
    "    Example:\n",
    "    ```py\n",
    "   test_1 = yell(\"hello world\")\n",
    "   print(test_1)\n",
    "   # \"HELLO WORLD!\"\n",
    "    ```"
   ]
  },
  {
   "cell_type": "code",
   "execution_count": 6,
   "metadata": {},
   "outputs": [
    {
     "name": "stdout",
     "output_type": "stream",
     "text": [
      "HELLO WORLD!\n"
     ]
    }
   ],
   "source": [
    "def yell(string):\n",
    "    return string.upper() + \"!\"\n",
    "\n",
    "test_1 = yell(\"hello world\")\n",
    "print(test_1)"
   ]
  },
  {
   "cell_type": "markdown",
   "metadata": {},
   "source": [
    "2. Define a function called `is_prime` that takes a single number as a parameter and returns a boolean value representing if that number is prime or not. If you completed the practice problems for `while` loops, you already have the algorithm you need.\n",
    "\n",
    "    Example:\n",
    "    ```py\n",
    "   test_1 = is_prime(29)\n",
    "   print(test_1)\n",
    "   # True\n",
    "    ```"
   ]
  },
  {
   "cell_type": "code",
   "execution_count": 7,
   "metadata": {},
   "outputs": [
    {
     "name": "stdout",
     "output_type": "stream",
     "text": [
      "31 is a prime number\n",
      "29 is a prime number\n",
      "25 is not a prime number. It is divisible by 5\n"
     ]
    }
   ],
   "source": [
    "def is_prime(p):\n",
    "    i = p-1\n",
    "\n",
    "    while i > 0:\n",
    "        if i == 1:\n",
    "            return (f\"{p} is a prime number\")\n",
    "        elif(p%i == 0):\n",
    "            return (f\"{p} is not a prime number. It is divisible by {i}\")\n",
    "        i-=1\n",
    "        \n",
    "print(is_prime(31))\n",
    "print(is_prime(29))\n",
    "print(is_prime(25))"
   ]
  },
  {
   "cell_type": "markdown",
   "metadata": {},
   "source": [
    "3. Define a function called `is_palindrome` that takes a string, and returns True if the string is a palindrome. A palindrome is a string of characters that can be read forward and backward with no change to the meaning.\n",
    "\n",
    "    Example:\n",
    "    ```py\n",
    "   test_1 = is_palindrome(\"racecar\")\n",
    "   print(test_1)\n",
    "    # True\n",
    "    \n",
    "   test_2 = is_palindrome(\"hello world\")\n",
    "   print(test_2)\n",
    "   # False\n",
    "    ```"
   ]
  },
  {
   "cell_type": "code",
   "execution_count": 17,
   "metadata": {},
   "outputs": [
    {
     "name": "stdout",
     "output_type": "stream",
     "text": [
      "simon is not a palindrome.\n",
      "racecar is a palindrome.\n",
      "anna is a palindrome.\n"
     ]
    }
   ],
   "source": [
    "def is_palindrome(word):\n",
    "    for i in range(int(len(word)/2)):\n",
    "        if (word[0+i] != word[len(word)-1-i]):\n",
    "            return word + \" is not a palindrome.\"\n",
    "    return word + \" is a palindrome.\"\n",
    "\n",
    "print(is_palindrome(\"simon\"))\n",
    "print(is_palindrome(\"racecar\"))\n",
    "print(is_palindrome(\"anna\"))"
   ]
  },
  {
   "cell_type": "markdown",
   "metadata": {},
   "source": [
    "4. Define a function called `fill_zero` that takes in two parameters: a list, and a number, `n`. The function will not return any value, but will modify the list so that the list is at least `n` items long. If the list is less than `n` in length, then the function will append zeroes until it is `n` elements long.\n",
    "\n",
    "    Example:\n",
    "    ```py\n",
    "   L1 = [5, 1, 3]\n",
    "   fill_zero(L1, 5)\n",
    "   # result of L1 is [5, 1, 3, 0, 0]\n",
    "    \n",
    "   L2 = []\n",
    "   fill_zero(L2, 6)\n",
    "   # result of L2 is [0, 0, 0, 0, 0, 0]\n",
    "    ```"
   ]
  },
  {
   "cell_type": "code",
   "execution_count": 18,
   "metadata": {},
   "outputs": [
    {
     "name": "stdout",
     "output_type": "stream",
     "text": [
      "[5, 1, 3, 0, 0]\n",
      "[0, 0, 0, 0, 0, 0]\n",
      "[1, 2, 3]\n"
     ]
    }
   ],
   "source": [
    "def fill_zero(list, n):\n",
    "    if (len(list) < n):\n",
    "        for i in range(n-len(list)):\n",
    "            list.append(0)\n",
    "    return list\n",
    "\n",
    "\n",
    "L1 = [5, 1, 3]\n",
    "print(fill_zero(L1, 5))\n",
    "\n",
    "L2 = []\n",
    "print(fill_zero(L2, 6))\n",
    "\n",
    "print (fill_zero([1, 2, 3], 2))"
   ]
  },
  {
   "cell_type": "markdown",
   "metadata": {},
   "source": [
    "<div id=\"container\" style=\"position:relative;\">\n",
    "    <div style=\"position:relative; float:right\"><img style=\"height:25px\"\"width: 50px\" src =\"https://drive.google.com/uc?export=view&id=14VoXUJftgptWtdNhtNYVm6cjVmEWpki1\" />\n",
    "    </div>\n",
    "</div>"
   ]
  }
 ],
 "metadata": {
  "kernelspec": {
   "display_name": "Python 3",
   "language": "python",
   "name": "python3"
  },
  "language_info": {
   "codemirror_mode": {
    "name": "ipython",
    "version": 3
   },
   "file_extension": ".py",
   "mimetype": "text/x-python",
   "name": "python",
   "nbconvert_exporter": "python",
   "pygments_lexer": "ipython3",
   "version": "3.8.5"
  }
 },
 "nbformat": 4,
 "nbformat_minor": 2
}
