{
 "cells": [
  {
   "cell_type": "markdown",
   "metadata": {
    "colab_type": "text",
    "id": "EZQPp8lGvSMM"
   },
   "source": [
    "### Python For Data Science \n",
    "<img style = \"position:absolute; TOP:0px; LEFT:840px; WIDTH:250px; HEIGHT:65px\"  src =\"https://drive.google.com/uc?export=view&id=1EnB0x-fdqMp6I5iMoEBBEuxB_s7AmE2k\" />"
   ]
  },
  {
   "cell_type": "markdown",
   "metadata": {
    "colab_type": "text",
    "id": "tNOYCPqMvSMP"
   },
   "source": [
    "# Unit 4: Data Manipulation \n",
    "## In This Lesson You Will...\n",
    "- Sort and filter a list of objects\n",
    "- Open and read files from disk\n",
    "- Parse data from files into native Python data types\n",
    "- Compute properties of imported data"
   ]
  },
  {
   "cell_type": "markdown",
   "metadata": {
    "colab_type": "text",
    "id": "DN1EC_J0vSMQ"
   },
   "source": [
    "## File Input & Output\n",
    "\n",
    "File input and output are essential tools to know when operating Python for data science.\n",
    "Python's built in functions allow for data import to happen with ease. \n",
    "\n",
    "Let's first explore the _open_ function in Python. When we call the open function on a specific file, we need to save the returned value to a variable. This variable will hold a **file object** that contains information about the file and  methods to read/write to the file.\n",
    "\n",
    "To use the _open_ function correctly, we must provide the function a file path and the mode we want our file to open in. The general syntax is as followed:\n",
    "\n",
    "```py\n",
    "file_object = open(\"file path\", \"mode\")\n",
    "```\n",
    "\n",
    ">Note: If the file does not exist when calling the open function, it will generate a new file with that name for you. \n",
    "\n",
    "#### Modes\n",
    "<div style=\"float:left\">\n",
    "    <img src='https://drive.google.com/uc?view=export&id=1MhI3IowP9BRKL0LEwsDr_qA6u9w3H2P2' />\n",
    "</div>"
   ]
  },
  {
   "cell_type": "markdown",
   "metadata": {
    "colab_type": "text",
    "id": "p_zeRiwQvSMS"
   },
   "source": [
    "### Using the Open Function\n",
    "\n",
    "Run the cell below to generate a text file called \"hey_brainstation.txt\"."
   ]
  },
  {
   "cell_type": "code",
   "execution_count": null,
   "metadata": {
    "colab": {},
    "colab_type": "code",
    "id": "kiNhdbZcvSMT"
   },
   "outputs": [],
   "source": [
    "#here we are generating and opening a file in write mode\n",
    "file = open(\"hey_brainstation.txt\",\"w\")"
   ]
  },
  {
   "cell_type": "code",
   "execution_count": null,
   "metadata": {},
   "outputs": [],
   "source": []
  },
  {
   "cell_type": "markdown",
   "metadata": {
    "colab_type": "text",
    "id": "-VFgOdcqvSMX"
   },
   "source": [
    "### Writing to a File\n",
    "\n",
    "To add content to a file, we can simply use the .write() method and pass in the content you want to add. Run the cell below to add text to our 'hey_brainstation.txt' file."
   ]
  },
  {
   "cell_type": "code",
   "execution_count": null,
   "metadata": {
    "colab": {},
    "colab_type": "code",
    "id": "dXlBQEt_vSMY"
   },
   "outputs": [],
   "source": [
    "#now let's explore writing some lines into the file\n",
    "file.write(\"Welcome to BrainStation's \")\n",
    "file.write(\"Python for Data Science \")\n",
    "file.write(\"Training Course!\")\n",
    "file.close()"
   ]
  },
  {
   "cell_type": "markdown",
   "metadata": {
    "colab_type": "text",
    "id": "vMtypLJVvSMb"
   },
   "source": [
    "When opening our 'hey_brainstation.txt', you can see that each .write() invocation did not write to an individual line. Instead, each set of string characters was appended to the previous string. If we wanted to have each `write` appear on a new line, we will need to specify the new-line character `\\n` at the point where we want our string to appear on a new line. \n",
    "\n",
    "Using our example above, let's add 'Today you will learn:' on a new line. We will need to use the `'a'` mode when opening the file to accomplish this. If we used the `'w'` mode, we will overwrite the original content."
   ]
  },
  {
   "cell_type": "code",
   "execution_count": null,
   "metadata": {
    "colab": {},
    "colab_type": "code",
    "id": "Ez_K1V8WvSMc"
   },
   "outputs": [],
   "source": [
    "file = open(\"hey_brainstation.txt\",\"a\")\n",
    "file.write('\\nToday you will learn:')\n",
    "file.close()"
   ]
  },
  {
   "cell_type": "markdown",
   "metadata": {
    "colab_type": "text",
    "id": "FBA0V6QivSMg"
   },
   "source": [
    "### Close Function\n",
    "\n",
    "You may have noticed the close function being called at the end of the code block above. It is best practice to always close your file once you have finished using it. When calling the open function, it does not automatically close the opened file at the end of a code block. If the file is not closed, you run the risk of slowing your program thus making your code less efficient.\n",
    "\n",
    "### Methods to Reading File Content\n",
    "\n",
    "#### Read Method\n",
    "Using the .read() method, all contents of a file is returns as one string. If you pass our read method a number parameter, it will return the `nth` amount of string characters. It is important to note that a space is considered a character. "
   ]
  },
  {
   "cell_type": "code",
   "execution_count": null,
   "metadata": {
    "colab": {},
    "colab_type": "code",
    "id": "DNnSUyXbvSMg",
    "outputId": "9a8cc305-1409-48d9-873d-e8fcd066760d"
   },
   "outputs": [
    {
     "name": "stdout",
     "output_type": "stream",
     "text": [
      "Welcome to BrainStation's Python for Data Science Training Course!\n",
      "Today you will learn:\n"
     ]
    }
   ],
   "source": [
    "# All Content\n",
    "file = open(\"hey_brainstation.txt\",\"r\")\n",
    "print(file.read())\n",
    "file.close()"
   ]
  },
  {
   "cell_type": "code",
   "execution_count": null,
   "metadata": {
    "colab": {},
    "colab_type": "code",
    "id": "bmMKPTkmvSMl",
    "outputId": "9d5701a4-9775-4e13-b3f3-76faae703f41"
   },
   "outputs": [
    {
     "name": "stdout",
     "output_type": "stream",
     "text": [
      "Welcome\n"
     ]
    }
   ],
   "source": [
    "# Speccific Number of Characters\n",
    "file = open(\"hey_brainstation.txt\",\"r\")\n",
    "print(file.read(7))\n",
    "file.close()"
   ]
  },
  {
   "cell_type": "markdown",
   "metadata": {
    "colab_type": "text",
    "id": "rWrPNg43vSM0"
   },
   "source": [
    "#### Readlines Method\n",
    "Using **.readlines(  )** will output a list of each line in our file. Each time our file contains a new-line or `\\n` character, it is added to the list."
   ]
  },
  {
   "cell_type": "code",
   "execution_count": null,
   "metadata": {
    "colab": {},
    "colab_type": "code",
    "id": "-FBzVqU7vSM0",
    "outputId": "c17c930c-d17a-4980-80e5-834bbddb3d69"
   },
   "outputs": [
    {
     "name": "stdout",
     "output_type": "stream",
     "text": [
      "[\"Welcome to BrainStation's Python for Data Science Training Course!\\n\", 'Today you will learn:']\n"
     ]
    }
   ],
   "source": [
    "#readlines\n",
    "file = open(\"hey_brainstation.txt\",\"r\")\n",
    "print(file.readlines())\n",
    "file.close()"
   ]
  },
  {
   "cell_type": "markdown",
   "metadata": {
    "colab_type": "text",
    "id": "hKxi5WdXvSM3"
   },
   "source": [
    "#### Readline Method\n",
    "Using **readline( )** will provide a string with the next line of the file with all text up to and including the newline character. "
   ]
  },
  {
   "cell_type": "code",
   "execution_count": null,
   "metadata": {
    "colab": {},
    "colab_type": "code",
    "id": "rt76P76DvSM5",
    "outputId": "8eb8becf-e501-402c-95e5-519dfea40bbf"
   },
   "outputs": [
    {
     "name": "stdout",
     "output_type": "stream",
     "text": [
      "Welcome to BrainStation's Python for Data Science Training Course!\n",
      "\n"
     ]
    }
   ],
   "source": [
    "#readline\n",
    "file = open(\"hey_brainstation.txt\",\"r\")\n",
    "print(file.readline())\n",
    "file.close()"
   ]
  },
  {
   "cell_type": "markdown",
   "metadata": {
    "colab_type": "text",
    "id": "0qbexMpPvSNL"
   },
   "source": [
    "### Splitting Lines \n",
    "\n",
    "The **.split() method** allows you to choose the character you want to separate a string by. The returned output of calling the .split() method is a list of strings segmented at the position the passed character was located at. If a character is not passed in, the string will be split at every space character. "
   ]
  },
  {
   "cell_type": "code",
   "execution_count": null,
   "metadata": {
    "colab": {},
    "colab_type": "code",
    "id": "jt8q5_NRvSNM",
    "outputId": "d3839ffa-0385-4356-84cc-f8454a9955a5"
   },
   "outputs": [
    {
     "name": "stdout",
     "output_type": "stream",
     "text": [
      "['Welcome', 'to', \"BrainStation's\", 'Python', 'for', 'Data', 'Science', 'Training', 'Course!', 'Today', 'you', 'will', 'learn:']\n"
     ]
    }
   ],
   "source": [
    "file = open(\"hey_brainstation.txt\", \"r\")\n",
    "content = file.read()\n",
    "print(content.split())\n",
    "file.close()"
   ]
  },
  {
   "cell_type": "markdown",
   "metadata": {
    "colab_type": "text",
    "id": "oS9SNoR2vSNQ"
   },
   "source": [
    "Let's look at the output if you decide to split at every 'a' character."
   ]
  },
  {
   "cell_type": "code",
   "execution_count": null,
   "metadata": {
    "colab": {},
    "colab_type": "code",
    "id": "pRCcmgJkvSNR",
    "outputId": "180c1b32-092d-43ec-e7d9-5fcf45f67633"
   },
   "outputs": [
    {
     "name": "stdout",
     "output_type": "stream",
     "text": [
      "['Welcome to Br', 'inSt', \"tion's Python for D\", 't', ' Science Tr', 'ining Course!\\nTod', 'y you will le', 'rn:']\n"
     ]
    }
   ],
   "source": [
    "file = open('hey_brainstation.txt')\n",
    "content = file.read()\n",
    "split_content = content.split('a')\n",
    "print(split_content)"
   ]
  },
  {
   "cell_type": "markdown",
   "metadata": {
    "colab_type": "text",
    "id": "HlC0b5D9vSNV"
   },
   "source": [
    "You may have noticed that the 'a' character is no longer in our segmented strings. You can think of the split method as a function that replaces the specified character with a comma and returns a list. If we wanted to take each string a put it back together, we can use the .join() method and pass in the character you want to join each string with. In our most recent example above, we want to join our strings with the 'a' character."
   ]
  },
  {
   "cell_type": "code",
   "execution_count": null,
   "metadata": {
    "colab": {},
    "colab_type": "code",
    "id": "0Ewzcqa6vSNW",
    "outputId": "e8d87323-32e4-4965-da9d-6d40c7f092cb"
   },
   "outputs": [
    {
     "name": "stdout",
     "output_type": "stream",
     "text": [
      "Welcome to BrainStation's Python for Data Science Training Course!\n",
      "Today you will learn:\n"
     ]
    }
   ],
   "source": [
    "print('a'.join(split_content))\n",
    "file.close()"
   ]
  },
  {
   "cell_type": "markdown",
   "metadata": {
    "colab_type": "text",
    "id": "5XxeUpw-vSNb"
   },
   "source": [
    "## Activity File Input & Output\n",
    "\n",
    "You are provided a secret message encoded in a format that humans can't read. The secret message is stored inside a file called `secret.txt` (download [here](https://drive.google.com/open?id=1Mu0ThgTUXhp2B7DFzLlrGIfAmh78BydD)). Using Python's `open` function and the resulting file object, read the contents of the file and use the provided `decode` function to decode the secret message. `decode` returns a string, so you will have to print it yourself."
   ]
  },
  {
   "cell_type": "code",
   "execution_count": null,
   "metadata": {
    "colab": {},
    "colab_type": "code",
    "id": "vCIxgAFtvSNc"
   },
   "outputs": [],
   "source": [
    "def decode(message):\n",
    "    import base64\n",
    "    return base64.b64decode(message)"
   ]
  },
  {
   "cell_type": "code",
   "execution_count": null,
   "metadata": {
    "colab": {},
    "colab_type": "code",
    "id": "idVbrf3qvSNq",
    "outputId": "621e9d38-011b-45ec-e854-cacf71760784",
    "scrolled": false
   },
   "outputs": [
    {
     "data": {
      "text/plain": [
       "b\"You'll eat more than 35,000 cookies in your lifetime (hopefully).\""
      ]
     },
     "execution_count": 87,
     "metadata": {
      "tags": []
     },
     "output_type": "execute_result"
    }
   ],
   "source": [
    "secret = open(\"Data/secret.txt\", \"r\")\n",
    "message = secret.read()\n",
    "decode(message)"
   ]
  },
  {
   "cell_type": "markdown",
   "metadata": {
    "colab_type": "text",
    "id": "k9_5sAPNvSNu"
   },
   "source": [
    "### Sorted Method\n",
    "\n",
    "There may come a time when you need to sort a piece of data, the .sorted() method gives us the ability to sort a collection of orderable elements. A list is considered to be an orderable data type while a dictionary is considered to be unorderable. The .sorted() method will take a list, arrange it according to the specified criteria and return a new list instance leaving the original unchanged."
   ]
  },
  {
   "cell_type": "code",
   "execution_count": null,
   "metadata": {
    "colab": {},
    "colab_type": "code",
    "id": "BVjtg4YnvSNu",
    "outputId": "e7108e3e-839a-425b-ec4b-0b25535b50de"
   },
   "outputs": [
    {
     "name": "stdout",
     "output_type": "stream",
     "text": [
      "Sorted: [1, 2, 3, 4, 5]\n",
      "Original: [5, 2, 3, 1, 4]\n",
      "Sorted: ['Alex', 'Amy', 'Bob', 'Phil']\n",
      "Original: ['Bob', 'Amy', 'Phil', 'Alex']\n"
     ]
    }
   ],
   "source": [
    "nums = [5, 2, 3, 1, 4]\n",
    "result = sorted(nums)\n",
    "\n",
    "print(\"Sorted:\", result)\n",
    "print(\"Original:\",nums)\n",
    "\n",
    "names = [\"Bob\", \"Amy\", \"Phil\", \"Alex\"]\n",
    "result2 = sorted(names)\n",
    "\n",
    "print(\"Sorted:\", result2)\n",
    "print(\"Original:\", names)"
   ]
  },
  {
   "cell_type": "markdown",
   "metadata": {
    "colab_type": "text",
    "id": "jmalEIlXvSNy"
   },
   "source": [
    "##### Advanced Sorting\n",
    "\n",
    "The sorted method has two parameters that can be used to facilitate more advanced sorting based on predetermined criteria. \n",
    "\n",
    "**key** parameter: The key parameter needs to be passed a function to return a comparison key for each element.\n",
    "\n",
    "**reverse** parameter: Sort in reverse order (to control ascending vs descending)\n",
    "\n",
    "```py\n",
    "sorted(data, key=function, reverse=boolean)\n",
    "```"
   ]
  },
  {
   "cell_type": "code",
   "execution_count": null,
   "metadata": {
    "colab": {},
    "colab_type": "code",
    "id": "Fsv04GD6vSNy",
    "outputId": "31e073fc-8a2c-4e84-edd5-b3365080f82d"
   },
   "outputs": [
    {
     "name": "stdout",
     "output_type": "stream",
     "text": [
      "['Jen', 'Pat', 'Phil', 'Frank']\n",
      "['Frank', 'Phil', 'Jen', 'Pat']\n"
     ]
    }
   ],
   "source": [
    "names = [\"Frank\", \"Jen\", \"Phil\", \"Pat\"]\n",
    "\n",
    "# sort names list based on the length of each name\n",
    "sorted_names_by_length = sorted(names, key=len)\n",
    "print(sorted_names_by_length)\n",
    "\n",
    "sorted_names_by_length_descending = sorted(names, key=len, reverse=True)\n",
    "print(sorted_names_by_length_descending)"
   ]
  },
  {
   "cell_type": "markdown",
   "metadata": {
    "colab_type": "text",
    "id": "XmpAWhLfvSN1"
   },
   "source": [
    "## NumPy and Pandas\n",
    "\n",
    "Pandas and NumPy are two very useful Python libraries commonly used in Data Science and Data Analytics.\n",
    "\n",
    "Typically, they are imported as pd and np respectively.\n",
    "\n",
    "```py\n",
    "import pandas as pd\n",
    "import numpy as np\n",
    "```"
   ]
  },
  {
   "cell_type": "markdown",
   "metadata": {
    "colab_type": "text",
    "id": "FMiKz5B0vSN2"
   },
   "source": [
    "### Pandas\n",
    "\n",
    "Pandas is a great tool for taking a csv file or SQL database to create an object with rows and columns. This is known as a **DataFrame**. Think of a DataFrame to be similar to an excel spreadsheet or table. We can create a DataFrame from our own dataset or from importing a csv file.\n",
    "\n",
    "First, let's create a DataFrame from our own dataset.\n",
    "\n",
    "#### Create DataFrame from Own Dataset"
   ]
  },
  {
   "cell_type": "code",
   "execution_count": 2,
   "metadata": {
    "colab": {
     "base_uri": "https://localhost:8080/",
     "height": 204
    },
    "colab_type": "code",
    "executionInfo": {
     "elapsed": 506,
     "status": "ok",
     "timestamp": 1592405865743,
     "user": {
      "displayName": "Armani Bhatti",
      "photoUrl": "https://lh3.googleusercontent.com/a-/AOh14GhbNaKFBQsXNqk_cFN7KJBW1xSXme3ri_FBG4VPZg=s64",
      "userId": "10010754036934906769"
     },
     "user_tz": 240
    },
    "id": "vq0w1MsiyGME",
    "outputId": "bce4dece-1ac3-42ce-8adf-d8e9f315fdbf"
   },
   "outputs": [
    {
     "data": {
      "text/html": [
       "<div>\n",
       "<style scoped>\n",
       "    .dataframe tbody tr th:only-of-type {\n",
       "        vertical-align: middle;\n",
       "    }\n",
       "\n",
       "    .dataframe tbody tr th {\n",
       "        vertical-align: top;\n",
       "    }\n",
       "\n",
       "    .dataframe thead th {\n",
       "        text-align: right;\n",
       "    }\n",
       "</style>\n",
       "<table border=\"1\" class=\"dataframe\">\n",
       "  <thead>\n",
       "    <tr style=\"text-align: right;\">\n",
       "      <th></th>\n",
       "      <th>first_name</th>\n",
       "      <th>last_name</th>\n",
       "      <th>age</th>\n",
       "      <th>TestScore1</th>\n",
       "      <th>TestScore2</th>\n",
       "    </tr>\n",
       "  </thead>\n",
       "  <tbody>\n",
       "    <tr>\n",
       "      <th>0</th>\n",
       "      <td>Dave</td>\n",
       "      <td>Stevens</td>\n",
       "      <td>42</td>\n",
       "      <td>92</td>\n",
       "      <td>99</td>\n",
       "    </tr>\n",
       "    <tr>\n",
       "      <th>1</th>\n",
       "      <td>Tamara</td>\n",
       "      <td>Jacobson</td>\n",
       "      <td>52</td>\n",
       "      <td>44</td>\n",
       "      <td>64</td>\n",
       "    </tr>\n",
       "    <tr>\n",
       "      <th>2</th>\n",
       "      <td>Ashley</td>\n",
       "      <td>Davis</td>\n",
       "      <td>36</td>\n",
       "      <td>67</td>\n",
       "      <td>72</td>\n",
       "    </tr>\n",
       "    <tr>\n",
       "      <th>3</th>\n",
       "      <td>Arvin</td>\n",
       "      <td>Miller</td>\n",
       "      <td>24</td>\n",
       "      <td>75</td>\n",
       "      <td>75</td>\n",
       "    </tr>\n",
       "    <tr>\n",
       "      <th>4</th>\n",
       "      <td>Emma</td>\n",
       "      <td>Cook</td>\n",
       "      <td>73</td>\n",
       "      <td>83</td>\n",
       "      <td>85</td>\n",
       "    </tr>\n",
       "  </tbody>\n",
       "</table>\n",
       "</div>"
      ],
      "text/plain": [
       "  first_name last_name  age  TestScore1  TestScore2\n",
       "0       Dave   Stevens   42          92          99\n",
       "1     Tamara  Jacobson   52          44          64\n",
       "2     Ashley     Davis   36          67          72\n",
       "3      Arvin    Miller   24          75          75\n",
       "4       Emma      Cook   73          83          85"
      ]
     },
     "execution_count": 2,
     "metadata": {
      "tags": []
     },
     "output_type": "execute_result"
    }
   ],
   "source": [
    "import pandas as pd\n",
    "import numpy as np\n",
    "\n",
    "raw_data = {\n",
    "    'first_name': ['Dave', 'Tamara', 'Ashley', 'Arvin', 'Emma'],\n",
    "    'last_name': ['Stevens', 'Jacobson', 'Davis', 'Miller', 'Cook'],\n",
    "    'age': [42, 52, 36, 24, 73],\n",
    "    'TestScore1': [92, 44, 67,75, 83],\n",
    "    'TestScore2': [99, 64, 72, 75, 85]\n",
    "}\n",
    "test_scores = pd.DataFrame(raw_data, columns = ['first_name', 'last_name', 'age', 'TestScore1', 'TestScore2'])\n",
    "test_scores"
   ]
  },
  {
   "cell_type": "markdown",
   "metadata": {
    "colab_type": "text",
    "id": "IM0ge_havSOA"
   },
   "source": [
    "#### Create DataFrame from Imported CSV File\n",
    "\n",
    "Use the .read_csv() method and pass in the file path to our csv file.\n",
    "\n",
    "```py\n",
    "import pandas as pd\n",
    "df = pd.read_csv('file-path.csv')\n",
    "```\n",
    "\n",
    "Note: df is the variable that will hold/represent our DataFrame. \n",
    "\n",
    "#### Pandas: Indexing\n",
    "\n",
    "Indexing is used to read and modify our DataFrame. We can index by doing the following:\n",
    "- Basic Indexing: ```py dataframe[column-name]```\n",
    "- Index by Label: ```py dataframe.loc[row, column]```\n",
    "- Index by Integer: ```py dataframe.iloc[row, column]``` "
   ]
  },
  {
   "cell_type": "code",
   "execution_count": null,
   "metadata": {
    "colab": {},
    "colab_type": "code",
    "id": "HaqFruX7vSOB",
    "outputId": "d368f21e-5038-475a-b8c0-348add4f470c"
   },
   "outputs": [
    {
     "name": "stdout",
     "output_type": "stream",
     "text": [
      "List of Student Names\n",
      "0      Dave\n",
      "1    Tamara\n",
      "2    Ashley\n",
      "3     Arvin\n",
      "4      Emma\n",
      "Name: first_name, dtype: object\n",
      "Increased Test Score by 2\n",
      "0    94\n",
      "1    46\n",
      "2    69\n",
      "3    77\n",
      "4    85\n",
      "Name: TestScore1, dtype: int64\n",
      "First Student Data\n",
      "first_name       Dave\n",
      "last_name     Stevens\n",
      "age                42\n",
      "TestScore1         94\n",
      "TestScore2         99\n",
      "Name: 0, dtype: object\n"
     ]
    }
   ],
   "source": [
    "# Basic\n",
    "print(\"List of Student Names\")\n",
    "first_names = test_scores['first_name']\n",
    "print(first_names)\n",
    "\n",
    "print(\"Increased Test Score by 2\")\n",
    "test_scores['TestScore1'] += 2\n",
    "print(test_scores['TestScore1'])\n",
    "\n",
    "# Access First Student will Index by Integer\n",
    "first_student = test_scores.iloc[0]\n",
    "print(\"First Student Data\")\n",
    "print(first_student)"
   ]
  },
  {
   "cell_type": "markdown",
   "metadata": {
    "colab_type": "text",
    "id": "p_QIkK3AvSOJ"
   },
   "source": [
    "#### Pandas: Advanced Indexing with Slicing\n",
    "\n",
    "Slicing gives us access to a subset of data in our DataFrame. The overall syntax for slicing is very simple but can be very powerful especially for cases where we want to:\n",
    "- keep the first and last rows\n",
    "- keep every nth row\n",
    "- access a section of data\n",
    "\n",
    "The general syntax is as follows:\n",
    "```py\n",
    "dataframe[begin:end:step]\n",
    "dataframe.loc[row_begin:row_end:row_step, col_begin:col_end:col_step]\n",
    "dataframe.iloc[row_begin:row_end:row_step, col_begin:col_end:col_step]\n",
    "\n",
    "```\n",
    "\n",
    "<img src='https://drive.google.com/uc?view=export&id=1mV4QAv21ID_9lLX86xqm7z_ndaSa1yhQ' />\n",
    "\n",
    "Let's do some slicing on our test_scores DataFrame"
   ]
  },
  {
   "cell_type": "code",
   "execution_count": null,
   "metadata": {
    "colab": {},
    "colab_type": "code",
    "id": "wDER7ygTvSOJ",
    "outputId": "5a015005-4c46-463f-c2b4-634f658e60c7"
   },
   "outputs": [
    {
     "data": {
      "text/html": [
       "<div>\n",
       "<style scoped>\n",
       "    .dataframe tbody tr th:only-of-type {\n",
       "        vertical-align: middle;\n",
       "    }\n",
       "\n",
       "    .dataframe tbody tr th {\n",
       "        vertical-align: top;\n",
       "    }\n",
       "\n",
       "    .dataframe thead th {\n",
       "        text-align: right;\n",
       "    }\n",
       "</style>\n",
       "<table border=\"1\" class=\"dataframe\">\n",
       "  <thead>\n",
       "    <tr style=\"text-align: right;\">\n",
       "      <th></th>\n",
       "      <th>first_name</th>\n",
       "      <th>last_name</th>\n",
       "      <th>age</th>\n",
       "      <th>TestScore1</th>\n",
       "      <th>TestScore2</th>\n",
       "    </tr>\n",
       "  </thead>\n",
       "  <tbody>\n",
       "    <tr>\n",
       "      <th>0</th>\n",
       "      <td>Dave</td>\n",
       "      <td>Stevens</td>\n",
       "      <td>42</td>\n",
       "      <td>94</td>\n",
       "      <td>99</td>\n",
       "    </tr>\n",
       "    <tr>\n",
       "      <th>1</th>\n",
       "      <td>Tamara</td>\n",
       "      <td>Jacobson</td>\n",
       "      <td>52</td>\n",
       "      <td>46</td>\n",
       "      <td>64</td>\n",
       "    </tr>\n",
       "    <tr>\n",
       "      <th>2</th>\n",
       "      <td>Ashley</td>\n",
       "      <td>Davis</td>\n",
       "      <td>36</td>\n",
       "      <td>69</td>\n",
       "      <td>72</td>\n",
       "    </tr>\n",
       "  </tbody>\n",
       "</table>\n",
       "</div>"
      ],
      "text/plain": [
       "  first_name last_name  age  TestScore1  TestScore2\n",
       "0       Dave   Stevens   42          94          99\n",
       "1     Tamara  Jacobson   52          46          64\n",
       "2     Ashley     Davis   36          69          72"
      ]
     },
     "execution_count": 19,
     "metadata": {
      "tags": []
     },
     "output_type": "execute_result"
    }
   ],
   "source": [
    "# Slice until index 3\n",
    "test_scores[:3]"
   ]
  },
  {
   "cell_type": "code",
   "execution_count": null,
   "metadata": {
    "colab": {},
    "colab_type": "code",
    "id": "awlfpq_6vSON",
    "outputId": "ba6feefa-1d80-4bc7-fc23-fd55988c9f7b"
   },
   "outputs": [
    {
     "data": {
      "text/html": [
       "<div>\n",
       "<style scoped>\n",
       "    .dataframe tbody tr th:only-of-type {\n",
       "        vertical-align: middle;\n",
       "    }\n",
       "\n",
       "    .dataframe tbody tr th {\n",
       "        vertical-align: top;\n",
       "    }\n",
       "\n",
       "    .dataframe thead th {\n",
       "        text-align: right;\n",
       "    }\n",
       "</style>\n",
       "<table border=\"1\" class=\"dataframe\">\n",
       "  <thead>\n",
       "    <tr style=\"text-align: right;\">\n",
       "      <th></th>\n",
       "      <th>first_name</th>\n",
       "      <th>last_name</th>\n",
       "      <th>age</th>\n",
       "      <th>TestScore1</th>\n",
       "      <th>TestScore2</th>\n",
       "    </tr>\n",
       "  </thead>\n",
       "  <tbody>\n",
       "    <tr>\n",
       "      <th>2</th>\n",
       "      <td>Ashley</td>\n",
       "      <td>Davis</td>\n",
       "      <td>36</td>\n",
       "      <td>69</td>\n",
       "      <td>72</td>\n",
       "    </tr>\n",
       "    <tr>\n",
       "      <th>3</th>\n",
       "      <td>Arvin</td>\n",
       "      <td>Miller</td>\n",
       "      <td>24</td>\n",
       "      <td>77</td>\n",
       "      <td>75</td>\n",
       "    </tr>\n",
       "    <tr>\n",
       "      <th>4</th>\n",
       "      <td>Emma</td>\n",
       "      <td>Cook</td>\n",
       "      <td>73</td>\n",
       "      <td>85</td>\n",
       "      <td>85</td>\n",
       "    </tr>\n",
       "  </tbody>\n",
       "</table>\n",
       "</div>"
      ],
      "text/plain": [
       "  first_name last_name  age  TestScore1  TestScore2\n",
       "2     Ashley     Davis   36          69          72\n",
       "3      Arvin    Miller   24          77          75\n",
       "4       Emma      Cook   73          85          85"
      ]
     },
     "execution_count": 111,
     "metadata": {
      "tags": []
     },
     "output_type": "execute_result"
    }
   ],
   "source": [
    "# Slice from the end back 3\n",
    "test_scores[-3:]"
   ]
  },
  {
   "cell_type": "code",
   "execution_count": null,
   "metadata": {
    "colab": {},
    "colab_type": "code",
    "id": "SWU3JNyHvSOQ",
    "outputId": "e7a4ea20-6bdd-4097-d36e-05a97b64e5e5"
   },
   "outputs": [
    {
     "data": {
      "text/html": [
       "<div>\n",
       "<style scoped>\n",
       "    .dataframe tbody tr th:only-of-type {\n",
       "        vertical-align: middle;\n",
       "    }\n",
       "\n",
       "    .dataframe tbody tr th {\n",
       "        vertical-align: top;\n",
       "    }\n",
       "\n",
       "    .dataframe thead th {\n",
       "        text-align: right;\n",
       "    }\n",
       "</style>\n",
       "<table border=\"1\" class=\"dataframe\">\n",
       "  <thead>\n",
       "    <tr style=\"text-align: right;\">\n",
       "      <th></th>\n",
       "      <th>first_name</th>\n",
       "      <th>last_name</th>\n",
       "      <th>age</th>\n",
       "      <th>TestScore1</th>\n",
       "      <th>TestScore2</th>\n",
       "    </tr>\n",
       "  </thead>\n",
       "  <tbody>\n",
       "    <tr>\n",
       "      <th>0</th>\n",
       "      <td>Dave</td>\n",
       "      <td>Stevens</td>\n",
       "      <td>42</td>\n",
       "      <td>94</td>\n",
       "      <td>99</td>\n",
       "    </tr>\n",
       "    <tr>\n",
       "      <th>2</th>\n",
       "      <td>Ashley</td>\n",
       "      <td>Davis</td>\n",
       "      <td>36</td>\n",
       "      <td>69</td>\n",
       "      <td>72</td>\n",
       "    </tr>\n",
       "    <tr>\n",
       "      <th>4</th>\n",
       "      <td>Emma</td>\n",
       "      <td>Cook</td>\n",
       "      <td>73</td>\n",
       "      <td>85</td>\n",
       "      <td>85</td>\n",
       "    </tr>\n",
       "  </tbody>\n",
       "</table>\n",
       "</div>"
      ],
      "text/plain": [
       "  first_name last_name  age  TestScore1  TestScore2\n",
       "0       Dave   Stevens   42          94          99\n",
       "2     Ashley     Davis   36          69          72\n",
       "4       Emma      Cook   73          85          85"
      ]
     },
     "execution_count": 21,
     "metadata": {
      "tags": []
     },
     "output_type": "execute_result"
    }
   ],
   "source": [
    "# Slice every other row\n",
    "test_scores[::2]"
   ]
  },
  {
   "cell_type": "markdown",
   "metadata": {
    "colab_type": "text",
    "id": "gabhuFenvSOT"
   },
   "source": [
    "#### Pandas: Sorting\n",
    "\n",
    "Using the simple .sort_values() method is the easiest way to sort data. Refer to the table below for all parameters available.\n",
    "\n",
    "<img src='https://drive.google.com/uc?view=export&id=1bn9o3oBgSz5SAEx7EJjFpUqf7bxnakWh' />"
   ]
  },
  {
   "cell_type": "code",
   "execution_count": null,
   "metadata": {
    "colab": {},
    "colab_type": "code",
    "id": "EaBZA5I-vSOU",
    "outputId": "c82f6aa2-469f-4fe1-bfbd-95971e2fae27"
   },
   "outputs": [
    {
     "data": {
      "text/html": [
       "<div>\n",
       "<style scoped>\n",
       "    .dataframe tbody tr th:only-of-type {\n",
       "        vertical-align: middle;\n",
       "    }\n",
       "\n",
       "    .dataframe tbody tr th {\n",
       "        vertical-align: top;\n",
       "    }\n",
       "\n",
       "    .dataframe thead th {\n",
       "        text-align: right;\n",
       "    }\n",
       "</style>\n",
       "<table border=\"1\" class=\"dataframe\">\n",
       "  <thead>\n",
       "    <tr style=\"text-align: right;\">\n",
       "      <th></th>\n",
       "      <th>first_name</th>\n",
       "      <th>last_name</th>\n",
       "      <th>age</th>\n",
       "      <th>TestScore1</th>\n",
       "      <th>TestScore2</th>\n",
       "    </tr>\n",
       "  </thead>\n",
       "  <tbody>\n",
       "    <tr>\n",
       "      <th>1</th>\n",
       "      <td>Tamara</td>\n",
       "      <td>Jacobson</td>\n",
       "      <td>52</td>\n",
       "      <td>46</td>\n",
       "      <td>64</td>\n",
       "    </tr>\n",
       "    <tr>\n",
       "      <th>2</th>\n",
       "      <td>Ashley</td>\n",
       "      <td>Davis</td>\n",
       "      <td>36</td>\n",
       "      <td>69</td>\n",
       "      <td>72</td>\n",
       "    </tr>\n",
       "    <tr>\n",
       "      <th>3</th>\n",
       "      <td>Arvin</td>\n",
       "      <td>Miller</td>\n",
       "      <td>24</td>\n",
       "      <td>77</td>\n",
       "      <td>75</td>\n",
       "    </tr>\n",
       "    <tr>\n",
       "      <th>4</th>\n",
       "      <td>Emma</td>\n",
       "      <td>Cook</td>\n",
       "      <td>73</td>\n",
       "      <td>85</td>\n",
       "      <td>85</td>\n",
       "    </tr>\n",
       "    <tr>\n",
       "      <th>0</th>\n",
       "      <td>Dave</td>\n",
       "      <td>Stevens</td>\n",
       "      <td>42</td>\n",
       "      <td>94</td>\n",
       "      <td>99</td>\n",
       "    </tr>\n",
       "  </tbody>\n",
       "</table>\n",
       "</div>"
      ],
      "text/plain": [
       "  first_name last_name  age  TestScore1  TestScore2\n",
       "1     Tamara  Jacobson   52          46          64\n",
       "2     Ashley     Davis   36          69          72\n",
       "3      Arvin    Miller   24          77          75\n",
       "4       Emma      Cook   73          85          85\n",
       "0       Dave   Stevens   42          94          99"
      ]
     },
     "execution_count": 115,
     "metadata": {
      "tags": []
     },
     "output_type": "execute_result"
    }
   ],
   "source": [
    "#Let's sort the values by TestScore1\n",
    "test_scores.sort_values(by=['TestScore1'])"
   ]
  },
  {
   "cell_type": "code",
   "execution_count": null,
   "metadata": {
    "colab": {},
    "colab_type": "code",
    "id": "KS2ZMD4jvSOX",
    "outputId": "b38e0857-e275-464e-e455-88ca8bff7a84"
   },
   "outputs": [
    {
     "data": {
      "text/html": [
       "<div>\n",
       "<style scoped>\n",
       "    .dataframe tbody tr th:only-of-type {\n",
       "        vertical-align: middle;\n",
       "    }\n",
       "\n",
       "    .dataframe tbody tr th {\n",
       "        vertical-align: top;\n",
       "    }\n",
       "\n",
       "    .dataframe thead th {\n",
       "        text-align: right;\n",
       "    }\n",
       "</style>\n",
       "<table border=\"1\" class=\"dataframe\">\n",
       "  <thead>\n",
       "    <tr style=\"text-align: right;\">\n",
       "      <th></th>\n",
       "      <th>first_name</th>\n",
       "      <th>last_name</th>\n",
       "      <th>age</th>\n",
       "      <th>TestScore1</th>\n",
       "      <th>TestScore2</th>\n",
       "    </tr>\n",
       "  </thead>\n",
       "  <tbody>\n",
       "    <tr>\n",
       "      <th>0</th>\n",
       "      <td>Dave</td>\n",
       "      <td>Stevens</td>\n",
       "      <td>42</td>\n",
       "      <td>94</td>\n",
       "      <td>99</td>\n",
       "    </tr>\n",
       "    <tr>\n",
       "      <th>4</th>\n",
       "      <td>Emma</td>\n",
       "      <td>Cook</td>\n",
       "      <td>73</td>\n",
       "      <td>85</td>\n",
       "      <td>85</td>\n",
       "    </tr>\n",
       "    <tr>\n",
       "      <th>3</th>\n",
       "      <td>Arvin</td>\n",
       "      <td>Miller</td>\n",
       "      <td>24</td>\n",
       "      <td>77</td>\n",
       "      <td>75</td>\n",
       "    </tr>\n",
       "    <tr>\n",
       "      <th>2</th>\n",
       "      <td>Ashley</td>\n",
       "      <td>Davis</td>\n",
       "      <td>36</td>\n",
       "      <td>69</td>\n",
       "      <td>72</td>\n",
       "    </tr>\n",
       "    <tr>\n",
       "      <th>1</th>\n",
       "      <td>Tamara</td>\n",
       "      <td>Jacobson</td>\n",
       "      <td>52</td>\n",
       "      <td>46</td>\n",
       "      <td>64</td>\n",
       "    </tr>\n",
       "  </tbody>\n",
       "</table>\n",
       "</div>"
      ],
      "text/plain": [
       "  first_name last_name  age  TestScore1  TestScore2\n",
       "0       Dave   Stevens   42          94          99\n",
       "4       Emma      Cook   73          85          85\n",
       "3      Arvin    Miller   24          77          75\n",
       "2     Ashley     Davis   36          69          72\n",
       "1     Tamara  Jacobson   52          46          64"
      ]
     },
     "execution_count": 116,
     "metadata": {
      "tags": []
     },
     "output_type": "execute_result"
    }
   ],
   "source": [
    "test_scores.sort_values(by=['TestScore1'], ascending=False)"
   ]
  },
  {
   "cell_type": "markdown",
   "metadata": {
    "colab_type": "text",
    "id": "C-scEm2bvSOZ"
   },
   "source": [
    "#### Pandas: Additional ways to sort"
   ]
  },
  {
   "cell_type": "markdown",
   "metadata": {
    "colab_type": "text",
    "id": "Odrc7qmAvSOa"
   },
   "source": [
    "For teaching purposes, it is easy to create a randomized DataFrame, which we can learn to manipulate. \n",
    "Typically, we will define our DataFrames as 'df'."
   ]
  },
  {
   "cell_type": "code",
   "execution_count": null,
   "metadata": {
    "colab": {},
    "colab_type": "code",
    "id": "f47Yuh2svSOb",
    "outputId": "8a49c30e-18e8-4b80-a458-4ce3c33e77b7"
   },
   "outputs": [
    {
     "data": {
      "text/html": [
       "<div>\n",
       "<style scoped>\n",
       "    .dataframe tbody tr th:only-of-type {\n",
       "        vertical-align: middle;\n",
       "    }\n",
       "\n",
       "    .dataframe tbody tr th {\n",
       "        vertical-align: top;\n",
       "    }\n",
       "\n",
       "    .dataframe thead th {\n",
       "        text-align: right;\n",
       "    }\n",
       "</style>\n",
       "<table border=\"1\" class=\"dataframe\">\n",
       "  <thead>\n",
       "    <tr style=\"text-align: right;\">\n",
       "      <th></th>\n",
       "      <th>A</th>\n",
       "      <th>B</th>\n",
       "      <th>C</th>\n",
       "      <th>D</th>\n",
       "      <th>E</th>\n",
       "      <th>F</th>\n",
       "      <th>G</th>\n",
       "    </tr>\n",
       "  </thead>\n",
       "  <tbody>\n",
       "    <tr>\n",
       "      <th>0</th>\n",
       "      <td>-0.057900</td>\n",
       "      <td>0.471229</td>\n",
       "      <td>-0.226502</td>\n",
       "      <td>-0.416116</td>\n",
       "      <td>0.026039</td>\n",
       "      <td>0.715829</td>\n",
       "      <td>0.980379</td>\n",
       "    </tr>\n",
       "    <tr>\n",
       "      <th>1</th>\n",
       "      <td>-0.729108</td>\n",
       "      <td>1.600181</td>\n",
       "      <td>0.589767</td>\n",
       "      <td>0.213589</td>\n",
       "      <td>-0.413700</td>\n",
       "      <td>-1.030338</td>\n",
       "      <td>0.075973</td>\n",
       "    </tr>\n",
       "    <tr>\n",
       "      <th>2</th>\n",
       "      <td>0.930914</td>\n",
       "      <td>-0.607108</td>\n",
       "      <td>-0.308916</td>\n",
       "      <td>-2.170498</td>\n",
       "      <td>-0.317405</td>\n",
       "      <td>1.472547</td>\n",
       "      <td>1.772666</td>\n",
       "    </tr>\n",
       "    <tr>\n",
       "      <th>3</th>\n",
       "      <td>0.213587</td>\n",
       "      <td>0.445910</td>\n",
       "      <td>-1.173235</td>\n",
       "      <td>-0.184519</td>\n",
       "      <td>0.016150</td>\n",
       "      <td>1.427043</td>\n",
       "      <td>-0.742217</td>\n",
       "    </tr>\n",
       "    <tr>\n",
       "      <th>4</th>\n",
       "      <td>-0.726002</td>\n",
       "      <td>-1.328749</td>\n",
       "      <td>0.265035</td>\n",
       "      <td>0.268854</td>\n",
       "      <td>-1.278157</td>\n",
       "      <td>-0.731747</td>\n",
       "      <td>0.393087</td>\n",
       "    </tr>\n",
       "    <tr>\n",
       "      <th>5</th>\n",
       "      <td>-0.117709</td>\n",
       "      <td>2.233907</td>\n",
       "      <td>-1.349079</td>\n",
       "      <td>-0.956535</td>\n",
       "      <td>0.215466</td>\n",
       "      <td>-0.527286</td>\n",
       "      <td>0.386004</td>\n",
       "    </tr>\n",
       "    <tr>\n",
       "      <th>6</th>\n",
       "      <td>0.294562</td>\n",
       "      <td>1.422683</td>\n",
       "      <td>0.877395</td>\n",
       "      <td>0.754761</td>\n",
       "      <td>0.622313</td>\n",
       "      <td>2.163641</td>\n",
       "      <td>0.336810</td>\n",
       "    </tr>\n",
       "  </tbody>\n",
       "</table>\n",
       "</div>"
      ],
      "text/plain": [
       "          A         B         C         D         E         F         G\n",
       "0 -0.057900  0.471229 -0.226502 -0.416116  0.026039  0.715829  0.980379\n",
       "1 -0.729108  1.600181  0.589767  0.213589 -0.413700 -1.030338  0.075973\n",
       "2  0.930914 -0.607108 -0.308916 -2.170498 -0.317405  1.472547  1.772666\n",
       "3  0.213587  0.445910 -1.173235 -0.184519  0.016150  1.427043 -0.742217\n",
       "4 -0.726002 -1.328749  0.265035  0.268854 -1.278157 -0.731747  0.393087\n",
       "5 -0.117709  2.233907 -1.349079 -0.956535  0.215466 -0.527286  0.386004\n",
       "6  0.294562  1.422683  0.877395  0.754761  0.622313  2.163641  0.336810"
      ]
     },
     "execution_count": 117,
     "metadata": {
      "tags": []
     },
     "output_type": "execute_result"
    }
   ],
   "source": [
    "df = pd.DataFrame(np.random.randn(7,7), columns=['A','B','C','D','E','F','G'])\n",
    "df"
   ]
  },
  {
   "cell_type": "markdown",
   "metadata": {
    "colab_type": "text",
    "id": "jJN7-bGUvSOn"
   },
   "source": [
    "You can access the top rows of a data frame using **.head( )** and the bottom using **.tail( )**, if you leave it blank, the display will default at 5 rows"
   ]
  },
  {
   "cell_type": "code",
   "execution_count": null,
   "metadata": {
    "colab": {},
    "colab_type": "code",
    "id": "orGWhBy1vSOo",
    "outputId": "66cfd615-53a4-4d26-fba0-8081ae45a731"
   },
   "outputs": [
    {
     "data": {
      "text/html": [
       "<div>\n",
       "<style scoped>\n",
       "    .dataframe tbody tr th:only-of-type {\n",
       "        vertical-align: middle;\n",
       "    }\n",
       "\n",
       "    .dataframe tbody tr th {\n",
       "        vertical-align: top;\n",
       "    }\n",
       "\n",
       "    .dataframe thead th {\n",
       "        text-align: right;\n",
       "    }\n",
       "</style>\n",
       "<table border=\"1\" class=\"dataframe\">\n",
       "  <thead>\n",
       "    <tr style=\"text-align: right;\">\n",
       "      <th></th>\n",
       "      <th>A</th>\n",
       "      <th>B</th>\n",
       "      <th>C</th>\n",
       "      <th>D</th>\n",
       "      <th>E</th>\n",
       "      <th>F</th>\n",
       "      <th>G</th>\n",
       "    </tr>\n",
       "  </thead>\n",
       "  <tbody>\n",
       "    <tr>\n",
       "      <th>0</th>\n",
       "      <td>-0.057900</td>\n",
       "      <td>0.471229</td>\n",
       "      <td>-0.226502</td>\n",
       "      <td>-0.416116</td>\n",
       "      <td>0.026039</td>\n",
       "      <td>0.715829</td>\n",
       "      <td>0.980379</td>\n",
       "    </tr>\n",
       "    <tr>\n",
       "      <th>1</th>\n",
       "      <td>-0.729108</td>\n",
       "      <td>1.600181</td>\n",
       "      <td>0.589767</td>\n",
       "      <td>0.213589</td>\n",
       "      <td>-0.413700</td>\n",
       "      <td>-1.030338</td>\n",
       "      <td>0.075973</td>\n",
       "    </tr>\n",
       "    <tr>\n",
       "      <th>2</th>\n",
       "      <td>0.930914</td>\n",
       "      <td>-0.607108</td>\n",
       "      <td>-0.308916</td>\n",
       "      <td>-2.170498</td>\n",
       "      <td>-0.317405</td>\n",
       "      <td>1.472547</td>\n",
       "      <td>1.772666</td>\n",
       "    </tr>\n",
       "  </tbody>\n",
       "</table>\n",
       "</div>"
      ],
      "text/plain": [
       "          A         B         C         D         E         F         G\n",
       "0 -0.057900  0.471229 -0.226502 -0.416116  0.026039  0.715829  0.980379\n",
       "1 -0.729108  1.600181  0.589767  0.213589 -0.413700 -1.030338  0.075973\n",
       "2  0.930914 -0.607108 -0.308916 -2.170498 -0.317405  1.472547  1.772666"
      ]
     },
     "execution_count": 119,
     "metadata": {
      "tags": []
     },
     "output_type": "execute_result"
    }
   ],
   "source": [
    "df.head(3)"
   ]
  },
  {
   "cell_type": "code",
   "execution_count": null,
   "metadata": {
    "colab": {},
    "colab_type": "code",
    "id": "s1tZn3MsvSOu",
    "outputId": "910ffc10-1e28-4996-f75a-ce937fa0f1f9"
   },
   "outputs": [
    {
     "data": {
      "text/html": [
       "<div>\n",
       "<style scoped>\n",
       "    .dataframe tbody tr th:only-of-type {\n",
       "        vertical-align: middle;\n",
       "    }\n",
       "\n",
       "    .dataframe tbody tr th {\n",
       "        vertical-align: top;\n",
       "    }\n",
       "\n",
       "    .dataframe thead th {\n",
       "        text-align: right;\n",
       "    }\n",
       "</style>\n",
       "<table border=\"1\" class=\"dataframe\">\n",
       "  <thead>\n",
       "    <tr style=\"text-align: right;\">\n",
       "      <th></th>\n",
       "      <th>A</th>\n",
       "      <th>B</th>\n",
       "      <th>C</th>\n",
       "      <th>D</th>\n",
       "      <th>E</th>\n",
       "      <th>F</th>\n",
       "      <th>G</th>\n",
       "    </tr>\n",
       "  </thead>\n",
       "  <tbody>\n",
       "    <tr>\n",
       "      <th>4</th>\n",
       "      <td>-0.726002</td>\n",
       "      <td>-1.328749</td>\n",
       "      <td>0.265035</td>\n",
       "      <td>0.268854</td>\n",
       "      <td>-1.278157</td>\n",
       "      <td>-0.731747</td>\n",
       "      <td>0.393087</td>\n",
       "    </tr>\n",
       "    <tr>\n",
       "      <th>5</th>\n",
       "      <td>-0.117709</td>\n",
       "      <td>2.233907</td>\n",
       "      <td>-1.349079</td>\n",
       "      <td>-0.956535</td>\n",
       "      <td>0.215466</td>\n",
       "      <td>-0.527286</td>\n",
       "      <td>0.386004</td>\n",
       "    </tr>\n",
       "    <tr>\n",
       "      <th>6</th>\n",
       "      <td>0.294562</td>\n",
       "      <td>1.422683</td>\n",
       "      <td>0.877395</td>\n",
       "      <td>0.754761</td>\n",
       "      <td>0.622313</td>\n",
       "      <td>2.163641</td>\n",
       "      <td>0.336810</td>\n",
       "    </tr>\n",
       "  </tbody>\n",
       "</table>\n",
       "</div>"
      ],
      "text/plain": [
       "          A         B         C         D         E         F         G\n",
       "4 -0.726002 -1.328749  0.265035  0.268854 -1.278157 -0.731747  0.393087\n",
       "5 -0.117709  2.233907 -1.349079 -0.956535  0.215466 -0.527286  0.386004\n",
       "6  0.294562  1.422683  0.877395  0.754761  0.622313  2.163641  0.336810"
      ]
     },
     "execution_count": 120,
     "metadata": {
      "tags": []
     },
     "output_type": "execute_result"
    }
   ],
   "source": [
    "df.tail(3) #displays bottom row of data only"
   ]
  },
  {
   "cell_type": "markdown",
   "metadata": {
    "colab_type": "text",
    "id": "r8sO4Ru4vSOy"
   },
   "source": [
    "Slicing rows in a dataframe is very easy!\n",
    "\n",
    "The key is to remember that Python is a **zero-index** language.\n",
    "\n",
    "- The below image shows what position each letter in the word \"digital\" is positioned depending on the index\n",
    "\n",
    "<img src = \"https://drive.google.com/uc?export=view&id=1CDMS-KTB550XiG_9Y9kCRCSYxxMK8jtn\" height = \"500\" width = \"300\" align=\"left\" />\n"
   ]
  },
  {
   "cell_type": "markdown",
   "metadata": {
    "colab_type": "text",
    "id": "T-C3tPypvSOy"
   },
   "source": [
    "\n",
    "Let's only show the rows labelled 5 and 6!"
   ]
  },
  {
   "cell_type": "code",
   "execution_count": null,
   "metadata": {
    "colab": {},
    "colab_type": "code",
    "id": "BrbrFUG9vSOy",
    "outputId": "78c29e90-f3b8-437b-b2e4-787f09249efc"
   },
   "outputs": [
    {
     "data": {
      "text/html": [
       "<div>\n",
       "<style scoped>\n",
       "    .dataframe tbody tr th:only-of-type {\n",
       "        vertical-align: middle;\n",
       "    }\n",
       "\n",
       "    .dataframe tbody tr th {\n",
       "        vertical-align: top;\n",
       "    }\n",
       "\n",
       "    .dataframe thead th {\n",
       "        text-align: right;\n",
       "    }\n",
       "</style>\n",
       "<table border=\"1\" class=\"dataframe\">\n",
       "  <thead>\n",
       "    <tr style=\"text-align: right;\">\n",
       "      <th></th>\n",
       "      <th>A</th>\n",
       "      <th>B</th>\n",
       "      <th>C</th>\n",
       "      <th>D</th>\n",
       "      <th>E</th>\n",
       "      <th>F</th>\n",
       "      <th>G</th>\n",
       "    </tr>\n",
       "  </thead>\n",
       "  <tbody>\n",
       "    <tr>\n",
       "      <th>5</th>\n",
       "      <td>-0.117709</td>\n",
       "      <td>2.233907</td>\n",
       "      <td>-1.349079</td>\n",
       "      <td>-0.956535</td>\n",
       "      <td>0.215466</td>\n",
       "      <td>-0.527286</td>\n",
       "      <td>0.386004</td>\n",
       "    </tr>\n",
       "    <tr>\n",
       "      <th>6</th>\n",
       "      <td>0.294562</td>\n",
       "      <td>1.422683</td>\n",
       "      <td>0.877395</td>\n",
       "      <td>0.754761</td>\n",
       "      <td>0.622313</td>\n",
       "      <td>2.163641</td>\n",
       "      <td>0.336810</td>\n",
       "    </tr>\n",
       "  </tbody>\n",
       "</table>\n",
       "</div>"
      ],
      "text/plain": [
       "          A         B         C         D         E         F         G\n",
       "5 -0.117709  2.233907 -1.349079 -0.956535  0.215466 -0.527286  0.386004\n",
       "6  0.294562  1.422683  0.877395  0.754761  0.622313  2.163641  0.336810"
      ]
     },
     "execution_count": 121,
     "metadata": {
      "tags": []
     },
     "output_type": "execute_result"
    }
   ],
   "source": [
    "df[5:7]"
   ]
  },
  {
   "cell_type": "markdown",
   "metadata": {
    "colab_type": "text",
    "id": "TM6zmhHWvSO1"
   },
   "source": [
    "#### Pandas: Concatenation\n",
    "Concatenation essentially glues the DataFrames together. \n",
    "The dimension on which you want to concatenate can be selected using **.concat** and pass in the list of DataFrames to concatenate together. \n",
    "Let's take a look with the below example, with historical data from Iceland's consumer price index and harmonized inflation rate https://www.inflation.eu/inflation-rates/iceland/historic-inflation/cpi-inflation-iceland.aspx:"
   ]
  },
  {
   "cell_type": "code",
   "execution_count": null,
   "metadata": {
    "colab": {},
    "colab_type": "code",
    "id": "AXcKr7ZWvSO2",
    "outputId": "cd6a477c-cee0-490b-fbbb-e8c7ac7cf801"
   },
   "outputs": [
    {
     "data": {
      "text/html": [
       "<div>\n",
       "<style scoped>\n",
       "    .dataframe tbody tr th:only-of-type {\n",
       "        vertical-align: middle;\n",
       "    }\n",
       "\n",
       "    .dataframe tbody tr th {\n",
       "        vertical-align: top;\n",
       "    }\n",
       "\n",
       "    .dataframe thead th {\n",
       "        text-align: right;\n",
       "    }\n",
       "</style>\n",
       "<table border=\"1\" class=\"dataframe\">\n",
       "  <thead>\n",
       "    <tr style=\"text-align: right;\">\n",
       "      <th></th>\n",
       "      <th>CPI_Dec-Dec</th>\n",
       "      <th>Average_CPI</th>\n",
       "      <th>HICP</th>\n",
       "    </tr>\n",
       "  </thead>\n",
       "  <tbody>\n",
       "    <tr>\n",
       "      <th>2018</th>\n",
       "      <td>3.72</td>\n",
       "      <td>3.15</td>\n",
       "      <td>1.98</td>\n",
       "    </tr>\n",
       "    <tr>\n",
       "      <th>2017</th>\n",
       "      <td>1.86</td>\n",
       "      <td>2.68</td>\n",
       "      <td>-1.02</td>\n",
       "    </tr>\n",
       "    <tr>\n",
       "      <th>2016</th>\n",
       "      <td>1.90</td>\n",
       "      <td>1.77</td>\n",
       "      <td>-0.11</td>\n",
       "    </tr>\n",
       "    <tr>\n",
       "      <th>2015</th>\n",
       "      <td>2.02</td>\n",
       "      <td>1.69</td>\n",
       "      <td>0.72</td>\n",
       "    </tr>\n",
       "    <tr>\n",
       "      <th>2014</th>\n",
       "      <td>0.83</td>\n",
       "      <td>1.63</td>\n",
       "      <td>-0.40</td>\n",
       "    </tr>\n",
       "    <tr>\n",
       "      <th>2013</th>\n",
       "      <td>4.14</td>\n",
       "      <td>2.05</td>\n",
       "      <td>3.68</td>\n",
       "    </tr>\n",
       "  </tbody>\n",
       "</table>\n",
       "</div>"
      ],
      "text/plain": [
       "      CPI_Dec-Dec  Average_CPI  HICP\n",
       "2018         3.72         3.15  1.98\n",
       "2017         1.86         2.68 -1.02\n",
       "2016         1.90         1.77 -0.11\n",
       "2015         2.02         1.69  0.72\n",
       "2014         0.83         1.63 -0.40\n",
       "2013         4.14         2.05  3.68"
      ]
     },
     "execution_count": 139,
     "metadata": {
      "tags": []
     },
     "output_type": "execute_result"
    }
   ],
   "source": [
    "import pandas as pd\n",
    "df1 = pd.DataFrame({\n",
    "    \"CPI_Dec-Dec\":[3.72,1.86,1.90,2.02,0.83,4.14],\n",
    "    \"Average_CPI\":[3.15,2.68,1.77,1.69,1.63,2.05],\n",
    "    \"HICP\":[1.98,-1.02,-0.11,0.72,-0.4,3.68]}, \n",
    "    index = [2018,2017,2016,2015,2014,2013])\n",
    "df1"
   ]
  },
  {
   "cell_type": "code",
   "execution_count": null,
   "metadata": {
    "colab": {},
    "colab_type": "code",
    "id": "XTiy08y1vSO4",
    "outputId": "abda442b-02fb-4ea4-9740-d35b2f16342c"
   },
   "outputs": [
    {
     "data": {
      "text/html": [
       "<div>\n",
       "<style scoped>\n",
       "    .dataframe tbody tr th:only-of-type {\n",
       "        vertical-align: middle;\n",
       "    }\n",
       "\n",
       "    .dataframe tbody tr th {\n",
       "        vertical-align: top;\n",
       "    }\n",
       "\n",
       "    .dataframe thead th {\n",
       "        text-align: right;\n",
       "    }\n",
       "</style>\n",
       "<table border=\"1\" class=\"dataframe\">\n",
       "  <thead>\n",
       "    <tr style=\"text-align: right;\">\n",
       "      <th></th>\n",
       "      <th>CPI_Dec-Dec</th>\n",
       "      <th>Average_CPI</th>\n",
       "      <th>HICP</th>\n",
       "    </tr>\n",
       "  </thead>\n",
       "  <tbody>\n",
       "    <tr>\n",
       "      <th>2012</th>\n",
       "      <td>4.20</td>\n",
       "      <td>5.20</td>\n",
       "      <td>5.12</td>\n",
       "    </tr>\n",
       "    <tr>\n",
       "      <th>2013</th>\n",
       "      <td>5.25</td>\n",
       "      <td>4.00</td>\n",
       "      <td>5.25</td>\n",
       "    </tr>\n",
       "    <tr>\n",
       "      <th>2014</th>\n",
       "      <td>2.48</td>\n",
       "      <td>5.44</td>\n",
       "      <td>3.49</td>\n",
       "    </tr>\n",
       "    <tr>\n",
       "      <th>2015</th>\n",
       "      <td>7.49</td>\n",
       "      <td>12.16</td>\n",
       "      <td>11.30</td>\n",
       "    </tr>\n",
       "    <tr>\n",
       "      <th>2016</th>\n",
       "      <td>18.14</td>\n",
       "      <td>12.63</td>\n",
       "      <td>21.03</td>\n",
       "    </tr>\n",
       "    <tr>\n",
       "      <th>2017</th>\n",
       "      <td>5.83</td>\n",
       "      <td>5.07</td>\n",
       "      <td>3.46</td>\n",
       "    </tr>\n",
       "  </tbody>\n",
       "</table>\n",
       "</div>"
      ],
      "text/plain": [
       "      CPI_Dec-Dec  Average_CPI   HICP\n",
       "2012         4.20         5.20   5.12\n",
       "2013         5.25         4.00   5.25\n",
       "2014         2.48         5.44   3.49\n",
       "2015         7.49        12.16  11.30\n",
       "2016        18.14        12.63  21.03\n",
       "2017         5.83         5.07   3.46"
      ]
     },
     "execution_count": 140,
     "metadata": {
      "tags": []
     },
     "output_type": "execute_result"
    }
   ],
   "source": [
    "df2 = pd.DataFrame({\n",
    "    \"CPI_Dec-Dec\":[4.20,5.25,2.48,7.49,18.14,5.83],\n",
    "    \"Average_CPI\":[5.20,4.00,5.44,12.16,12.63,5.07],\n",
    "    \"HICP\":[5.12,5.25,3.49,11.3,21.03,3.46]},\n",
    "    index = [2012,2013,2014,2015,2016,2017])\n",
    "df2"
   ]
  },
  {
   "cell_type": "code",
   "execution_count": null,
   "metadata": {
    "colab": {},
    "colab_type": "code",
    "id": "p3fw3xIlvSO7",
    "outputId": "b127bb22-45dc-474e-ecfb-f3c41a0b81f6"
   },
   "outputs": [
    {
     "name": "stdout",
     "output_type": "stream",
     "text": [
      "      CPI_Dec-Dec  Average_CPI  HICP  CPI_Dec-Dec  Average_CPI   HICP\n",
      "2012          NaN          NaN   NaN         4.20         5.20   5.12\n",
      "2013         4.14         2.05  3.68         5.25         4.00   5.25\n",
      "2014         0.83         1.63 -0.40         2.48         5.44   3.49\n",
      "2015         2.02         1.69  0.72         7.49        12.16  11.30\n",
      "2016         1.90         1.77 -0.11        18.14        12.63  21.03\n",
      "2017         1.86         2.68 -1.02         5.83         5.07   3.46\n",
      "2018         3.72         3.15  1.98          NaN          NaN    NaN\n"
     ]
    }
   ],
   "source": [
    "concat = pd.concat([df1,df2],axis=1)\n",
    "print(concat)"
   ]
  },
  {
   "cell_type": "markdown",
   "metadata": {
    "colab_type": "text",
    "id": "EqcX6zh4vSPB"
   },
   "source": [
    "Data Cleaning / Data Cleansing is done to detect and correct or remove corrupted data. Data cleansing can be done using pure Python but Pandas makes this task much easier.\n",
    "\n",
    "Some common cleansing techniques for removing NaN elements are as followed:\n",
    "\n",
    "- Rows with any missing data: `dataframe.dropna()`\n",
    "- Rows with all elements missing: `dataframe.dropna(how=\"all\")`\n",
    "- Rows with missing elements for specific columns: `dataframe.dropna(subset=[\"name\", \"age\"])`\n",
    "- Columns with any missing element: `dataframe.dropna(axis=\"columns\")`\n",
    "\n",
    "For our dataframe above, we can simply use the .dropna() method to remove any row that contains a NaN value in any column."
   ]
  },
  {
   "cell_type": "code",
   "execution_count": null,
   "metadata": {
    "colab": {},
    "colab_type": "code",
    "id": "Eh5qCYHpvSPB",
    "outputId": "d16f2fbd-0dfd-45dc-b1e9-39182955c484"
   },
   "outputs": [
    {
     "data": {
      "text/html": [
       "<div>\n",
       "<style scoped>\n",
       "    .dataframe tbody tr th:only-of-type {\n",
       "        vertical-align: middle;\n",
       "    }\n",
       "\n",
       "    .dataframe tbody tr th {\n",
       "        vertical-align: top;\n",
       "    }\n",
       "\n",
       "    .dataframe thead th {\n",
       "        text-align: right;\n",
       "    }\n",
       "</style>\n",
       "<table border=\"1\" class=\"dataframe\">\n",
       "  <thead>\n",
       "    <tr style=\"text-align: right;\">\n",
       "      <th></th>\n",
       "      <th>CPI_Dec-Dec</th>\n",
       "      <th>Average_CPI</th>\n",
       "      <th>HICP</th>\n",
       "      <th>CPI_Dec-Dec</th>\n",
       "      <th>Average_CPI</th>\n",
       "      <th>HICP</th>\n",
       "    </tr>\n",
       "  </thead>\n",
       "  <tbody>\n",
       "    <tr>\n",
       "      <th>2012</th>\n",
       "      <td>NaN</td>\n",
       "      <td>NaN</td>\n",
       "      <td>NaN</td>\n",
       "      <td>4.20</td>\n",
       "      <td>5.20</td>\n",
       "      <td>5.12</td>\n",
       "    </tr>\n",
       "    <tr>\n",
       "      <th>2013</th>\n",
       "      <td>4.14</td>\n",
       "      <td>2.05</td>\n",
       "      <td>3.68</td>\n",
       "      <td>5.25</td>\n",
       "      <td>4.00</td>\n",
       "      <td>5.25</td>\n",
       "    </tr>\n",
       "    <tr>\n",
       "      <th>2014</th>\n",
       "      <td>0.83</td>\n",
       "      <td>1.63</td>\n",
       "      <td>-0.40</td>\n",
       "      <td>2.48</td>\n",
       "      <td>5.44</td>\n",
       "      <td>3.49</td>\n",
       "    </tr>\n",
       "    <tr>\n",
       "      <th>2015</th>\n",
       "      <td>2.02</td>\n",
       "      <td>1.69</td>\n",
       "      <td>0.72</td>\n",
       "      <td>7.49</td>\n",
       "      <td>12.16</td>\n",
       "      <td>11.30</td>\n",
       "    </tr>\n",
       "    <tr>\n",
       "      <th>2016</th>\n",
       "      <td>1.90</td>\n",
       "      <td>1.77</td>\n",
       "      <td>-0.11</td>\n",
       "      <td>18.14</td>\n",
       "      <td>12.63</td>\n",
       "      <td>21.03</td>\n",
       "    </tr>\n",
       "    <tr>\n",
       "      <th>2017</th>\n",
       "      <td>1.86</td>\n",
       "      <td>2.68</td>\n",
       "      <td>-1.02</td>\n",
       "      <td>5.83</td>\n",
       "      <td>5.07</td>\n",
       "      <td>3.46</td>\n",
       "    </tr>\n",
       "    <tr>\n",
       "      <th>2018</th>\n",
       "      <td>3.72</td>\n",
       "      <td>3.15</td>\n",
       "      <td>1.98</td>\n",
       "      <td>NaN</td>\n",
       "      <td>NaN</td>\n",
       "      <td>NaN</td>\n",
       "    </tr>\n",
       "  </tbody>\n",
       "</table>\n",
       "</div>"
      ],
      "text/plain": [
       "      CPI_Dec-Dec  Average_CPI  HICP  CPI_Dec-Dec  Average_CPI   HICP\n",
       "2012          NaN          NaN   NaN         4.20         5.20   5.12\n",
       "2013         4.14         2.05  3.68         5.25         4.00   5.25\n",
       "2014         0.83         1.63 -0.40         2.48         5.44   3.49\n",
       "2015         2.02         1.69  0.72         7.49        12.16  11.30\n",
       "2016         1.90         1.77 -0.11        18.14        12.63  21.03\n",
       "2017         1.86         2.68 -1.02         5.83         5.07   3.46\n",
       "2018         3.72         3.15  1.98          NaN          NaN    NaN"
      ]
     },
     "execution_count": 144,
     "metadata": {
      "tags": []
     },
     "output_type": "execute_result"
    }
   ],
   "source": [
    "concat"
   ]
  },
  {
   "cell_type": "code",
   "execution_count": null,
   "metadata": {
    "colab": {},
    "colab_type": "code",
    "id": "Wpof2gLKvSPF",
    "outputId": "55fd6ad4-4aa7-49c4-c2ab-168375721196"
   },
   "outputs": [
    {
     "data": {
      "text/html": [
       "<div>\n",
       "<style scoped>\n",
       "    .dataframe tbody tr th:only-of-type {\n",
       "        vertical-align: middle;\n",
       "    }\n",
       "\n",
       "    .dataframe tbody tr th {\n",
       "        vertical-align: top;\n",
       "    }\n",
       "\n",
       "    .dataframe thead th {\n",
       "        text-align: right;\n",
       "    }\n",
       "</style>\n",
       "<table border=\"1\" class=\"dataframe\">\n",
       "  <thead>\n",
       "    <tr style=\"text-align: right;\">\n",
       "      <th></th>\n",
       "      <th>CPI_Dec-Dec</th>\n",
       "      <th>Average_CPI</th>\n",
       "      <th>HICP</th>\n",
       "      <th>CPI_Dec-Dec</th>\n",
       "      <th>Average_CPI</th>\n",
       "      <th>HICP</th>\n",
       "    </tr>\n",
       "  </thead>\n",
       "  <tbody>\n",
       "    <tr>\n",
       "      <th>2013</th>\n",
       "      <td>4.14</td>\n",
       "      <td>2.05</td>\n",
       "      <td>3.68</td>\n",
       "      <td>5.25</td>\n",
       "      <td>4.00</td>\n",
       "      <td>5.25</td>\n",
       "    </tr>\n",
       "    <tr>\n",
       "      <th>2014</th>\n",
       "      <td>0.83</td>\n",
       "      <td>1.63</td>\n",
       "      <td>-0.40</td>\n",
       "      <td>2.48</td>\n",
       "      <td>5.44</td>\n",
       "      <td>3.49</td>\n",
       "    </tr>\n",
       "    <tr>\n",
       "      <th>2015</th>\n",
       "      <td>2.02</td>\n",
       "      <td>1.69</td>\n",
       "      <td>0.72</td>\n",
       "      <td>7.49</td>\n",
       "      <td>12.16</td>\n",
       "      <td>11.30</td>\n",
       "    </tr>\n",
       "    <tr>\n",
       "      <th>2016</th>\n",
       "      <td>1.90</td>\n",
       "      <td>1.77</td>\n",
       "      <td>-0.11</td>\n",
       "      <td>18.14</td>\n",
       "      <td>12.63</td>\n",
       "      <td>21.03</td>\n",
       "    </tr>\n",
       "    <tr>\n",
       "      <th>2017</th>\n",
       "      <td>1.86</td>\n",
       "      <td>2.68</td>\n",
       "      <td>-1.02</td>\n",
       "      <td>5.83</td>\n",
       "      <td>5.07</td>\n",
       "      <td>3.46</td>\n",
       "    </tr>\n",
       "  </tbody>\n",
       "</table>\n",
       "</div>"
      ],
      "text/plain": [
       "      CPI_Dec-Dec  Average_CPI  HICP  CPI_Dec-Dec  Average_CPI   HICP\n",
       "2013         4.14         2.05  3.68         5.25         4.00   5.25\n",
       "2014         0.83         1.63 -0.40         2.48         5.44   3.49\n",
       "2015         2.02         1.69  0.72         7.49        12.16  11.30\n",
       "2016         1.90         1.77 -0.11        18.14        12.63  21.03\n",
       "2017         1.86         2.68 -1.02         5.83         5.07   3.46"
      ]
     },
     "execution_count": 143,
     "metadata": {
      "tags": []
     },
     "output_type": "execute_result"
    }
   ],
   "source": [
    "concat.dropna()"
   ]
  },
  {
   "cell_type": "markdown",
   "metadata": {
    "colab_type": "text",
    "id": "j8fB8D1_vSPV"
   },
   "source": [
    "If we only wanted to only remove rows that had a NaN value in a specific column, we can use the .dropna() method and specify which column we want to target with the subset parameter. For our DataFrame above, lets target the 'HICP' column. "
   ]
  },
  {
   "cell_type": "code",
   "execution_count": null,
   "metadata": {
    "colab": {},
    "colab_type": "code",
    "id": "J-cYpe-KvSPW",
    "outputId": "e1d70d2c-3eeb-4181-9d2a-df3485358758"
   },
   "outputs": [
    {
     "data": {
      "text/html": [
       "<div>\n",
       "<style scoped>\n",
       "    .dataframe tbody tr th:only-of-type {\n",
       "        vertical-align: middle;\n",
       "    }\n",
       "\n",
       "    .dataframe tbody tr th {\n",
       "        vertical-align: top;\n",
       "    }\n",
       "\n",
       "    .dataframe thead th {\n",
       "        text-align: right;\n",
       "    }\n",
       "</style>\n",
       "<table border=\"1\" class=\"dataframe\">\n",
       "  <thead>\n",
       "    <tr style=\"text-align: right;\">\n",
       "      <th></th>\n",
       "      <th>CPI_Dec-Dec</th>\n",
       "      <th>Average_CPI</th>\n",
       "      <th>HICP</th>\n",
       "      <th>CPI_Dec-Dec</th>\n",
       "      <th>Average_CPI</th>\n",
       "      <th>HICP</th>\n",
       "    </tr>\n",
       "  </thead>\n",
       "  <tbody>\n",
       "    <tr>\n",
       "      <th>2013</th>\n",
       "      <td>4.14</td>\n",
       "      <td>2.05</td>\n",
       "      <td>3.68</td>\n",
       "      <td>5.25</td>\n",
       "      <td>4.00</td>\n",
       "      <td>5.25</td>\n",
       "    </tr>\n",
       "    <tr>\n",
       "      <th>2014</th>\n",
       "      <td>0.83</td>\n",
       "      <td>1.63</td>\n",
       "      <td>-0.40</td>\n",
       "      <td>2.48</td>\n",
       "      <td>5.44</td>\n",
       "      <td>3.49</td>\n",
       "    </tr>\n",
       "    <tr>\n",
       "      <th>2015</th>\n",
       "      <td>2.02</td>\n",
       "      <td>1.69</td>\n",
       "      <td>0.72</td>\n",
       "      <td>7.49</td>\n",
       "      <td>12.16</td>\n",
       "      <td>11.30</td>\n",
       "    </tr>\n",
       "    <tr>\n",
       "      <th>2016</th>\n",
       "      <td>1.90</td>\n",
       "      <td>1.77</td>\n",
       "      <td>-0.11</td>\n",
       "      <td>18.14</td>\n",
       "      <td>12.63</td>\n",
       "      <td>21.03</td>\n",
       "    </tr>\n",
       "    <tr>\n",
       "      <th>2017</th>\n",
       "      <td>1.86</td>\n",
       "      <td>2.68</td>\n",
       "      <td>-1.02</td>\n",
       "      <td>5.83</td>\n",
       "      <td>5.07</td>\n",
       "      <td>3.46</td>\n",
       "    </tr>\n",
       "  </tbody>\n",
       "</table>\n",
       "</div>"
      ],
      "text/plain": [
       "      CPI_Dec-Dec  Average_CPI  HICP  CPI_Dec-Dec  Average_CPI   HICP\n",
       "2013         4.14         2.05  3.68         5.25         4.00   5.25\n",
       "2014         0.83         1.63 -0.40         2.48         5.44   3.49\n",
       "2015         2.02         1.69  0.72         7.49        12.16  11.30\n",
       "2016         1.90         1.77 -0.11        18.14        12.63  21.03\n",
       "2017         1.86         2.68 -1.02         5.83         5.07   3.46"
      ]
     },
     "execution_count": 32,
     "metadata": {
      "tags": []
     },
     "output_type": "execute_result"
    }
   ],
   "source": [
    "concat_df = pd.concat([df1,df2],axis=1)\n",
    "concat_df.dropna(subset=[\"Average_CPI\"])"
   ]
  },
  {
   "cell_type": "markdown",
   "metadata": {
    "colab_type": "text",
    "id": "pTj5evdfvSPf"
   },
   "source": [
    "## Activity: Pandas\n",
    "\n",
    "- Download the `stock.csv` file [here](https://drive.google.com/file/d/1vbXXDjNI6FvgA61l93OnTRvLZhkUgo3N/view?usp=sharing) and import the data as a Pandas DataFrame. Assign the DataFrame to a variable called `stocks_df`. \n",
    "- Sort the stocks DataFrame by their name\n",
    "- Once sorted, print the first stock\n",
    "- Slice the DataFrame to print the first 3 stocks\n",
    "- Print the data for the 3 stocks with the highest prices\n",
    "    - **Hint:** You will need to sort and slice."
   ]
  },
  {
   "cell_type": "code",
   "execution_count": null,
   "metadata": {
    "colab": {},
    "colab_type": "code",
    "id": "rqZQBneVvSPj",
    "outputId": "2b6741a4-e7ee-459f-edca-2bb6c581c3c1"
   },
   "outputs": [
    {
     "data": {
      "text/html": [
       "<div>\n",
       "<style scoped>\n",
       "    .dataframe tbody tr th:only-of-type {\n",
       "        vertical-align: middle;\n",
       "    }\n",
       "\n",
       "    .dataframe tbody tr th {\n",
       "        vertical-align: top;\n",
       "    }\n",
       "\n",
       "    .dataframe thead th {\n",
       "        text-align: right;\n",
       "    }\n",
       "</style>\n",
       "<table border=\"1\" class=\"dataframe\">\n",
       "  <thead>\n",
       "    <tr style=\"text-align: right;\">\n",
       "      <th></th>\n",
       "      <th>name</th>\n",
       "      <th>symbol</th>\n",
       "      <th>price</th>\n",
       "    </tr>\n",
       "  </thead>\n",
       "  <tbody>\n",
       "    <tr>\n",
       "      <th>0</th>\n",
       "      <td>ArcBest Corporation</td>\n",
       "      <td>ARCB</td>\n",
       "      <td>29.53</td>\n",
       "    </tr>\n",
       "  </tbody>\n",
       "</table>\n",
       "</div>"
      ],
      "text/plain": [
       "                  name symbol  price\n",
       "0  ArcBest Corporation   ARCB  29.53"
      ]
     },
     "execution_count": 155,
     "metadata": {
      "tags": []
     },
     "output_type": "execute_result"
    }
   ],
   "source": [
    "import pandas as pd\n",
    "stocks = pd.read_csv(\"Data/stocks.csv\")\n",
    "stocks.sort_values(by = ['name']) [0:1]"
   ]
  },
  {
   "cell_type": "code",
   "execution_count": null,
   "metadata": {
    "colab": {},
    "colab_type": "code",
    "id": "2GoJAJkEvSPq",
    "outputId": "229c6ece-4676-4a83-990d-c270a937a036"
   },
   "outputs": [
    {
     "data": {
      "text/html": [
       "<div>\n",
       "<style scoped>\n",
       "    .dataframe tbody tr th:only-of-type {\n",
       "        vertical-align: middle;\n",
       "    }\n",
       "\n",
       "    .dataframe tbody tr th {\n",
       "        vertical-align: top;\n",
       "    }\n",
       "\n",
       "    .dataframe thead th {\n",
       "        text-align: right;\n",
       "    }\n",
       "</style>\n",
       "<table border=\"1\" class=\"dataframe\">\n",
       "  <thead>\n",
       "    <tr style=\"text-align: right;\">\n",
       "      <th></th>\n",
       "      <th>name</th>\n",
       "      <th>symbol</th>\n",
       "      <th>price</th>\n",
       "    </tr>\n",
       "  </thead>\n",
       "  <tbody>\n",
       "    <tr>\n",
       "      <th>0</th>\n",
       "      <td>ArcBest Corporation</td>\n",
       "      <td>ARCB</td>\n",
       "      <td>29.53</td>\n",
       "    </tr>\n",
       "    <tr>\n",
       "      <th>1</th>\n",
       "      <td>Orexigen Therapeutics, Inc.</td>\n",
       "      <td>OREX</td>\n",
       "      <td>11.93</td>\n",
       "    </tr>\n",
       "    <tr>\n",
       "      <th>2</th>\n",
       "      <td>VelocityShares Daily Inverse VIX Short-Term ETN</td>\n",
       "      <td>XIV</td>\n",
       "      <td>11.89</td>\n",
       "    </tr>\n",
       "  </tbody>\n",
       "</table>\n",
       "</div>"
      ],
      "text/plain": [
       "                                              name symbol  price\n",
       "0                              ArcBest Corporation   ARCB  29.53\n",
       "1                      Orexigen Therapeutics, Inc.   OREX  11.93\n",
       "2  VelocityShares Daily Inverse VIX Short-Term ETN    XIV  11.89"
      ]
     },
     "execution_count": 156,
     "metadata": {
      "tags": []
     },
     "output_type": "execute_result"
    }
   ],
   "source": [
    "stocks[0:3]"
   ]
  },
  {
   "cell_type": "code",
   "execution_count": null,
   "metadata": {
    "colab": {},
    "colab_type": "code",
    "id": "4au9Eq-svSPz",
    "outputId": "76062e8e-d5d1-4ff7-fea2-64822307c832"
   },
   "outputs": [
    {
     "data": {
      "text/html": [
       "<div>\n",
       "<style scoped>\n",
       "    .dataframe tbody tr th:only-of-type {\n",
       "        vertical-align: middle;\n",
       "    }\n",
       "\n",
       "    .dataframe tbody tr th {\n",
       "        vertical-align: top;\n",
       "    }\n",
       "\n",
       "    .dataframe thead th {\n",
       "        text-align: right;\n",
       "    }\n",
       "</style>\n",
       "<table border=\"1\" class=\"dataframe\">\n",
       "  <thead>\n",
       "    <tr style=\"text-align: right;\">\n",
       "      <th></th>\n",
       "      <th>name</th>\n",
       "      <th>price</th>\n",
       "    </tr>\n",
       "  </thead>\n",
       "  <tbody>\n",
       "    <tr>\n",
       "      <th>0</th>\n",
       "      <td>ArcBest Corporation</td>\n",
       "      <td>29.53</td>\n",
       "    </tr>\n",
       "    <tr>\n",
       "      <th>3</th>\n",
       "      <td>Navigant Consulting, Inc.</td>\n",
       "      <td>28.89</td>\n",
       "    </tr>\n",
       "    <tr>\n",
       "      <th>4</th>\n",
       "      <td>General Communication, Inc.</td>\n",
       "      <td>22.16</td>\n",
       "    </tr>\n",
       "  </tbody>\n",
       "</table>\n",
       "</div>"
      ],
      "text/plain": [
       "                          name  price\n",
       "0          ArcBest Corporation  29.53\n",
       "3    Navigant Consulting, Inc.  28.89\n",
       "4  General Communication, Inc.  22.16"
      ]
     },
     "execution_count": 157,
     "metadata": {
      "tags": []
     },
     "output_type": "execute_result"
    }
   ],
   "source": [
    "stocks[['name','price']].sort_values(by = ['price'], ascending=False)[0:3]"
   ]
  },
  {
   "cell_type": "markdown",
   "metadata": {
    "colab_type": "text",
    "id": "d1CgX9fSvSP-"
   },
   "source": [
    "### NumPy\n",
    "\n",
    "NumPy is a Python library that enables us to run computations efficiently when forced to deal with large sets of data. The library has built-in functions that enable us to create arrays on information that is easier to manipulation that a traditional list.\n",
    "\n",
    "Creating a NumPy array is quite easy, simply use the .array() method and pass in the data you would like to transform.\n",
    "\n",
    "```py\n",
    "import numpy as np\n",
    "np.array([1, 2, 3, 4, 5])\n",
    "```\n",
    "\n",
    "To create a NumPy array from a Pandas DataFrame, specify `.values` on the DataFrame. Only the values in the DataFrame will be returned and the label axes are removed.\n",
    "```py\n",
    "import pandas as pd\n",
    "df = pd.DataFrame([1, 2, 3, 4, 5])\n",
    "numpy_array = df.values\n",
    "```\n",
    "\n",
    "#### NumPy Computation Tools: Universal Functions\n",
    "NumPy library contains functions that aid in performing computations on arrays. If we wanted to add two arrays together, use the .add() method and it will return a new array with values added together at each corresponding index. Refer to the chart below for Universal Function examples.\n",
    "    \n",
    "<img src='https://drive.google.com/uc?view=export&id=1bARLx8SYDEsanXCYvpa4nLiOYJirMZxN' />\n",
    "\n",
    "#### NumPy: Indexing \n",
    "\n",
    "Indexing an array is similar to Pandas and list as they are indexed beginning at zero.\n",
    "\n",
    "On a one-dimensional array simply index by specifying the array name and a set of square brackets with the index of the value you want to retrieve inside."
   ]
  },
  {
   "cell_type": "code",
   "execution_count": null,
   "metadata": {
    "colab": {},
    "colab_type": "code",
    "id": "t8ue-oeQvSP-",
    "outputId": "ef446e8f-d847-499b-a643-1d5369922cde"
   },
   "outputs": [
    {
     "name": "stdout",
     "output_type": "stream",
     "text": [
      "3\n"
     ]
    }
   ],
   "source": [
    "import numpy as np\n",
    "\n",
    "# One-Dimensional Array\n",
    "one_d = np.array([1,2,3,4,5])\n",
    "third_val = one_d[2]\n",
    "print(third_val)"
   ]
  },
  {
   "cell_type": "markdown",
   "metadata": {
    "colab_type": "text",
    "id": "OSs1_Xr8vSQG"
   },
   "source": [
    "Indexing an array with more than one-dimension requires a set of square brackets for every level you want to traverse. For example, if you want to retrieve data from the second dimension in an array you will need two sets of square brackets with a value in each. Think of a two-dimensional array as a table with rows and columns or x and y coordinates."
   ]
  },
  {
   "cell_type": "code",
   "execution_count": 4,
   "metadata": {
    "colab": {
     "base_uri": "https://localhost:8080/",
     "height": 34
    },
    "colab_type": "code",
    "executionInfo": {
     "elapsed": 755,
     "status": "ok",
     "timestamp": 1592405954995,
     "user": {
      "displayName": "Armani Bhatti",
      "photoUrl": "https://lh3.googleusercontent.com/a-/AOh14GhbNaKFBQsXNqk_cFN7KJBW1xSXme3ri_FBG4VPZg=s64",
      "userId": "10010754036934906769"
     },
     "user_tz": 240
    },
    "id": "YzjzJ4BrvSQI",
    "outputId": "a79a11ce-f262-40d7-9f05-b960d13367c5"
   },
   "outputs": [
    {
     "name": "stdout",
     "output_type": "stream",
     "text": [
      "9\n"
     ]
    }
   ],
   "source": [
    "two_d = np.array([[1,2,3,4,5],[6,7,8,9,10],[11,12,13,14,15]])\n",
    "\n",
    "# If we want to retrieve the number 9, we will have to go to the second array to the fourth position.\n",
    "# Remember, arrays are zero based.\n",
    "number_nine = two_d[1][3]\n",
    "\n",
    "print(number_nine)"
   ]
  },
  {
   "cell_type": "markdown",
   "metadata": {
    "colab_type": "text",
    "id": "PkgmDvVJvSQN"
   },
   "source": [
    "#### NumPy: Slicing\n",
    "\n",
    "Refer to the slicing chart under **Pandas: Advanced Indexing with Slicing** as the techniques are the same across both datasets."
   ]
  },
  {
   "cell_type": "markdown",
   "metadata": {
    "colab_type": "text",
    "id": "-XheCPX3vSQN"
   },
   "source": [
    "## Activity: Cleaning Data\n",
    "\n",
    "You're working with a dataset that contains information about people's name and age. Your data set is incomplete and contains some null values. Requirements state that you are not to perform computations on any records that are not complete. Compute the mean age of all valid records. \n",
    " - Use the .mean() method provided by the Pandas library"
   ]
  },
  {
   "cell_type": "code",
   "execution_count": null,
   "metadata": {
    "colab": {},
    "colab_type": "code",
    "id": "EZEfCtjKvSQN",
    "outputId": "ba870172-f0f5-46fc-f92e-77886d8b43e1"
   },
   "outputs": [
    {
     "data": {
      "text/html": [
       "<div>\n",
       "<style scoped>\n",
       "    .dataframe tbody tr th:only-of-type {\n",
       "        vertical-align: middle;\n",
       "    }\n",
       "\n",
       "    .dataframe tbody tr th {\n",
       "        vertical-align: top;\n",
       "    }\n",
       "\n",
       "    .dataframe thead th {\n",
       "        text-align: right;\n",
       "    }\n",
       "</style>\n",
       "<table border=\"1\" class=\"dataframe\">\n",
       "  <thead>\n",
       "    <tr style=\"text-align: right;\">\n",
       "      <th></th>\n",
       "      <th>last_name</th>\n",
       "      <th>first_name</th>\n",
       "      <th>age</th>\n",
       "    </tr>\n",
       "  </thead>\n",
       "  <tbody>\n",
       "    <tr>\n",
       "      <th>3</th>\n",
       "      <td>Apricot</td>\n",
       "      <td>Alex</td>\n",
       "      <td>19.0</td>\n",
       "    </tr>\n",
       "    <tr>\n",
       "      <th>6</th>\n",
       "      <td>Appleseed</td>\n",
       "      <td>Finley</td>\n",
       "      <td>42.0</td>\n",
       "    </tr>\n",
       "    <tr>\n",
       "      <th>7</th>\n",
       "      <td>Ranger</td>\n",
       "      <td>Jen</td>\n",
       "      <td>32.0</td>\n",
       "    </tr>\n",
       "  </tbody>\n",
       "</table>\n",
       "</div>"
      ],
      "text/plain": [
       "   last_name first_name   age\n",
       "3    Apricot       Alex  19.0\n",
       "6  Appleseed     Finley  42.0\n",
       "7     Ranger        Jen  32.0"
      ]
     },
     "metadata": {
      "tags": []
     },
     "output_type": "display_data"
    }
   ],
   "source": [
    "import pandas as pd\n",
    "\n",
    "df = pd.DataFrame({\n",
    "    'last_name': ['Smith', None, 'Brown', 'Apricot', 'Anders', None, 'Appleseed', 'Ranger'], \n",
    "    'first_name': [None, 'Zach', 'Erin', 'Alex', None, 'Kelsey', 'Finley', 'Jen'], \n",
    "    'age': [35, 45, None, 19, 21, 30, 42, 32]\n",
    "})\n",
    "\n",
    "df.dropna(inplace=True)\n",
    "display(df)"
   ]
  },
  {
   "cell_type": "markdown",
   "metadata": {
    "colab_type": "text",
    "id": "EtLLDU-psWCr"
   },
   "source": [
    "<div id=\"container\" style=\"position:relative;\">\n",
    "    <div style=\"position:relative; float:right\"><img style=\"height:25px\"\"width: 50px\" src =\"https://drive.google.com/uc?export=view&id=14VoXUJftgptWtdNhtNYVm6cjVmEWpki1\" />\n",
    "    </div>\n",
    "</div>"
   ]
  }
 ],
 "metadata": {
  "colab": {
   "collapsed_sections": [
    "IM0ge_havSOA",
    "p_QIkK3AvSOJ",
    "gabhuFenvSOT",
    "C-scEm2bvSOZ",
    "TM6zmhHWvSO1",
    "PkgmDvVJvSQN"
   ],
   "name": "[Solutions] Unit 4 - Data Manipulation.ipynb",
   "provenance": []
  },
  "kernelspec": {
   "display_name": "Python 3",
   "language": "python",
   "name": "python3"
  },
  "language_info": {
   "codemirror_mode": {
    "name": "ipython",
    "version": 3
   },
   "file_extension": ".py",
   "mimetype": "text/x-python",
   "name": "python",
   "nbconvert_exporter": "python",
   "pygments_lexer": "ipython3",
   "version": "3.8.5"
  }
 },
 "nbformat": 4,
 "nbformat_minor": 1
}
